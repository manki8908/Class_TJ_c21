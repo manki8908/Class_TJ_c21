{
 "cells": [
  {
   "attachments": {},
   "cell_type": "markdown",
   "metadata": {},
   "source": [
    "* 윈도우에서는 DBMS의 파일을 보지 못함\n",
    "* DB 소스코드랑, DBMS 응용프로그램과는 엄연한 차이가 있음\n",
    "\n",
    "\n",
    "* 필기\n",
    "  * cd C:\\workspace\\VScode_project\\prj2\\실습\\DATA"
   ]
  }
 ],
 "metadata": {
  "kernelspec": {
   "display_name": "Python 3",
   "language": "python",
   "name": "python3"
  },
  "language_info": {
   "codemirror_mode": {
    "name": "ipython",
    "version": 3
   },
   "file_extension": ".py",
   "mimetype": "text/x-python",
   "name": "python",
   "nbconvert_exporter": "python",
   "pygments_lexer": "ipython3",
   "version": "3.8.7"
  },
  "orig_nbformat": 4
 },
 "nbformat": 4,
 "nbformat_minor": 2
}
