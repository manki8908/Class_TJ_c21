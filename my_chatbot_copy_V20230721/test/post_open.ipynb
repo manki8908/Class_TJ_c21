{
 "cells": [
  {
   "cell_type": "code",
   "execution_count": 1,
   "metadata": {},
   "outputs": [
    {
     "name": "stdout",
     "output_type": "stream",
     "text": [
      "Collecting psycopg2\n",
      "  Downloading psycopg2-2.9.6-cp38-cp38-win_amd64.whl (1.2 MB)\n",
      "                                              0.0/1.2 MB ? eta -:--:--\n",
      "     ---------------------------------------  1.1/1.2 MB 24.2 MB/s eta 0:00:01\n",
      "     ---------------------------------------- 1.2/1.2 MB 18.4 MB/s eta 0:00:00\n",
      "Installing collected packages: psycopg2\n",
      "Successfully installed psycopg2-2.9.6\n"
     ]
    }
   ],
   "source": [
    "!pip install psycopg2"
   ]
  },
  {
   "cell_type": "code",
   "execution_count": 12,
   "metadata": {},
   "outputs": [
    {
     "name": "stdout",
     "output_type": "stream",
     "text": [
      "relation \"pg_catalog.pg_namespace​\" does not exist\n",
      "LINE 1: select * from pg_catalog.pg_namespace​\n",
      "                      ^\n",
      "\n",
      "DB 연결 닫기 성공\n"
     ]
    }
   ],
   "source": [
    "import psycopg2\n",
    "\n",
    "\n",
    "file_name = r'C:\\Users\\tjoeun\\Desktop\\수업자료\\프로젝트2\\postgresq_pwd.txt'\n",
    "\n",
    "\n",
    "with open(file_name, 'r', encoding='utf-8') as f:\n",
    "    pwd = f.readline()\n",
    "\n",
    "\n",
    "try:\n",
    "\n",
    "    # db 연동 객체 \n",
    "    conn = psycopg2.connect(\n",
    "        host='3.34.18.184',\n",
    "        user='root',\n",
    "        password=pwd.strip(),\n",
    "        #dbname='prj2',\n",
    "        port=5432)\n",
    "    \n",
    "    # sql문 실행 객체\n",
    "    cursor = conn.cursor()\n",
    "\n",
    "    # db 학인\n",
    "    sql = \"select * from pg_catalog.pg_namespace​\"\n",
    "    cursor.execute(sql)\n",
    "    conn.commit() # db 반\n",
    "    dbs =   cursor.fetchall()\n",
    "    print(dbs)\n",
    "\n",
    "\n",
    "    # # -------------- 초기화 \n",
    "    # # db가 없으면 생성\n",
    "    # sql = \"create database if not exists test_db;\"\n",
    "    # cursor.execute(sql)\n",
    "    # conn.commit() # db 반\n",
    "    # sql = \"show databases\"\n",
    "    # cursor.execute(sql)\n",
    "    # dbs =   cursor.fetchall()\n",
    "    # print(dbs)\n",
    "    #         # table 유무 확인\n",
    "    # if dbs:\n",
    "    #     print('DataBase 있음')\n",
    "    # else:\n",
    "    #     print('DataBase 없음')\n",
    "    \n",
    "except Exception as e:\n",
    "    print(e)\n",
    "\n",
    "finally:\n",
    "\n",
    "    if conn is not None:\n",
    "        conn.close()\n",
    "        print(\"DB 연결 닫기 성공\")\n"
   ]
  }
 ],
 "metadata": {
  "kernelspec": {
   "display_name": "Python 3",
   "language": "python",
   "name": "python3"
  },
  "language_info": {
   "codemirror_mode": {
    "name": "ipython",
    "version": 3
   },
   "file_extension": ".py",
   "mimetype": "text/x-python",
   "name": "python",
   "nbconvert_exporter": "python",
   "pygments_lexer": "ipython3",
   "version": "3.8.7"
  },
  "orig_nbformat": 4
 },
 "nbformat": 4,
 "nbformat_minor": 2
}
