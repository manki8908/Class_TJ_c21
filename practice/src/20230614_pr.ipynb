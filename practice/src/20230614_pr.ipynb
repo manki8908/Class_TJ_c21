{
 "cells": [
  {
   "cell_type": "code",
   "execution_count": 1,
   "metadata": {},
   "outputs": [
    {
     "name": "stdout",
     "output_type": "stream",
     "text": [
      "Requirement already satisfied: openpyxl in c:\\python38\\lib\\site-packages (3.1.2)\n",
      "Requirement already satisfied: et-xmlfile in c:\\python38\\lib\\site-packages (from openpyxl) (1.1.0)\n"
     ]
    }
   ],
   "source": [
    "!pip install openpyxl"
   ]
  },
  {
   "cell_type": "code",
   "execution_count": 3,
   "metadata": {},
   "outputs": [],
   "source": [
    "import openpyxl"
   ]
  },
  {
   "cell_type": "code",
   "execution_count": 7,
   "metadata": {},
   "outputs": [
    {
     "name": "stdout",
     "output_type": "stream",
     "text": [
      "3 6\n",
      "이름\n",
      "Kei\n",
      "<class 'openpyxl.workbook.workbook.Workbook'>\n",
      "<Worksheet \"Sheet1\">\n"
     ]
    }
   ],
   "source": [
    "wb = openpyxl.load_workbook('../DATA/sample.xlsx')\n",
    "sheet = wb['Sheet1']\n",
    "print(sheet.max_column, sheet.max_row)\n",
    "print(sheet.cell(row=1, column=1).value)\n",
    "print(sheet.cell(row=2, column=1).value)\n",
    "print(type(wb))\n",
    "wb.close()\n",
    "\n",
    "print(sheet)"
   ]
  },
  {
   "cell_type": "code",
   "execution_count": 8,
   "metadata": {},
   "outputs": [
    {
     "name": "stdout",
     "output_type": "stream",
     "text": [
      "Kei\n",
      "35\n",
      "1234-1234\n",
      "----------\n",
      "Hong\n",
      "26\n",
      "4320-1420\n",
      "----------\n",
      "Kim\n",
      "41\n",
      "1234-5678\n",
      "----------\n",
      "Choi\n",
      "38\n",
      "4023-3411\n",
      "----------\n",
      "Go\n",
      "27\n",
      "1469-4023\n",
      "----------\n"
     ]
    }
   ],
   "source": [
    "wb = openpyxl.load_workbook('../DATA/sample.xlsx')\n",
    "sheet = wb['Sheet1']\n",
    "\n",
    "for row in sheet.iter_rows(min_row=2):\n",
    "    for cell in row:\n",
    "        print(cell.value)\n",
    "    print('-'*10)\n",
    "wb.close()"
   ]
  },
  {
   "cell_type": "code",
   "execution_count": 10,
   "metadata": {},
   "outputs": [],
   "source": [
    "wb = openpyxl.Workbook()\n",
    "sheet = wb.active\n",
    "sheet.title = '회원정보'\n",
    "header_titles = ['이름', '전화번호']\n",
    "for idx, title in enumerate(header_titles):\n",
    "    sheet.cell(row=1, column=idx+1, value=title)\n",
    "\n",
    "members = [('kei', '010-1234-1234'), ('hong', '010-4321-1234')]\n",
    "row_num = 2\n",
    "for r, member in enumerate(members):\n",
    "    for c, v in enumerate(member):\n",
    "        sheet.cell(row=row_num+r, column=c+1, value=v)\n",
    "\n",
    "wb.save('../DATA/members.xlsx')\n",
    "wb.close()\n"
   ]
  },
  {
   "cell_type": "code",
   "execution_count": 11,
   "metadata": {},
   "outputs": [
    {
     "name": "stdout",
     "output_type": "stream",
     "text": [
      "<class 'pandas.core.frame.DataFrame'>\n",
      "RangeIndex: 20000 entries, 0 to 19999\n",
      "Data columns (total 3 columns):\n",
      " #   Column  Non-Null Count  Dtype \n",
      "---  ------  --------------  ----- \n",
      " 0   height  20000 non-null  int64 \n",
      " 1   weight  20000 non-null  int64 \n",
      " 2   label   20000 non-null  object\n",
      "dtypes: int64(2), object(1)\n",
      "memory usage: 468.9+ KB\n",
      "None\n",
      "테이블 없음\n",
      "100 레코드 추가\n"
     ]
    }
   ],
   "source": [
    "'''\n",
    "csv -> db table\n",
    "  1차 실행 : table 생성 -> 레코드 추가\n",
    "  2차 실행 : 레코드 검색\n",
    "'''\n",
    "\n",
    "import pandas as pd\n",
    "import pymysql\n",
    "\n",
    "bmi = pd.read_csv(\"../DATA/bmi.csv\")\n",
    "print(bmi.info())\n",
    "\n",
    "height = bmi['height']\n",
    "weight = bmi['weight']\n",
    "label = bmi['label']\n",
    "\n",
    "config = {\n",
    "    'host' : '127.0.0.1',\n",
    "    'user' : 'root',\n",
    "    'password' : '0000',\n",
    "    'database' : 'work',\n",
    "    'port' : 3306,\n",
    "    'charset':'utf8',\n",
    "    'use_unicode' : True}\n",
    "\n",
    "try :\n",
    "    conn = pymysql.connect(**config)\n",
    "    cursor = conn.cursor()\n",
    "\n",
    "    # table 조회\n",
    "    cursor.execute(\"show tables\")\n",
    "    tables = cursor.fetchall()\n",
    "    sw = False\n",
    "    for table in tables :\n",
    "        #print(table) # ('bmi_tab',)\n",
    "        #print(table[0]) # bmi_tab\n",
    "        if table[0] == 'bmi_tab' :\n",
    "            sw = True # table 있는 경우 swapping\n",
    "\n",
    "    if not sw :\n",
    "        print('테이블 없음')\n",
    "        # table 없으면 생성\n",
    "        sql=\"\"\"create table bmi_tab(\n",
    "        height int not null,\n",
    "        weight int not null,\n",
    "        label varchar(15) not null\n",
    "        )\"\"\"\n",
    "        cursor.execute(sql)\n",
    "\n",
    "    cursor.execute(\"select * from bmi_tab\")\n",
    "    rows = cursor.fetchall()\n",
    "    if rows : # 레코드 있는 경우 : 레코드 조회\n",
    "        for row in rows :\n",
    "            print(f\"{row[0]}    {row[1]}    {row[2]}\")\n",
    "\n",
    "        print('전체 레코드 수 : ', len(rows))\n",
    "    else: # 레코드 없는 경우 : 레코드 추가\n",
    "        print(\"100 레코드 추가\")\n",
    "        for i in range(100) :\n",
    "            h = height[i]\n",
    "            w = weight[i]\n",
    "            l = label[i]\n",
    "            cursor.execute(f\"insert into bmi_tab values({h}, {w}, '{l}')\")\n",
    "            conn.commit()\n",
    "\n",
    "except Exception as e:\n",
    "    print('db error :', e)\n",
    "finally:\n",
    "    cursor.close()\n",
    "    conn.close()\n",
    "\n",
    "\n",
    "# exam04"
   ]
  }
 ],
 "metadata": {
  "kernelspec": {
   "display_name": "Python 3",
   "language": "python",
   "name": "python3"
  },
  "language_info": {
   "codemirror_mode": {
    "name": "ipython",
    "version": 3
   },
   "file_extension": ".py",
   "mimetype": "text/x-python",
   "name": "python",
   "nbconvert_exporter": "python",
   "pygments_lexer": "ipython3",
   "version": "3.8.7"
  },
  "orig_nbformat": 4
 },
 "nbformat": 4,
 "nbformat_minor": 2
}
