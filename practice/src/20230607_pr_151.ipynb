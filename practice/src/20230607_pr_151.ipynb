{
 "cells": [
  {
   "cell_type": "code",
   "execution_count": 10,
   "metadata": {},
   "outputs": [
    {
     "name": "stdout",
     "output_type": "stream",
     "text": [
      "~~객체 생성~~\n",
      "0\n"
     ]
    }
   ],
   "source": [
    "'''\n",
    "클래스(class)?\n",
    " - 함수의 모임\n",
    " - 역할 : 다수의 함수와 공유 자료를 묶어서 객체 생성\n",
    " - 구성 : 멤버(member) + 생성자 \n",
    " - 멤버 : 변수(자료) + 함수(기능) \n",
    " - 유형 : 사용자 정의 클래스, 내장 클래스(python)\n",
    " - 형식)\n",
    " class 클래스 :\n",
    "     멤버(member) : 변수, 함수 \n",
    "     생성자 : 객체 생성 \n",
    "'''\n",
    "\n",
    "# (1) 함수와 클래스\n",
    "\n",
    "# 클래스 정의\n",
    "class calc_class :\n",
    "    # class 변수 선언\n",
    "    x = y = 0\n",
    "    count = 0\n",
    "    \n",
    "    # 생성자 : 객체 생성 + [멤버변수 동적할당] \n",
    "    def __init__(self, a):\n",
    "        print('~~객체 생성~~')\n",
    "        self.x = a # 10\n",
    "        #self.y = b # 20\n",
    "        calc_class.count += 1\n",
    "    \n",
    "    # 멤버 함수(기능)\n",
    "    def plus(self): # self : 멤버(변수+함수) 참조 객체 \n",
    "        p = self.x + self.y\n",
    "        '''\n",
    "        p : 지역변수 \n",
    "        self.x, self.y : 전역변수  \n",
    "        '''\n",
    "        return p \n",
    "    \n",
    "    def minus(self):\n",
    "        m = self.x - self.y\n",
    "        return m\n",
    "    \n",
    "      \n",
    "# class(1) -> object(n) 생성 \n",
    "#obj1 = calc_class(10, 20) # 생성자 -> 객체1  \n",
    "obj2 = calc_class(10) # 생성자 -> 객체1  \n",
    "\n",
    "# # object.member()  \n",
    "# print('plus = ', obj1.plus()) # plus =  30\n",
    "# print('minus =', obj1.minus()) # minus = -10\n",
    "\n",
    "# obj2 = calc_class(100, 50) # 생성자 -> 객체2\n",
    "# print('plus = ', obj2.plus()) # plus =  150\n",
    "# print('minus =', obj2.minus()) # minus = 50\n",
    "\n",
    "# print(id(obj1), id(obj2)) # 9498096 9498000\n",
    "\n",
    "#obj1.x = 100\n",
    "print(obj2.y)\n",
    "#print(calc_class.y)\n",
    "\n",
    "\n",
    "\n"
   ]
  }
 ],
 "metadata": {
  "kernelspec": {
   "display_name": "Python 3",
   "language": "python",
   "name": "python3"
  },
  "language_info": {
   "codemirror_mode": {
    "name": "ipython",
    "version": 3
   },
   "file_extension": ".py",
   "mimetype": "text/x-python",
   "name": "python",
   "nbconvert_exporter": "python",
   "pygments_lexer": "ipython3",
   "version": "3.8.7"
  },
  "orig_nbformat": 4
 },
 "nbformat": 4,
 "nbformat_minor": 2
}
