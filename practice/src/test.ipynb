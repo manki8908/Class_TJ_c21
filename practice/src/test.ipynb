{
 "cells": [
  {
   "cell_type": "code",
   "execution_count": 3,
   "metadata": {},
   "outputs": [],
   "source": [
    "import numpy as np\n",
    "import pandas as pd\n",
    "\n"
   ]
  },
  {
   "cell_type": "code",
   "execution_count": 4,
   "metadata": {},
   "outputs": [
    {
     "name": "stdout",
     "output_type": "stream",
     "text": [
      "   a  b  c  d  e\n",
      "0  0  0  0  0  0\n",
      "1  0  0  0  0  0\n",
      "2  0  0  0  0  0\n",
      "   a  d\n",
      "0  0  0\n",
      "1  0  0\n",
      "2  0  0\n",
      "3  0  0\n",
      "4  0  0\n"
     ]
    }
   ],
   "source": [
    "a = pd.DataFrame(np.ones((5,5)))\n",
    "a = a.reindex(columns=[\"a\", \"b\", \"c\", \"d\", \"e\"], fill_value=0)\n",
    "#print(list(a.index))\n",
    "#print(list(a.columns))\n",
    "#print(a)\n",
    "print(a[0:3])\n",
    "print(a[['a','d']])\n"
   ]
  },
  {
   "cell_type": "code",
   "execution_count": 5,
   "metadata": {},
   "outputs": [
    {
     "ename": "ValueError",
     "evalue": "invalid literal for int() with base 10: ''",
     "output_type": "error",
     "traceback": [
      "\u001b[1;31m---------------------------------------------------------------------------\u001b[0m",
      "\u001b[1;31mValueError\u001b[0m                                Traceback (most recent call last)",
      "Cell \u001b[1;32mIn[5], line 1\u001b[0m\n\u001b[1;32m----> 1\u001b[0m a \u001b[39m=\u001b[39m {\u001b[39m'\u001b[39m\u001b[39mname\u001b[39m\u001b[39m'\u001b[39m:\u001b[39minput\u001b[39m(\u001b[39m'\u001b[39m\u001b[39m상품명 : \u001b[39m\u001b[39m'\u001b[39m), \u001b[39m'\u001b[39m\u001b[39msu\u001b[39m\u001b[39m'\u001b[39m:\u001b[39mint\u001b[39;49m(\u001b[39minput\u001b[39;49m(\u001b[39m'\u001b[39;49m\u001b[39m수량 :\u001b[39;49m\u001b[39m'\u001b[39;49m))}\n\u001b[0;32m      2\u001b[0m \u001b[39mprint\u001b[39m(a[\u001b[39m'\u001b[39m\u001b[39mname\u001b[39m\u001b[39m'\u001b[39m], a[\u001b[39m'\u001b[39m\u001b[39msu\u001b[39m\u001b[39m'\u001b[39m])\n",
      "\u001b[1;31mValueError\u001b[0m: invalid literal for int() with base 10: ''"
     ]
    }
   ],
   "source": [
    "a = {'name':input('상품명 : '), 'su':int(input('수량 :'))}\n",
    "print(a['name'], a['su'])\n"
   ]
  },
  {
   "cell_type": "code",
   "execution_count": 7,
   "metadata": {},
   "outputs": [
    {
     "name": "stdout",
     "output_type": "stream",
     "text": [
      "Collecting scikit-learn\n",
      "  Downloading scikit_learn-1.2.2-cp38-cp38-win_amd64.whl (8.3 MB)\n",
      "                                              0.0/8.3 MB ? eta -:--:--\n",
      "     --------------                           3.0/8.3 MB 63.2 MB/s eta 0:00:01\n",
      "     ------------------------                 5.1/8.3 MB 54.1 MB/s eta 0:00:01\n",
      "     ---------------------------              5.8/8.3 MB 41.0 MB/s eta 0:00:01\n",
      "     ------------------------------           6.3/8.3 MB 33.6 MB/s eta 0:00:01\n",
      "     -----------------------------------      7.3/8.3 MB 30.9 MB/s eta 0:00:01\n",
      "     ---------------------------------------  8.3/8.3 MB 31.1 MB/s eta 0:00:01\n",
      "     ---------------------------------------- 8.3/8.3 MB 26.4 MB/s eta 0:00:00\n",
      "Requirement already satisfied: numpy>=1.17.3 in c:\\python38\\lib\\site-packages (from scikit-learn) (1.24.2)\n",
      "Requirement already satisfied: scipy>=1.3.2 in c:\\python38\\lib\\site-packages (from scikit-learn) (1.10.1)\n",
      "Requirement already satisfied: joblib>=1.1.1 in c:\\python38\\lib\\site-packages (from scikit-learn) (1.2.0)\n",
      "Collecting threadpoolctl>=2.0.0 (from scikit-learn)\n",
      "  Downloading threadpoolctl-3.1.0-py3-none-any.whl (14 kB)\n",
      "Installing collected packages: threadpoolctl, scikit-learn\n",
      "Successfully installed scikit-learn-1.2.2 threadpoolctl-3.1.0\n"
     ]
    }
   ],
   "source": [
    "!pip install scikit-learn"
   ]
  },
  {
   "cell_type": "code",
   "execution_count": 9,
   "metadata": {},
   "outputs": [],
   "source": [
    "from sklearn.datasets import load_iris"
   ]
  },
  {
   "cell_type": "code",
   "execution_count": 16,
   "metadata": {},
   "outputs": [
    {
     "name": "stdout",
     "output_type": "stream",
     "text": [
      "   sepal length (cm)  sepal width (cm)  petal length (cm)  petal width (cm)  \\\n",
      "0                5.1               3.5                1.4               0.2   \n",
      "1                4.9               3.0                1.4               0.2   \n",
      "2                4.7               3.2                1.3               0.2   \n",
      "\n",
      "   lable  \n",
      "0      0  \n",
      "1      0  \n",
      "2      0  \n"
     ]
    }
   ],
   "source": [
    "iris = load_iris()\n",
    "type(iris)\n",
    "iris_df = pd.DataFrame(data=iris.data, columns=iris.feature_names)\n",
    "iris_df['lable'] = iris.target\n",
    "print(iris_df.head(3))"
   ]
  },
  {
   "cell_type": "code",
   "execution_count": 19,
   "metadata": {},
   "outputs": [
    {
     "name": "stdout",
     "output_type": "stream",
     "text": [
      "<class 'str'> __module__\n",
      "<class 'function'> __init__\n",
      "<class 'function'> method1\n",
      "<class 'function'> method2\n",
      "<class 'getset_descriptor'> __dict__\n",
      "<class 'getset_descriptor'> __weakref__\n",
      "<class 'NoneType'> __doc__\n",
      "==================================================\n"
     ]
    }
   ],
   "source": [
    "class publicCircle:\n",
    "    def __init__(self, name, radius):\n",
    "        self.name = name\n",
    "        self.radius  = radius\n",
    "\n",
    "    def method1(self):\n",
    "        print(self.name)\n",
    "\n",
    "    def method2(self):\n",
    "        print(self.radius)\n",
    "\n",
    "a = publicCircle('abc', '111')\n",
    "for i in publicCircle.__dict__:\n",
    "    #if not i.startswith(\"_\"):\n",
    "#for i in a.__dict__:\n",
    "        print(type(publicCircle.__dict__[i]), i)\n",
    "\n",
    "print(\"=\"*50)\n",
    "\n",
    "# for i in dir(publicCircle):\n",
    "#     if not i.startswith(\"_\"):\n",
    "# #for i in a.__dict__:\n",
    "#         print(type(publicCircle.__dict__[i]), i)\n",
    "#         #print(i)"
   ]
  }
 ],
 "metadata": {
  "kernelspec": {
   "display_name": "Python 3",
   "language": "python",
   "name": "python3"
  },
  "language_info": {
   "codemirror_mode": {
    "name": "ipython",
    "version": 3
   },
   "file_extension": ".py",
   "mimetype": "text/x-python",
   "name": "python",
   "nbconvert_exporter": "python",
   "pygments_lexer": "ipython3",
   "version": "3.8.7"
  },
  "orig_nbformat": 4
 },
 "nbformat": 4,
 "nbformat_minor": 2
}
