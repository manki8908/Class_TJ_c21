{
 "cells": [
  {
   "cell_type": "code",
   "execution_count": 2,
   "metadata": {},
   "outputs": [],
   "source": [
    "import datetime\n",
    "from datetime import datetime, date\n",
    "import pandas as pd\n",
    "import numpy as np\n",
    "import matplotlib.pyplot as plt\n",
    "pd.set_option('display.notebook_repr_html', True)\n",
    "pd.set_option('display.max_columns', 7)\n",
    "pd.set_option('display.max_rows', 10)\n",
    "pd.set_option('display.width', 250)\n",
    "%matplotlib inline "
   ]
  },
  {
   "attachments": {},
   "cell_type": "markdown",
   "metadata": {},
   "source": [
    "1-1. filetest.txt 파일을 오픈하고 읽어서 txt_t1 스트링 변수에 저장하고 출력하세요."
   ]
  },
  {
   "cell_type": "code",
   "execution_count": 53,
   "metadata": {},
   "outputs": [
    {
     "name": "stdout",
     "output_type": "stream",
     "text": [
      "<class 'str'>\n",
      "홍길동-202001001\n",
      "\n",
      "aa이순신-202001002\n",
      "\n",
      "강감찬-202001003\n",
      "\n",
      "이성계-202001004\n",
      "\n",
      "bv을지문덕-202001005\n",
      "\n",
      "연개소문-202001006\n",
      "\n",
      "안중근-202001007\n",
      "\n",
      "cx김구-202001008\n",
      "\n",
      "정도전-202001009\n",
      "\n",
      "이황-202001010\n",
      "\n",
      "유재석-202001011\n",
      "\n",
      "박명수-202001012\n",
      "\n",
      "정준하-202001013\n",
      "\n",
      "qe정형돈-202001014\n",
      "\n",
      "노홍철-202001015\n",
      "\n",
      "하동훈-202001016\n",
      "16\n"
     ]
    }
   ],
   "source": [
    "with open(\"../DATA/filetest.txt\", encoding='utf8') as f:\n",
    "    txt_t1 = f.readlines()\n",
    "\n",
    "print(type(txt_t1[0]))\n",
    "for i in txt_t1:\n",
    "    print(i)\n",
    "print(len(txt_t1))"
   ]
  },
  {
   "attachments": {},
   "cell_type": "markdown",
   "metadata": {},
   "source": [
    "1-2. 위 파일을 오픈하고 읽어서 ls_1 리스트 변수에 저장하고 출력하세요."
   ]
  },
  {
   "cell_type": "code",
   "execution_count": 50,
   "metadata": {},
   "outputs": [
    {
     "name": "stdout",
     "output_type": "stream",
     "text": [
      "<class 'list'>\n",
      "홍길동-202001001\n",
      "\n",
      "aa이순신-202001002\n",
      "\n",
      "강감찬-202001003\n",
      "\n",
      "이성계-202001004\n",
      "\n",
      "bv을지문덕-202001005\n",
      "\n",
      "연개소문-202001006\n",
      "\n",
      "안중근-202001007\n",
      "\n",
      "cx김구-202001008\n",
      "\n",
      "정도전-202001009\n",
      "\n",
      "이황-202001010\n",
      "\n",
      "유재석-202001011\n",
      "\n",
      "박명수-202001012\n",
      "\n",
      "정준하-202001013\n",
      "\n",
      "qe정형돈-202001014\n",
      "\n",
      "노홍철-202001015\n",
      "\n",
      "하동훈-202001016\n"
     ]
    }
   ],
   "source": [
    "with open(\"../DATA/filetest.txt\", encoding='utf8') as f:\n",
    "    ls_1 = f.readlines()\n",
    "    \n",
    "print(type(ls_1))\n",
    "for i in ls_1:\n",
    "    print(i)"
   ]
  },
  {
   "attachments": {},
   "cell_type": "markdown",
   "metadata": {},
   "source": [
    "1-3. 위 파일에서 이름 앞의 영문자를 정규식을 이용하여 제거하세요."
   ]
  },
  {
   "cell_type": "code",
   "execution_count": 56,
   "metadata": {},
   "outputs": [],
   "source": [
    "import re\n",
    "\n",
    "\n",
    "ls_1_rm = []\n",
    "for i in ls_1:\n",
    "    text = re.sub(\"[a-zA-Z]\", \"\", i)\n",
    "    ls_1_rm.append(text.strip())\n",
    "\n",
    "for i in ls_1_rm:\n",
    "    print(i)"
   ]
  },
  {
   "cell_type": "code",
   "execution_count": 57,
   "metadata": {},
   "outputs": [
    {
     "name": "stdout",
     "output_type": "stream",
     "text": [
      "홍길동-202001001\n",
      "이순신-202001002\n",
      "강감찬-202001003\n",
      "이성계-202001004\n",
      "을지문덕-202001005\n",
      "연개소문-202001006\n",
      "안중근-202001007\n",
      "김구-202001008\n",
      "정도전-202001009\n",
      "이황-202001010\n",
      "유재석-202001011\n",
      "박명수-202001012\n",
      "정준하-202001013\n",
      "정형돈-202001014\n",
      "노홍철-202001015\n",
      "하동훈-202001016\n"
     ]
    }
   ],
   "source": []
  },
  {
   "attachments": {},
   "cell_type": "markdown",
   "metadata": {},
   "source": [
    "1-4. 위 파일에서 이름과 하이픈 뒤의 학번을 분리하여 각각의 다른 리스트에 저장하세요."
   ]
  },
  {
   "cell_type": "code",
   "execution_count": 60,
   "metadata": {},
   "outputs": [],
   "source": [
    "name = []\n",
    "num = []\n",
    "len(ls_1_rm)\n",
    "\n",
    "for i in ls_1_rm:\n",
    "    name.append(i.split(\"-\")[0])\n",
    "    num.append(i.split(\"-\")[1])\n",
    "\n",
    "for i in range(len(name)):\n",
    "    print(name[i], num[i])"
   ]
  },
  {
   "cell_type": "code",
   "execution_count": 61,
   "metadata": {},
   "outputs": [
    {
     "name": "stdout",
     "output_type": "stream",
     "text": [
      "홍길동 202001001\n",
      "이순신 202001002\n",
      "강감찬 202001003\n",
      "이성계 202001004\n",
      "을지문덕 202001005\n",
      "연개소문 202001006\n",
      "안중근 202001007\n",
      "김구 202001008\n",
      "정도전 202001009\n",
      "이황 202001010\n",
      "유재석 202001011\n",
      "박명수 202001012\n",
      "정준하 202001013\n",
      "정형돈 202001014\n",
      "노홍철 202001015\n",
      "하동훈 202001016\n"
     ]
    }
   ],
   "source": []
  },
  {
   "attachments": {},
   "cell_type": "markdown",
   "metadata": {},
   "source": [
    "1-5 각각 저장된 다른 리스트를 이용하여 데이터 프레임을 만드세요. \\\n",
    "   이때, 데이터 프레임에서 사용하는 인덱스는 학번이 저장된 리스트로 지정하세요."
   ]
  },
  {
   "cell_type": "code",
   "execution_count": 63,
   "metadata": {},
   "outputs": [
    {
     "data": {
      "text/html": [
       "<div>\n",
       "<style scoped>\n",
       "    .dataframe tbody tr th:only-of-type {\n",
       "        vertical-align: middle;\n",
       "    }\n",
       "\n",
       "    .dataframe tbody tr th {\n",
       "        vertical-align: top;\n",
       "    }\n",
       "\n",
       "    .dataframe thead th {\n",
       "        text-align: right;\n",
       "    }\n",
       "</style>\n",
       "<table border=\"1\" class=\"dataframe\">\n",
       "  <thead>\n",
       "    <tr style=\"text-align: right;\">\n",
       "      <th></th>\n",
       "      <th>이름</th>\n",
       "    </tr>\n",
       "    <tr>\n",
       "      <th>학번</th>\n",
       "      <th></th>\n",
       "    </tr>\n",
       "  </thead>\n",
       "  <tbody>\n",
       "    <tr>\n",
       "      <th>202001001</th>\n",
       "      <td>홍길동</td>\n",
       "    </tr>\n",
       "    <tr>\n",
       "      <th>202001002</th>\n",
       "      <td>이순신</td>\n",
       "    </tr>\n",
       "    <tr>\n",
       "      <th>202001003</th>\n",
       "      <td>강감찬</td>\n",
       "    </tr>\n",
       "    <tr>\n",
       "      <th>202001004</th>\n",
       "      <td>이성계</td>\n",
       "    </tr>\n",
       "    <tr>\n",
       "      <th>202001005</th>\n",
       "      <td>을지문덕</td>\n",
       "    </tr>\n",
       "    <tr>\n",
       "      <th>...</th>\n",
       "      <td>...</td>\n",
       "    </tr>\n",
       "    <tr>\n",
       "      <th>202001012</th>\n",
       "      <td>박명수</td>\n",
       "    </tr>\n",
       "    <tr>\n",
       "      <th>202001013</th>\n",
       "      <td>정준하</td>\n",
       "    </tr>\n",
       "    <tr>\n",
       "      <th>202001014</th>\n",
       "      <td>정형돈</td>\n",
       "    </tr>\n",
       "    <tr>\n",
       "      <th>202001015</th>\n",
       "      <td>노홍철</td>\n",
       "    </tr>\n",
       "    <tr>\n",
       "      <th>202001016</th>\n",
       "      <td>하동훈</td>\n",
       "    </tr>\n",
       "  </tbody>\n",
       "</table>\n",
       "<p>16 rows × 1 columns</p>\n",
       "</div>"
      ],
      "text/plain": [
       "             이름\n",
       "학번             \n",
       "202001001   홍길동\n",
       "202001002   이순신\n",
       "202001003   강감찬\n",
       "202001004   이성계\n",
       "202001005  을지문덕\n",
       "...         ...\n",
       "202001012   박명수\n",
       "202001013   정준하\n",
       "202001014   정형돈\n",
       "202001015   노홍철\n",
       "202001016   하동훈\n",
       "\n",
       "[16 rows x 1 columns]"
      ]
     },
     "execution_count": 63,
     "metadata": {},
     "output_type": "execute_result"
    }
   ],
   "source": [
    "df = pd.DataFrame({\"학번\":num, '이름':name})\n",
    "df.set_index(\"학번\")\n",
    "\n",
    "df[0::2]\n",
    "df[1::2]"
   ]
  },
  {
   "attachments": {},
   "cell_type": "markdown",
   "metadata": {},
   "source": [
    "1-6. 만들어진 데이터 프레임에서 학번이 홀수인 것과 짝수인 것을 각각 따로 출력하세요."
   ]
  },
  {
   "cell_type": "code",
   "execution_count": 64,
   "metadata": {},
   "outputs": [
    {
     "data": {
      "text/html": [
       "<div>\n",
       "<style scoped>\n",
       "    .dataframe tbody tr th:only-of-type {\n",
       "        vertical-align: middle;\n",
       "    }\n",
       "\n",
       "    .dataframe tbody tr th {\n",
       "        vertical-align: top;\n",
       "    }\n",
       "\n",
       "    .dataframe thead th {\n",
       "        text-align: right;\n",
       "    }\n",
       "</style>\n",
       "<table border=\"1\" class=\"dataframe\">\n",
       "  <thead>\n",
       "    <tr style=\"text-align: right;\">\n",
       "      <th></th>\n",
       "      <th>학번</th>\n",
       "      <th>이름</th>\n",
       "    </tr>\n",
       "  </thead>\n",
       "  <tbody>\n",
       "    <tr>\n",
       "      <th>0</th>\n",
       "      <td>202001001</td>\n",
       "      <td>홍길동</td>\n",
       "    </tr>\n",
       "    <tr>\n",
       "      <th>2</th>\n",
       "      <td>202001003</td>\n",
       "      <td>강감찬</td>\n",
       "    </tr>\n",
       "    <tr>\n",
       "      <th>4</th>\n",
       "      <td>202001005</td>\n",
       "      <td>을지문덕</td>\n",
       "    </tr>\n",
       "    <tr>\n",
       "      <th>6</th>\n",
       "      <td>202001007</td>\n",
       "      <td>안중근</td>\n",
       "    </tr>\n",
       "    <tr>\n",
       "      <th>8</th>\n",
       "      <td>202001009</td>\n",
       "      <td>정도전</td>\n",
       "    </tr>\n",
       "    <tr>\n",
       "      <th>10</th>\n",
       "      <td>202001011</td>\n",
       "      <td>유재석</td>\n",
       "    </tr>\n",
       "    <tr>\n",
       "      <th>12</th>\n",
       "      <td>202001013</td>\n",
       "      <td>정준하</td>\n",
       "    </tr>\n",
       "    <tr>\n",
       "      <th>14</th>\n",
       "      <td>202001015</td>\n",
       "      <td>노홍철</td>\n",
       "    </tr>\n",
       "  </tbody>\n",
       "</table>\n",
       "</div>"
      ],
      "text/plain": [
       "           학번    이름\n",
       "0   202001001   홍길동\n",
       "2   202001003   강감찬\n",
       "4   202001005  을지문덕\n",
       "6   202001007   안중근\n",
       "8   202001009   정도전\n",
       "10  202001011   유재석\n",
       "12  202001013   정준하\n",
       "14  202001015   노홍철"
      ]
     },
     "execution_count": 64,
     "metadata": {},
     "output_type": "execute_result"
    }
   ],
   "source": []
  },
  {
   "cell_type": "code",
   "execution_count": 65,
   "metadata": {},
   "outputs": [
    {
     "data": {
      "text/html": [
       "<div>\n",
       "<style scoped>\n",
       "    .dataframe tbody tr th:only-of-type {\n",
       "        vertical-align: middle;\n",
       "    }\n",
       "\n",
       "    .dataframe tbody tr th {\n",
       "        vertical-align: top;\n",
       "    }\n",
       "\n",
       "    .dataframe thead th {\n",
       "        text-align: right;\n",
       "    }\n",
       "</style>\n",
       "<table border=\"1\" class=\"dataframe\">\n",
       "  <thead>\n",
       "    <tr style=\"text-align: right;\">\n",
       "      <th></th>\n",
       "      <th>학번</th>\n",
       "      <th>이름</th>\n",
       "    </tr>\n",
       "  </thead>\n",
       "  <tbody>\n",
       "    <tr>\n",
       "      <th>1</th>\n",
       "      <td>202001002</td>\n",
       "      <td>이순신</td>\n",
       "    </tr>\n",
       "    <tr>\n",
       "      <th>3</th>\n",
       "      <td>202001004</td>\n",
       "      <td>이성계</td>\n",
       "    </tr>\n",
       "    <tr>\n",
       "      <th>5</th>\n",
       "      <td>202001006</td>\n",
       "      <td>연개소문</td>\n",
       "    </tr>\n",
       "    <tr>\n",
       "      <th>7</th>\n",
       "      <td>202001008</td>\n",
       "      <td>김구</td>\n",
       "    </tr>\n",
       "    <tr>\n",
       "      <th>9</th>\n",
       "      <td>202001010</td>\n",
       "      <td>이황</td>\n",
       "    </tr>\n",
       "    <tr>\n",
       "      <th>11</th>\n",
       "      <td>202001012</td>\n",
       "      <td>박명수</td>\n",
       "    </tr>\n",
       "    <tr>\n",
       "      <th>13</th>\n",
       "      <td>202001014</td>\n",
       "      <td>정형돈</td>\n",
       "    </tr>\n",
       "    <tr>\n",
       "      <th>15</th>\n",
       "      <td>202001016</td>\n",
       "      <td>하동훈</td>\n",
       "    </tr>\n",
       "  </tbody>\n",
       "</table>\n",
       "</div>"
      ],
      "text/plain": [
       "           학번    이름\n",
       "1   202001002   이순신\n",
       "3   202001004   이성계\n",
       "5   202001006  연개소문\n",
       "7   202001008    김구\n",
       "9   202001010    이황\n",
       "11  202001012   박명수\n",
       "13  202001014   정형돈\n",
       "15  202001016   하동훈"
      ]
     },
     "execution_count": 65,
     "metadata": {},
     "output_type": "execute_result"
    }
   ],
   "source": []
  }
 ],
 "metadata": {
  "kernelspec": {
   "display_name": "Python 3",
   "language": "python",
   "name": "python3"
  },
  "language_info": {
   "codemirror_mode": {
    "name": "ipython",
    "version": 3
   },
   "file_extension": ".py",
   "mimetype": "text/x-python",
   "name": "python",
   "nbconvert_exporter": "python",
   "pygments_lexer": "ipython3",
   "version": "3.8.7"
  }
 },
 "nbformat": 4,
 "nbformat_minor": 4
}
