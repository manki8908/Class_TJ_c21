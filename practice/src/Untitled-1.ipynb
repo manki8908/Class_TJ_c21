{
 "cells": [
  {
   "cell_type": "code",
   "execution_count": 2,
   "metadata": {},
   "outputs": [
    {
     "name": "stdout",
     "output_type": "stream",
     "text": [
      "2026\n",
      "02\n",
      "06\n",
      "잘못된 값\n"
     ]
    }
   ],
   "source": [
    "a = '20260206'\n",
    "\n",
    "print(a[0:4])\n",
    "print(a[4:6])\n",
    "print(a[6:8])\n",
    "\n",
    "if not(1900 <= int(a[0:4]) <=2023):\n",
    "    print(\"잘못된 값\")"
   ]
  },
  {
   "cell_type": "code",
   "execution_count": 4,
   "metadata": {},
   "outputs": [
    {
     "name": "stdout",
     "output_type": "stream",
     "text": [
      "890201\n",
      "1071112\n"
     ]
    }
   ],
   "source": [
    "b = '890201-1071112'\n",
    "\n",
    "print(b[0:6])\n",
    "print(b[7:15])\n"
   ]
  }
 ],
 "metadata": {
  "kernelspec": {
   "display_name": "Python 3",
   "language": "python",
   "name": "python3"
  },
  "language_info": {
   "codemirror_mode": {
    "name": "ipython",
    "version": 3
   },
   "file_extension": ".py",
   "mimetype": "text/x-python",
   "name": "python",
   "nbconvert_exporter": "python",
   "pygments_lexer": "ipython3",
   "version": "3.8.7"
  },
  "orig_nbformat": 4
 },
 "nbformat": 4,
 "nbformat_minor": 2
}
