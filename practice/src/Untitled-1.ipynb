{
 "cells": [
  {
   "cell_type": "code",
   "execution_count": 5,
   "metadata": {},
   "outputs": [
    {
     "name": "stdout",
     "output_type": "stream",
     "text": [
      "===회원 전체조회===\n",
      "1\t2\t3\t4\t1\t2\t3\t4\t"
     ]
    }
   ],
   "source": [
    "print(\"===회원 전체조회===\")\n",
    "names = [1, 2, 3, 4]\n",
    "for i in range(len(names)):\n",
    "    if i is len(names)-1:\n",
    "        print(names[i])\n",
    "    else:\n",
    "        print(names[i], end=\"\\t\")\n",
    "\n",
    "for i in range(len(names)):\n",
    "    if i is len(names)-1:\n",
    "        print(names[i])\n",
    "    else:\n",
    "        print(names[i], end=\"\\t\")\n",
    "        "
   ]
  }
 ],
 "metadata": {
  "kernelspec": {
   "display_name": "Python 3",
   "language": "python",
   "name": "python3"
  },
  "language_info": {
   "codemirror_mode": {
    "name": "ipython",
    "version": 3
   },
   "file_extension": ".py",
   "mimetype": "text/x-python",
   "name": "python",
   "nbconvert_exporter": "python",
   "pygments_lexer": "ipython3",
   "version": "3.8.7"
  },
  "orig_nbformat": 4
 },
 "nbformat": 4,
 "nbformat_minor": 2
}
