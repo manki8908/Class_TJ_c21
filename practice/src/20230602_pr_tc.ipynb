{
 "cells": [
  {
   "attachments": {},
   "cell_type": "markdown",
   "metadata": {},
   "source": [
    "## # 062일차-실습-0-6-해답 / 선생님 코드"
   ]
  },
  {
   "attachments": {},
   "cell_type": "markdown",
   "metadata": {},
   "source": [
    "* 질문\n",
    "  * data/sqlite2_db 없는상태에서 시작?\n",
    "  * "
   ]
  },
  {
   "cell_type": "code",
   "execution_count": 7,
   "metadata": {},
   "outputs": [
    {
     "name": "stdout",
     "output_type": "stream",
     "text": [
      "존재하는 코드입니다.\n"
     ]
    }
   ],
   "source": [
    "# 062일차-실습-0-6-해답\n",
    "import os\n",
    "import sys\n",
    "import sqlite3\n",
    "try :\n",
    "    # (1) db 연동 객체 \n",
    "    conn = sqlite3.connect(\"../DATA/sqlite_db_tc\") # db 생성 -> 연결 object\n",
    "    # sql 실행 객체 \n",
    "    cursor = conn.cursor()\n",
    "\n",
    "    # (2) item table 생성\n",
    "    sql= \"\"\"create table if not exists item(\n",
    "        code integer primary key,\n",
    "        name text(30) unique not null,\n",
    "        qty integer default 0,\n",
    "        unit_price real default 0.0)\n",
    "        \"\"\"\n",
    "    cursor.execute(sql)\n",
    "    conn.commit() # db 반영\n",
    "    while True :\n",
    "        # 상품등록전 select 문으로 코드여부 조회\n",
    "        in_code = int(input('상품코드 입력 : '))\n",
    "        sql = f\"select * from item where code = {in_code}\"\n",
    "        cursor.execute(sql)\n",
    "        rows = cursor.fetchall()\n",
    "\n",
    "        # 코드 조회로 중복확인\n",
    "        if len(rows) > 0:\n",
    "            print('존재하는 코드입니다.')\n",
    "            os.system(\"pause\")  # 프로그램 멈춤\n",
    "            os.system('cls')    # 터미널 출력 지우기\n",
    "            continue\n",
    "        else :\n",
    "            in_name = input('상품명 입력 : ')\n",
    "            in_qty = int(input(\"수량 입력 : \"))\n",
    "            in_unit_price = int(input(\"단가 입력 : \"))\n",
    "            sql = f\"insert into item(code,name,qty,unit_price) values({in_code},'{in_name}',{in_qty},{in_unit_price})\"\n",
    "            cursor.execute(sql)\n",
    "            conn.commit()\n",
    "            print('상품 등록을 성공했습니다.')\n",
    "            break\n",
    "\n",
    "    # (4) 모든 레코드 조회\n",
    "    cursor.execute(\"select * from item\")\n",
    "    rows = cursor.fetchall()\n",
    "    print(\"===상품조회1===\")\n",
    "    print(\"(code, name, qty, price)\")\n",
    "    for row in rows :\n",
    "        print(row)\n",
    "\n",
    "    # (5) 단일 레코드 조회  \n",
    "    in_code = int(input(\"조회할 코드를 입력하세요 : \"))\n",
    "    sql = f\"select * from item where code = {in_code}\"\n",
    "    cursor.execute(sql)\n",
    "    rows = cursor.fetchall()\n",
    "    if rows :\n",
    "        for row in rows :\n",
    "            print(\"조회결과는 코드:{}, 제품명:{}, 수량:{}, 단가:{} 입니다.\".format(row[0],row[1],row[2],int(row[3])))\n",
    "    else:\n",
    "        print(\"조회결과는 코드:{}는 없습니다.\".format(in_code))\n",
    "except Exception as e :\n",
    "    print('db 연동 실패 : ', e)\n",
    "    conn.rollback() # 실행 취소 \n",
    "finally:\n",
    "    cursor.close()\n",
    "    conn.close()"
   ]
  }
 ],
 "metadata": {
  "kernelspec": {
   "display_name": "Python 3",
   "language": "python",
   "name": "python3"
  },
  "language_info": {
   "codemirror_mode": {
    "name": "ipython",
    "version": 3
   },
   "file_extension": ".py",
   "mimetype": "text/x-python",
   "name": "python",
   "nbconvert_exporter": "python",
   "pygments_lexer": "ipython3",
   "version": "3.8.7"
  },
  "orig_nbformat": 4
 },
 "nbformat": 4,
 "nbformat_minor": 2
}
