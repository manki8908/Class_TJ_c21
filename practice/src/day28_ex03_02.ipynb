{
 "cells": [
  {
   "cell_type": "code",
   "execution_count": 1,
   "metadata": {},
   "outputs": [],
   "source": [
    "import datetime\n",
    "from datetime import datetime, date\n",
    "import pandas as pd\n",
    "import numpy as np\n",
    "import matplotlib.pyplot as plt\n",
    "from IPython.display import Image\n",
    "#\n",
    "pd.set_option('display.notebook_repr_html', True)\n",
    "pd.set_option('display.max_columns', 7)\n",
    "pd.set_option('display.max_rows', 10)\n",
    "pd.set_option('display.width', 250)\n",
    "#\n",
    "%matplotlib inline "
   ]
  },
  {
   "cell_type": "code",
   "execution_count": 2,
   "metadata": {},
   "outputs": [],
   "source": [
    "dates = pd.date_range('2019-01-01', '2019-01-06')\n",
    "temps1 = pd.Series([80,82,85,90,83,87], index= dates)"
   ]
  },
  {
   "cell_type": "code",
   "execution_count": 3,
   "metadata": {},
   "outputs": [
    {
     "data": {
      "text/plain": [
       "2019-01-01    10\n",
       "2019-01-02     7\n",
       "2019-01-03    16\n",
       "2019-01-04     7\n",
       "2019-01-05     4\n",
       "2019-01-06    10\n",
       "Freq: D, dtype: int64"
      ]
     },
     "execution_count": 3,
     "metadata": {},
     "output_type": "execute_result"
    }
   ],
   "source": [
    "temps2 = pd.Series([70, 75,69,83, 79,77], index = dates)\n",
    "temps_diffs = temps1 - temps2\n",
    "temps_diffs"
   ]
  },
  {
   "cell_type": "code",
   "execution_count": 4,
   "metadata": {},
   "outputs": [
    {
     "data": {
      "text/plain": [
       "9.0"
      ]
     },
     "execution_count": 4,
     "metadata": {},
     "output_type": "execute_result"
    }
   ],
   "source": [
    "temps_diffs.mean()"
   ]
  },
  {
   "cell_type": "code",
   "execution_count": 5,
   "metadata": {},
   "outputs": [
    {
     "data": {
      "text/html": [
       "<div>\n",
       "<style scoped>\n",
       "    .dataframe tbody tr th:only-of-type {\n",
       "        vertical-align: middle;\n",
       "    }\n",
       "\n",
       "    .dataframe tbody tr th {\n",
       "        vertical-align: top;\n",
       "    }\n",
       "\n",
       "    .dataframe thead th {\n",
       "        text-align: right;\n",
       "    }\n",
       "</style>\n",
       "<table border=\"1\" class=\"dataframe\">\n",
       "  <thead>\n",
       "    <tr style=\"text-align: right;\">\n",
       "      <th></th>\n",
       "      <th>Missoula</th>\n",
       "      <th>Philadelphia</th>\n",
       "    </tr>\n",
       "  </thead>\n",
       "  <tbody>\n",
       "    <tr>\n",
       "      <th>2019-01-01</th>\n",
       "      <td>80</td>\n",
       "      <td>70</td>\n",
       "    </tr>\n",
       "    <tr>\n",
       "      <th>2019-01-02</th>\n",
       "      <td>82</td>\n",
       "      <td>75</td>\n",
       "    </tr>\n",
       "    <tr>\n",
       "      <th>2019-01-03</th>\n",
       "      <td>85</td>\n",
       "      <td>69</td>\n",
       "    </tr>\n",
       "    <tr>\n",
       "      <th>2019-01-04</th>\n",
       "      <td>90</td>\n",
       "      <td>83</td>\n",
       "    </tr>\n",
       "    <tr>\n",
       "      <th>2019-01-05</th>\n",
       "      <td>83</td>\n",
       "      <td>79</td>\n",
       "    </tr>\n",
       "    <tr>\n",
       "      <th>2019-01-06</th>\n",
       "      <td>87</td>\n",
       "      <td>77</td>\n",
       "    </tr>\n",
       "  </tbody>\n",
       "</table>\n",
       "</div>"
      ],
      "text/plain": [
       "            Missoula  Philadelphia\n",
       "2019-01-01        80            70\n",
       "2019-01-02        82            75\n",
       "2019-01-03        85            69\n",
       "2019-01-04        90            83\n",
       "2019-01-05        83            79\n",
       "2019-01-06        87            77"
      ]
     },
     "execution_count": 5,
     "metadata": {},
     "output_type": "execute_result"
    }
   ],
   "source": [
    "temps_df = pd.DataFrame(\n",
    "    {\n",
    "        'Missoula' : temps1,\n",
    "        'Philadelphia' : temps2\n",
    "    }\n",
    ")\n",
    "temps_df"
   ]
  },
  {
   "cell_type": "code",
   "execution_count": 6,
   "metadata": {},
   "outputs": [
    {
     "data": {
      "text/plain": [
       "2019-01-01    80\n",
       "2019-01-02    82\n",
       "2019-01-03    85\n",
       "2019-01-04    90\n",
       "2019-01-05    83\n",
       "2019-01-06    87\n",
       "Freq: D, Name: Missoula, dtype: int64"
      ]
     },
     "execution_count": 6,
     "metadata": {},
     "output_type": "execute_result"
    }
   ],
   "source": [
    "temps_df['Missoula']"
   ]
  },
  {
   "cell_type": "code",
   "execution_count": 7,
   "metadata": {},
   "outputs": [
    {
     "data": {
      "text/html": [
       "<div>\n",
       "<style scoped>\n",
       "    .dataframe tbody tr th:only-of-type {\n",
       "        vertical-align: middle;\n",
       "    }\n",
       "\n",
       "    .dataframe tbody tr th {\n",
       "        vertical-align: top;\n",
       "    }\n",
       "\n",
       "    .dataframe thead th {\n",
       "        text-align: right;\n",
       "    }\n",
       "</style>\n",
       "<table border=\"1\" class=\"dataframe\">\n",
       "  <thead>\n",
       "    <tr style=\"text-align: right;\">\n",
       "      <th></th>\n",
       "      <th>Philadelphia</th>\n",
       "      <th>Missoula</th>\n",
       "    </tr>\n",
       "  </thead>\n",
       "  <tbody>\n",
       "    <tr>\n",
       "      <th>2019-01-01</th>\n",
       "      <td>70</td>\n",
       "      <td>80</td>\n",
       "    </tr>\n",
       "    <tr>\n",
       "      <th>2019-01-02</th>\n",
       "      <td>75</td>\n",
       "      <td>82</td>\n",
       "    </tr>\n",
       "    <tr>\n",
       "      <th>2019-01-03</th>\n",
       "      <td>69</td>\n",
       "      <td>85</td>\n",
       "    </tr>\n",
       "    <tr>\n",
       "      <th>2019-01-04</th>\n",
       "      <td>83</td>\n",
       "      <td>90</td>\n",
       "    </tr>\n",
       "    <tr>\n",
       "      <th>2019-01-05</th>\n",
       "      <td>79</td>\n",
       "      <td>83</td>\n",
       "    </tr>\n",
       "    <tr>\n",
       "      <th>2019-01-06</th>\n",
       "      <td>77</td>\n",
       "      <td>87</td>\n",
       "    </tr>\n",
       "  </tbody>\n",
       "</table>\n",
       "</div>"
      ],
      "text/plain": [
       "            Philadelphia  Missoula\n",
       "2019-01-01            70        80\n",
       "2019-01-02            75        82\n",
       "2019-01-03            69        85\n",
       "2019-01-04            83        90\n",
       "2019-01-05            79        83\n",
       "2019-01-06            77        87"
      ]
     },
     "execution_count": 7,
     "metadata": {},
     "output_type": "execute_result"
    }
   ],
   "source": [
    "temps_df[['Philadelphia','Missoula']]"
   ]
  },
  {
   "cell_type": "code",
   "execution_count": 8,
   "metadata": {
    "scrolled": false
   },
   "outputs": [],
   "source": [
    "temps3 = pd.Series([75, 77, 67, 82, 77, 85], index=dates)\n",
    "temps_df2 = pd.DataFrame(\n",
    "        {\n",
    "        'Missoula': temps1,\n",
    "        'Philadelphia': temps2,\n",
    "        'Seoul': temps3,\n",
    "        }\n",
    ")\n",
    "#temps_df2  # 출력부분을 임시로 주석함 "
   ]
  },
  {
   "cell_type": "code",
   "execution_count": 9,
   "metadata": {},
   "outputs": [
    {
     "name": "stdout",
     "output_type": "stream",
     "text": [
      "Missoula \t평균기온 : 84.50\n",
      "Philadelphia \t평균기온 : 75.50\n",
      "Seoul \t\t평균기온 : 77.17\n"
     ]
    }
   ],
   "source": [
    "print('Missoula \\t평균기온 : {0:.2f}'.format(temps1.mean()))   # {} 서식문자를 사용한 부분을 기억하세요.\n",
    "print('Philadelphia \\t평균기온 : {0:.2f}'.format(temps2.mean())) \n",
    "print('Seoul \\t\\t평균기온 : {0:.2f}'.format(temps3.mean())) "
   ]
  },
  {
   "cell_type": "code",
   "execution_count": 10,
   "metadata": {},
   "outputs": [
    {
     "data": {
      "text/plain": [
       "Missoula        84.50\n",
       "Philadelphia    75.50\n",
       "Seoul           77.17\n",
       "dtype: float64"
      ]
     },
     "execution_count": 10,
     "metadata": {},
     "output_type": "execute_result"
    }
   ],
   "source": [
    "round(temps_df2.mean(),2)  # 반올림 함수를 함 사용함 "
   ]
  },
  {
   "cell_type": "code",
   "execution_count": 11,
   "metadata": {},
   "outputs": [
    {
     "data": {
      "text/plain": [
       "2019-01-01    80\n",
       "2019-01-02    82\n",
       "2019-01-03    85\n",
       "2019-01-04    90\n",
       "2019-01-05    83\n",
       "2019-01-06    87\n",
       "Freq: D, Name: Missoula, dtype: int64"
      ]
     },
     "execution_count": 11,
     "metadata": {},
     "output_type": "execute_result"
    }
   ],
   "source": [
    "temps_df.Missoula"
   ]
  },
  {
   "cell_type": "code",
   "execution_count": 12,
   "metadata": {},
   "outputs": [
    {
     "data": {
      "text/plain": [
       "2019-01-01    10\n",
       "2019-01-02     7\n",
       "2019-01-03    16\n",
       "2019-01-04     7\n",
       "2019-01-05     4\n",
       "2019-01-06    10\n",
       "Freq: D, dtype: int64"
      ]
     },
     "execution_count": 12,
     "metadata": {},
     "output_type": "execute_result"
    }
   ],
   "source": [
    "temps_diff = temps_df.Missoula - temps_df.Philadelphia\n",
    "temps_diff"
   ]
  },
  {
   "cell_type": "code",
   "execution_count": 13,
   "metadata": {},
   "outputs": [
    {
     "data": {
      "text/plain": [
       "Index(['Missoula', 'Philadelphia'], dtype='object')"
      ]
     },
     "execution_count": 13,
     "metadata": {},
     "output_type": "execute_result"
    }
   ],
   "source": [
    "temps_df.columns"
   ]
  },
  {
   "cell_type": "code",
   "execution_count": 14,
   "metadata": {},
   "outputs": [
    {
     "data": {
      "text/html": [
       "<div>\n",
       "<style scoped>\n",
       "    .dataframe tbody tr th:only-of-type {\n",
       "        vertical-align: middle;\n",
       "    }\n",
       "\n",
       "    .dataframe tbody tr th {\n",
       "        vertical-align: top;\n",
       "    }\n",
       "\n",
       "    .dataframe thead th {\n",
       "        text-align: right;\n",
       "    }\n",
       "</style>\n",
       "<table border=\"1\" class=\"dataframe\">\n",
       "  <thead>\n",
       "    <tr style=\"text-align: right;\">\n",
       "      <th></th>\n",
       "      <th>Missoula</th>\n",
       "      <th>Philadelphia</th>\n",
       "      <th>Difference</th>\n",
       "    </tr>\n",
       "  </thead>\n",
       "  <tbody>\n",
       "    <tr>\n",
       "      <th>2019-01-01</th>\n",
       "      <td>80</td>\n",
       "      <td>70</td>\n",
       "      <td>10</td>\n",
       "    </tr>\n",
       "    <tr>\n",
       "      <th>2019-01-02</th>\n",
       "      <td>82</td>\n",
       "      <td>75</td>\n",
       "      <td>7</td>\n",
       "    </tr>\n",
       "    <tr>\n",
       "      <th>2019-01-03</th>\n",
       "      <td>85</td>\n",
       "      <td>69</td>\n",
       "      <td>16</td>\n",
       "    </tr>\n",
       "    <tr>\n",
       "      <th>2019-01-04</th>\n",
       "      <td>90</td>\n",
       "      <td>83</td>\n",
       "      <td>7</td>\n",
       "    </tr>\n",
       "    <tr>\n",
       "      <th>2019-01-05</th>\n",
       "      <td>83</td>\n",
       "      <td>79</td>\n",
       "      <td>4</td>\n",
       "    </tr>\n",
       "    <tr>\n",
       "      <th>2019-01-06</th>\n",
       "      <td>87</td>\n",
       "      <td>77</td>\n",
       "      <td>10</td>\n",
       "    </tr>\n",
       "  </tbody>\n",
       "</table>\n",
       "</div>"
      ],
      "text/plain": [
       "            Missoula  Philadelphia  Difference\n",
       "2019-01-01        80            70          10\n",
       "2019-01-02        82            75           7\n",
       "2019-01-03        85            69          16\n",
       "2019-01-04        90            83           7\n",
       "2019-01-05        83            79           4\n",
       "2019-01-06        87            77          10"
      ]
     },
     "execution_count": 14,
     "metadata": {},
     "output_type": "execute_result"
    }
   ],
   "source": [
    "temps_df['Difference'] = temps_diffs\n",
    "temps_df"
   ]
  },
  {
   "cell_type": "code",
   "execution_count": 15,
   "metadata": {},
   "outputs": [
    {
     "data": {
      "text/plain": [
       "Index(['Missoula', 'Philadelphia', 'Difference'], dtype='object')"
      ]
     },
     "execution_count": 15,
     "metadata": {},
     "output_type": "execute_result"
    }
   ],
   "source": [
    "temps_df.columns"
   ]
  },
  {
   "cell_type": "code",
   "execution_count": 16,
   "metadata": {},
   "outputs": [
    {
     "data": {
      "text/plain": [
       "2019-01-02     7\n",
       "2019-01-03    16\n",
       "2019-01-04     7\n",
       "Freq: D, Name: Difference, dtype: int64"
      ]
     },
     "execution_count": 16,
     "metadata": {},
     "output_type": "execute_result"
    }
   ],
   "source": [
    "temps_df.Difference[1:4] "
   ]
  },
  {
   "cell_type": "code",
   "execution_count": 17,
   "metadata": {},
   "outputs": [
    {
     "data": {
      "text/plain": [
       "Missoula        82\n",
       "Philadelphia    75\n",
       "Difference       7\n",
       "Name: 2019-01-02 00:00:00, dtype: int64"
      ]
     },
     "execution_count": 17,
     "metadata": {},
     "output_type": "execute_result"
    }
   ],
   "source": [
    "temps_df.iloc[1]  # 1번째 로우의 데이터를 참조함 단, 맨 처음로우는 0임"
   ]
  },
  {
   "cell_type": "code",
   "execution_count": 18,
   "metadata": {},
   "outputs": [
    {
     "data": {
      "text/plain": [
       "Index(['Missoula', 'Philadelphia', 'Difference'], dtype='object')"
      ]
     },
     "execution_count": 18,
     "metadata": {},
     "output_type": "execute_result"
    }
   ],
   "source": [
    "temps_df.iloc[1].index"
   ]
  },
  {
   "cell_type": "code",
   "execution_count": 19,
   "metadata": {},
   "outputs": [
    {
     "data": {
      "text/plain": [
       "Missoula        83\n",
       "Philadelphia    79\n",
       "Difference       4\n",
       "Name: 2019-01-05 00:00:00, dtype: int64"
      ]
     },
     "execution_count": 19,
     "metadata": {},
     "output_type": "execute_result"
    }
   ],
   "source": [
    "temps_df.loc['2019-01-05'] # loc함수는 인덱스 레이블(컬럼값)에\n",
    "    #해당하는 로우 값을 참조한다."
   ]
  },
  {
   "cell_type": "code",
   "execution_count": 20,
   "metadata": {},
   "outputs": [
    {
     "data": {
      "text/html": [
       "<div>\n",
       "<style scoped>\n",
       "    .dataframe tbody tr th:only-of-type {\n",
       "        vertical-align: middle;\n",
       "    }\n",
       "\n",
       "    .dataframe tbody tr th {\n",
       "        vertical-align: top;\n",
       "    }\n",
       "\n",
       "    .dataframe thead th {\n",
       "        text-align: right;\n",
       "    }\n",
       "</style>\n",
       "<table border=\"1\" class=\"dataframe\">\n",
       "  <thead>\n",
       "    <tr style=\"text-align: right;\">\n",
       "      <th></th>\n",
       "      <th>Missoula</th>\n",
       "      <th>Philadelphia</th>\n",
       "      <th>Difference</th>\n",
       "    </tr>\n",
       "  </thead>\n",
       "  <tbody>\n",
       "    <tr>\n",
       "      <th>2019-01-02</th>\n",
       "      <td>82</td>\n",
       "      <td>75</td>\n",
       "      <td>7</td>\n",
       "    </tr>\n",
       "    <tr>\n",
       "      <th>2019-01-04</th>\n",
       "      <td>90</td>\n",
       "      <td>83</td>\n",
       "      <td>7</td>\n",
       "    </tr>\n",
       "    <tr>\n",
       "      <th>2019-01-06</th>\n",
       "      <td>87</td>\n",
       "      <td>77</td>\n",
       "      <td>10</td>\n",
       "    </tr>\n",
       "  </tbody>\n",
       "</table>\n",
       "</div>"
      ],
      "text/plain": [
       "            Missoula  Philadelphia  Difference\n",
       "2019-01-02        82            75           7\n",
       "2019-01-04        90            83           7\n",
       "2019-01-06        87            77          10"
      ]
     },
     "execution_count": 20,
     "metadata": {},
     "output_type": "execute_result"
    }
   ],
   "source": [
    "temps_df.iloc[[1, 3, 5]]"
   ]
  },
  {
   "cell_type": "code",
   "execution_count": 21,
   "metadata": {},
   "outputs": [
    {
     "data": {
      "text/plain": [
       "2019-01-01    False\n",
       "2019-01-02    False\n",
       "2019-01-03     True\n",
       "2019-01-04     True\n",
       "2019-01-05     True\n",
       "2019-01-06     True\n",
       "Freq: D, Name: Missoula, dtype: bool"
      ]
     },
     "execution_count": 21,
     "metadata": {},
     "output_type": "execute_result"
    }
   ],
   "source": [
    "temps_df.Missoula > 82"
   ]
  },
  {
   "cell_type": "code",
   "execution_count": 22,
   "metadata": {},
   "outputs": [
    {
     "data": {
      "text/html": [
       "<div>\n",
       "<style scoped>\n",
       "    .dataframe tbody tr th:only-of-type {\n",
       "        vertical-align: middle;\n",
       "    }\n",
       "\n",
       "    .dataframe tbody tr th {\n",
       "        vertical-align: top;\n",
       "    }\n",
       "\n",
       "    .dataframe thead th {\n",
       "        text-align: right;\n",
       "    }\n",
       "</style>\n",
       "<table border=\"1\" class=\"dataframe\">\n",
       "  <thead>\n",
       "    <tr style=\"text-align: right;\">\n",
       "      <th></th>\n",
       "      <th>Missoula</th>\n",
       "      <th>Philadelphia</th>\n",
       "      <th>Difference</th>\n",
       "    </tr>\n",
       "  </thead>\n",
       "  <tbody>\n",
       "    <tr>\n",
       "      <th>2019-01-03</th>\n",
       "      <td>85</td>\n",
       "      <td>69</td>\n",
       "      <td>16</td>\n",
       "    </tr>\n",
       "    <tr>\n",
       "      <th>2019-01-04</th>\n",
       "      <td>90</td>\n",
       "      <td>83</td>\n",
       "      <td>7</td>\n",
       "    </tr>\n",
       "    <tr>\n",
       "      <th>2019-01-05</th>\n",
       "      <td>83</td>\n",
       "      <td>79</td>\n",
       "      <td>4</td>\n",
       "    </tr>\n",
       "    <tr>\n",
       "      <th>2019-01-06</th>\n",
       "      <td>87</td>\n",
       "      <td>77</td>\n",
       "      <td>10</td>\n",
       "    </tr>\n",
       "  </tbody>\n",
       "</table>\n",
       "</div>"
      ],
      "text/plain": [
       "            Missoula  Philadelphia  Difference\n",
       "2019-01-03        85            69          16\n",
       "2019-01-04        90            83           7\n",
       "2019-01-05        83            79           4\n",
       "2019-01-06        87            77          10"
      ]
     },
     "execution_count": 22,
     "metadata": {},
     "output_type": "execute_result"
    }
   ],
   "source": [
    "temps_df[temps_df.Missoula > 82]"
   ]
  },
  {
   "cell_type": "code",
   "execution_count": 23,
   "metadata": {
    "scrolled": true
   },
   "outputs": [
    {
     "data": {
      "text/html": [
       "<div>\n",
       "<style scoped>\n",
       "    .dataframe tbody tr th:only-of-type {\n",
       "        vertical-align: middle;\n",
       "    }\n",
       "\n",
       "    .dataframe tbody tr th {\n",
       "        vertical-align: top;\n",
       "    }\n",
       "\n",
       "    .dataframe thead th {\n",
       "        text-align: right;\n",
       "    }\n",
       "</style>\n",
       "<table border=\"1\" class=\"dataframe\">\n",
       "  <thead>\n",
       "    <tr style=\"text-align: right;\">\n",
       "      <th></th>\n",
       "      <th>Missoula</th>\n",
       "      <th>Philadelphia</th>\n",
       "      <th>Difference</th>\n",
       "      <th>Seoul</th>\n",
       "    </tr>\n",
       "  </thead>\n",
       "  <tbody>\n",
       "    <tr>\n",
       "      <th>2019-01-01</th>\n",
       "      <td>80</td>\n",
       "      <td>70</td>\n",
       "      <td>10</td>\n",
       "      <td>75</td>\n",
       "    </tr>\n",
       "    <tr>\n",
       "      <th>2019-01-02</th>\n",
       "      <td>82</td>\n",
       "      <td>75</td>\n",
       "      <td>7</td>\n",
       "      <td>77</td>\n",
       "    </tr>\n",
       "    <tr>\n",
       "      <th>2019-01-03</th>\n",
       "      <td>85</td>\n",
       "      <td>69</td>\n",
       "      <td>16</td>\n",
       "      <td>67</td>\n",
       "    </tr>\n",
       "    <tr>\n",
       "      <th>2019-01-04</th>\n",
       "      <td>90</td>\n",
       "      <td>83</td>\n",
       "      <td>7</td>\n",
       "      <td>82</td>\n",
       "    </tr>\n",
       "    <tr>\n",
       "      <th>2019-01-05</th>\n",
       "      <td>83</td>\n",
       "      <td>79</td>\n",
       "      <td>4</td>\n",
       "      <td>77</td>\n",
       "    </tr>\n",
       "    <tr>\n",
       "      <th>2019-01-06</th>\n",
       "      <td>87</td>\n",
       "      <td>77</td>\n",
       "      <td>10</td>\n",
       "      <td>85</td>\n",
       "    </tr>\n",
       "  </tbody>\n",
       "</table>\n",
       "</div>"
      ],
      "text/plain": [
       "            Missoula  Philadelphia  Difference  Seoul\n",
       "2019-01-01        80            70          10     75\n",
       "2019-01-02        82            75           7     77\n",
       "2019-01-03        85            69          16     67\n",
       "2019-01-04        90            83           7     82\n",
       "2019-01-05        83            79           4     77\n",
       "2019-01-06        87            77          10     85"
      ]
     },
     "execution_count": 23,
     "metadata": {},
     "output_type": "execute_result"
    }
   ],
   "source": [
    "temps_df['Seoul'] = temps3\n",
    "temps_df"
   ]
  },
  {
   "attachments": {},
   "cell_type": "markdown",
   "metadata": {},
   "source": [
    "# 28일차 강의 시작"
   ]
  },
  {
   "cell_type": "code",
   "execution_count": 24,
   "metadata": {},
   "outputs": [
    {
     "name": "stdout",
     "output_type": "stream",
     "text": [
      "Object `data/goog.csv` not found.\n"
     ]
    },
    {
     "name": "stdout",
     "output_type": "stream",
     "text": [
      "\u001b[0mDate\u001b[0m\u001b[1;33m,\u001b[0m\u001b[0mOpen\u001b[0m\u001b[1;33m,\u001b[0m\u001b[0mHigh\u001b[0m\u001b[1;33m,\u001b[0m\u001b[0mLow\u001b[0m\u001b[1;33m,\u001b[0m\u001b[0mClose\u001b[0m\u001b[1;33m,\u001b[0m\u001b[0mVolume\u001b[0m\u001b[1;33m\n",
      "\u001b[0m\u001b[1;36m12\u001b[0m\u001b[1;33m/\u001b[0m\u001b[1;36m19\u001b[0m\u001b[1;33m/\u001b[0m\u001b[1;36m2016\u001b[0m\u001b[1;33m,\u001b[0m\u001b[1;36m790.219971\u001b[0m\u001b[1;33m,\u001b[0m\u001b[1;36m797.659973\u001b[0m\u001b[1;33m,\u001b[0m\u001b[1;36m786.27002\u001b[0m\u001b[1;33m,\u001b[0m\u001b[1;36m794.200012\u001b[0m\u001b[1;33m,\u001b[0m\u001b[1;36m1225900\u001b[0m\u001b[1;33m\n",
      "\u001b[0m\u001b[1;36m12\u001b[0m\u001b[1;33m/\u001b[0m\u001b[1;36m20\u001b[0m\u001b[1;33m/\u001b[0m\u001b[1;36m2016\u001b[0m\u001b[1;33m,\u001b[0m\u001b[1;36m796.76001\u001b[0m\u001b[1;33m,\u001b[0m\u001b[1;36m798.650024\u001b[0m\u001b[1;33m,\u001b[0m\u001b[1;36m793.27002\u001b[0m\u001b[1;33m,\u001b[0m\u001b[1;36m796.419983\u001b[0m\u001b[1;33m,\u001b[0m\u001b[1;36m925100\u001b[0m\u001b[1;33m\n",
      "\u001b[0m\u001b[1;36m12\u001b[0m\u001b[1;33m/\u001b[0m\u001b[1;36m21\u001b[0m\u001b[1;33m/\u001b[0m\u001b[1;36m2016\u001b[0m\u001b[1;33m,\u001b[0m\u001b[1;36m795.840027\u001b[0m\u001b[1;33m,\u001b[0m\u001b[1;36m796.676025\u001b[0m\u001b[1;33m,\u001b[0m\u001b[1;36m787.099976\u001b[0m\u001b[1;33m,\u001b[0m\u001b[1;36m794.559998\u001b[0m\u001b[1;33m,\u001b[0m\u001b[1;36m1208700\u001b[0m\u001b[1;33m\n",
      "\u001b[0m\u001b[1;36m12\u001b[0m\u001b[1;33m/\u001b[0m\u001b[1;36m22\u001b[0m\u001b[1;33m/\u001b[0m\u001b[1;36m2016\u001b[0m\u001b[1;33m,\u001b[0m\u001b[1;36m792.359985\u001b[0m\u001b[1;33m,\u001b[0m\u001b[1;36m793.320007\u001b[0m\u001b[1;33m,\u001b[0m\u001b[1;36m788.580017\u001b[0m\u001b[1;33m,\u001b[0m\u001b[1;36m791.26001\u001b[0m\u001b[1;33m,\u001b[0m\u001b[1;36m969100\u001b[0m\u001b[1;33m\n",
      "\u001b[0m\u001b[1;36m12\u001b[0m\u001b[1;33m/\u001b[0m\u001b[1;36m23\u001b[0m\u001b[1;33m/\u001b[0m\u001b[1;36m2016\u001b[0m\u001b[1;33m,\u001b[0m\u001b[1;36m790.900024\u001b[0m\u001b[1;33m,\u001b[0m\u001b[1;36m792.73999\u001b[0m\u001b[1;33m,\u001b[0m\u001b[1;36m787.280029\u001b[0m\u001b[1;33m,\u001b[0m\u001b[1;36m789.909973\u001b[0m\u001b[1;33m,\u001b[0m\u001b[1;36m623400\u001b[0m\u001b[1;33m\n",
      "\u001b[0m\u001b[1;36m12\u001b[0m\u001b[1;33m/\u001b[0m\u001b[1;36m27\u001b[0m\u001b[1;33m/\u001b[0m\u001b[1;36m2016\u001b[0m\u001b[1;33m,\u001b[0m\u001b[1;36m790.679993\u001b[0m\u001b[1;33m,\u001b[0m\u001b[1;36m797.859985\u001b[0m\u001b[1;33m,\u001b[0m\u001b[1;36m787.656982\u001b[0m\u001b[1;33m,\u001b[0m\u001b[1;36m791.549988\u001b[0m\u001b[1;33m,\u001b[0m\u001b[1;36m789100\u001b[0m\u001b[1;33m\n",
      "\u001b[0m\u001b[1;36m12\u001b[0m\u001b[1;33m/\u001b[0m\u001b[1;36m28\u001b[0m\u001b[1;33m/\u001b[0m\u001b[1;36m2016\u001b[0m\u001b[1;33m,\u001b[0m\u001b[1;36m793.700012\u001b[0m\u001b[1;33m,\u001b[0m\u001b[1;36m794.22998\u001b[0m\u001b[1;33m,\u001b[0m\u001b[1;36m783.200012\u001b[0m\u001b[1;33m,\u001b[0m\u001b[1;36m785.049988\u001b[0m\u001b[1;33m,\u001b[0m\u001b[1;36m1132700\u001b[0m\u001b[1;33m\n",
      "\u001b[0m\u001b[1;36m12\u001b[0m\u001b[1;33m/\u001b[0m\u001b[1;36m29\u001b[0m\u001b[1;33m/\u001b[0m\u001b[1;36m2016\u001b[0m\u001b[1;33m,\u001b[0m\u001b[1;36m783.330017\u001b[0m\u001b[1;33m,\u001b[0m\u001b[1;36m785.929993\u001b[0m\u001b[1;33m,\u001b[0m\u001b[1;36m778.919983\u001b[0m\u001b[1;33m,\u001b[0m\u001b[1;36m782.789978\u001b[0m\u001b[1;33m,\u001b[0m\u001b[1;36m742200\u001b[0m\u001b[1;33m\n",
      "\u001b[0m\u001b[1;36m12\u001b[0m\u001b[1;33m/\u001b[0m\u001b[1;36m30\u001b[0m\u001b[1;33m/\u001b[0m\u001b[1;36m2016\u001b[0m\u001b[1;33m,\u001b[0m\u001b[1;36m782.75\u001b[0m\u001b[1;33m,\u001b[0m\u001b[1;36m782.780029\u001b[0m\u001b[1;33m,\u001b[0m\u001b[1;36m770.409973\u001b[0m\u001b[1;33m,\u001b[0m\u001b[1;36m771.820007\u001b[0m\u001b[1;33m,\u001b[0m\u001b[1;36m1760200\u001b[0m\u001b[1;33m\n",
      "\u001b[0m\u001b[1;36m1\u001b[0m\u001b[1;33m/\u001b[0m\u001b[1;36m3\u001b[0m\u001b[1;33m/\u001b[0m\u001b[1;36m2017\u001b[0m\u001b[1;33m,\u001b[0m\u001b[1;36m778.809998\u001b[0m\u001b[1;33m,\u001b[0m\u001b[1;36m789.630005\u001b[0m\u001b[1;33m,\u001b[0m\u001b[1;36m775.799988\u001b[0m\u001b[1;33m,\u001b[0m\u001b[1;36m786.140015\u001b[0m\u001b[1;33m,\u001b[0m\u001b[1;36m1643100\u001b[0m\u001b[1;33m\n",
      "\u001b[0m\u001b[1;36m1\u001b[0m\u001b[1;33m/\u001b[0m\u001b[1;36m4\u001b[0m\u001b[1;33m/\u001b[0m\u001b[1;36m2017\u001b[0m\u001b[1;33m,\u001b[0m\u001b[1;36m788.359985\u001b[0m\u001b[1;33m,\u001b[0m\u001b[1;36m791.340027\u001b[0m\u001b[1;33m,\u001b[0m\u001b[1;36m783.159973\u001b[0m\u001b[1;33m,\u001b[0m\u001b[1;36m786.900024\u001b[0m\u001b[1;33m,\u001b[0m\u001b[1;36m1065400\u001b[0m\u001b[1;33m\n",
      "\u001b[0m\u001b[1;36m1\u001b[0m\u001b[1;33m/\u001b[0m\u001b[1;36m5\u001b[0m\u001b[1;33m/\u001b[0m\u001b[1;36m2017\u001b[0m\u001b[1;33m,\u001b[0m\u001b[1;36m786.080017\u001b[0m\u001b[1;33m,\u001b[0m\u001b[1;36m794.47998\u001b[0m\u001b[1;33m,\u001b[0m\u001b[1;36m785.02002\u001b[0m\u001b[1;33m,\u001b[0m\u001b[1;36m794.02002\u001b[0m\u001b[1;33m,\u001b[0m\u001b[1;36m1315400\u001b[0m\u001b[1;33m\n",
      "\u001b[0m\u001b[1;36m1\u001b[0m\u001b[1;33m/\u001b[0m\u001b[1;36m6\u001b[0m\u001b[1;33m/\u001b[0m\u001b[1;36m2017\u001b[0m\u001b[1;33m,\u001b[0m\u001b[1;36m795.26001\u001b[0m\u001b[1;33m,\u001b[0m\u001b[1;36m807.900024\u001b[0m\u001b[1;33m,\u001b[0m\u001b[1;36m792.203979\u001b[0m\u001b[1;33m,\u001b[0m\u001b[1;36m806.150024\u001b[0m\u001b[1;33m,\u001b[0m\u001b[1;36m1620500\u001b[0m\u001b[1;33m\n",
      "\u001b[0m\u001b[1;36m1\u001b[0m\u001b[1;33m/\u001b[0m\u001b[1;36m9\u001b[0m\u001b[1;33m/\u001b[0m\u001b[1;36m2017\u001b[0m\u001b[1;33m,\u001b[0m\u001b[1;36m806.400024\u001b[0m\u001b[1;33m,\u001b[0m\u001b[1;36m809.966003\u001b[0m\u001b[1;33m,\u001b[0m\u001b[1;36m802.830017\u001b[0m\u001b[1;33m,\u001b[0m\u001b[1;36m806.650024\u001b[0m\u001b[1;33m,\u001b[0m\u001b[1;36m1272400\u001b[0m\u001b[1;33m\n",
      "\u001b[0m\u001b[1;36m1\u001b[0m\u001b[1;33m/\u001b[0m\u001b[1;36m10\u001b[0m\u001b[1;33m/\u001b[0m\u001b[1;36m2017\u001b[0m\u001b[1;33m,\u001b[0m\u001b[1;36m807.859985\u001b[0m\u001b[1;33m,\u001b[0m\u001b[1;36m809.130005\u001b[0m\u001b[1;33m,\u001b[0m\u001b[1;36m803.51001\u001b[0m\u001b[1;33m,\u001b[0m\u001b[1;36m804.789978\u001b[0m\u001b[1;33m,\u001b[0m\u001b[1;36m1174300\u001b[0m\u001b[1;33m\n",
      "\u001b[0m\u001b[1;36m1\u001b[0m\u001b[1;33m/\u001b[0m\u001b[1;36m11\u001b[0m\u001b[1;33m/\u001b[0m\u001b[1;36m2017\u001b[0m\u001b[1;33m,\u001b[0m\u001b[1;36m805\u001b[0m\u001b[1;33m,\u001b[0m\u001b[1;36m808.150024\u001b[0m\u001b[1;33m,\u001b[0m\u001b[1;36m801.369995\u001b[0m\u001b[1;33m,\u001b[0m\u001b[1;36m807.909973\u001b[0m\u001b[1;33m,\u001b[0m\u001b[1;36m1057900\u001b[0m\u001b[1;33m\n",
      "\u001b[0m\u001b[1;36m1\u001b[0m\u001b[1;33m/\u001b[0m\u001b[1;36m12\u001b[0m\u001b[1;33m/\u001b[0m\u001b[1;36m2017\u001b[0m\u001b[1;33m,\u001b[0m\u001b[1;36m807.140015\u001b[0m\u001b[1;33m,\u001b[0m\u001b[1;36m807.390015\u001b[0m\u001b[1;33m,\u001b[0m\u001b[1;36m799.169983\u001b[0m\u001b[1;33m,\u001b[0m\u001b[1;36m806.359985\u001b[0m\u001b[1;33m,\u001b[0m\u001b[1;36m1351000\u001b[0m\u001b[1;33m\n",
      "\u001b[0m\u001b[1;36m1\u001b[0m\u001b[1;33m/\u001b[0m\u001b[1;36m13\u001b[0m\u001b[1;33m/\u001b[0m\u001b[1;36m2017\u001b[0m\u001b[1;33m,\u001b[0m\u001b[1;36m807.47998\u001b[0m\u001b[1;33m,\u001b[0m\u001b[1;36m811.223999\u001b[0m\u001b[1;33m,\u001b[0m\u001b[1;36m806.690002\u001b[0m\u001b[1;33m,\u001b[0m\u001b[1;36m807.880005\u001b[0m\u001b[1;33m,\u001b[0m\u001b[1;36m1090100\u001b[0m\u001b[1;33m\n",
      "\u001b[0m\u001b[1;36m1\u001b[0m\u001b[1;33m/\u001b[0m\u001b[1;36m17\u001b[0m\u001b[1;33m/\u001b[0m\u001b[1;36m2017\u001b[0m\u001b[1;33m,\u001b[0m\u001b[1;36m807.080017\u001b[0m\u001b[1;33m,\u001b[0m\u001b[1;36m807.140015\u001b[0m\u001b[1;33m,\u001b[0m\u001b[1;36m800.369995\u001b[0m\u001b[1;33m,\u001b[0m\u001b[1;36m804.609985\u001b[0m\u001b[1;33m,\u001b[0m\u001b[1;36m1355800\u001b[0m\u001b[1;33m\n",
      "\u001b[0m\u001b[1;36m1\u001b[0m\u001b[1;33m/\u001b[0m\u001b[1;36m18\u001b[0m\u001b[1;33m/\u001b[0m\u001b[1;36m2017\u001b[0m\u001b[1;33m,\u001b[0m\u001b[1;36m805.809998\u001b[0m\u001b[1;33m,\u001b[0m\u001b[1;36m806.205017\u001b[0m\u001b[1;33m,\u001b[0m\u001b[1;36m800.98999\u001b[0m\u001b[1;33m,\u001b[0m\u001b[1;36m806.070007\u001b[0m\u001b[1;33m,\u001b[0m\u001b[1;36m1293300\u001b[0m\u001b[1;33m\n",
      "\u001b[0m\u001b[1;36m1\u001b[0m\u001b[1;33m/\u001b[0m\u001b[1;36m19\u001b[0m\u001b[1;33m/\u001b[0m\u001b[1;36m2017\u001b[0m\u001b[1;33m,\u001b[0m\u001b[1;36m805.119995\u001b[0m\u001b[1;33m,\u001b[0m\u001b[1;36m809.47998\u001b[0m\u001b[1;33m,\u001b[0m\u001b[1;36m801.799988\u001b[0m\u001b[1;33m,\u001b[0m\u001b[1;36m802.174988\u001b[0m\u001b[1;33m,\u001b[0m\u001b[1;36m912000\u001b[0m\u001b[1;33m\n",
      "\u001b[0m\u001b[1;36m1\u001b[0m\u001b[1;33m/\u001b[0m\u001b[1;36m20\u001b[0m\u001b[1;33m/\u001b[0m\u001b[1;36m2017\u001b[0m\u001b[1;33m,\u001b[0m\u001b[1;36m806.909973\u001b[0m\u001b[1;33m,\u001b[0m\u001b[1;36m806.909973\u001b[0m\u001b[1;33m,\u001b[0m\u001b[1;36m801.690002\u001b[0m\u001b[1;33m,\u001b[0m\u001b[1;36m805.02002\u001b[0m\u001b[1;33m,\u001b[0m\u001b[1;36m1645000\u001b[0m\u001b[1;33m\n",
      "\u001b[0m\u001b[1;36m1\u001b[0m\u001b[1;33m/\u001b[0m\u001b[1;36m23\u001b[0m\u001b[1;33m/\u001b[0m\u001b[1;36m2017\u001b[0m\u001b[1;33m,\u001b[0m\u001b[1;36m807.25\u001b[0m\u001b[1;33m,\u001b[0m\u001b[1;36m820.869995\u001b[0m\u001b[1;33m,\u001b[0m\u001b[1;36m803.73999\u001b[0m\u001b[1;33m,\u001b[0m\u001b[1;36m819.309998\u001b[0m\u001b[1;33m,\u001b[0m\u001b[1;36m1901600\u001b[0m\u001b[1;33m\n",
      "\u001b[0m\u001b[1;36m1\u001b[0m\u001b[1;33m/\u001b[0m\u001b[1;36m24\u001b[0m\u001b[1;33m/\u001b[0m\u001b[1;36m2017\u001b[0m\u001b[1;33m,\u001b[0m\u001b[1;36m822.299988\u001b[0m\u001b[1;33m,\u001b[0m\u001b[1;36m825.900024\u001b[0m\u001b[1;33m,\u001b[0m\u001b[1;36m817.820984\u001b[0m\u001b[1;33m,\u001b[0m\u001b[1;36m823.869995\u001b[0m\u001b[1;33m,\u001b[0m\u001b[1;36m1461000\u001b[0m\u001b[1;33m\n",
      "\u001b[0m\u001b[1;36m1\u001b[0m\u001b[1;33m/\u001b[0m\u001b[1;36m25\u001b[0m\u001b[1;33m/\u001b[0m\u001b[1;36m2017\u001b[0m\u001b[1;33m,\u001b[0m\u001b[1;36m829.619995\u001b[0m\u001b[1;33m,\u001b[0m\u001b[1;36m835.77002\u001b[0m\u001b[1;33m,\u001b[0m\u001b[1;36m825.059998\u001b[0m\u001b[1;33m,\u001b[0m\u001b[1;36m835.669983\u001b[0m\u001b[1;33m,\u001b[0m\u001b[1;36m1494500\u001b[0m\u001b[1;33m\n",
      "\u001b[0m\u001b[1;36m1\u001b[0m\u001b[1;33m/\u001b[0m\u001b[1;36m26\u001b[0m\u001b[1;33m/\u001b[0m\u001b[1;36m2017\u001b[0m\u001b[1;33m,\u001b[0m\u001b[1;36m837.809998\u001b[0m\u001b[1;33m,\u001b[0m\u001b[1;36m838\u001b[0m\u001b[1;33m,\u001b[0m\u001b[1;36m827.01001\u001b[0m\u001b[1;33m,\u001b[0m\u001b[1;36m832.150024\u001b[0m\u001b[1;33m,\u001b[0m\u001b[1;36m2734400\u001b[0m\u001b[1;33m\n",
      "\u001b[0m\u001b[1;36m1\u001b[0m\u001b[1;33m/\u001b[0m\u001b[1;36m27\u001b[0m\u001b[1;33m/\u001b[0m\u001b[1;36m2017\u001b[0m\u001b[1;33m,\u001b[0m\u001b[1;36m834.710022\u001b[0m\u001b[1;33m,\u001b[0m\u001b[1;36m841.950012\u001b[0m\u001b[1;33m,\u001b[0m\u001b[1;36m820.440002\u001b[0m\u001b[1;33m,\u001b[0m\u001b[1;36m823.309998\u001b[0m\u001b[1;33m,\u001b[0m\u001b[1;36m2951800\u001b[0m\u001b[1;33m\n",
      "\u001b[0m\u001b[1;36m1\u001b[0m\u001b[1;33m/\u001b[0m\u001b[1;36m30\u001b[0m\u001b[1;33m/\u001b[0m\u001b[1;36m2017\u001b[0m\u001b[1;33m,\u001b[0m\u001b[1;36m814.659973\u001b[0m\u001b[1;33m,\u001b[0m\u001b[1;36m815.840027\u001b[0m\u001b[1;33m,\u001b[0m\u001b[1;36m799.799988\u001b[0m\u001b[1;33m,\u001b[0m\u001b[1;36m802.320007\u001b[0m\u001b[1;33m,\u001b[0m\u001b[1;36m3228900\u001b[0m\u001b[1;33m\n",
      "\u001b[0m\u001b[1;36m1\u001b[0m\u001b[1;33m/\u001b[0m\u001b[1;36m31\u001b[0m\u001b[1;33m/\u001b[0m\u001b[1;36m2017\u001b[0m\u001b[1;33m,\u001b[0m\u001b[1;36m796.859985\u001b[0m\u001b[1;33m,\u001b[0m\u001b[1;36m801.25\u001b[0m\u001b[1;33m,\u001b[0m\u001b[1;36m790.52002\u001b[0m\u001b[1;33m,\u001b[0m\u001b[1;36m796.789978\u001b[0m\u001b[1;33m,\u001b[0m\u001b[1;36m2143500\u001b[0m\u001b[1;33m\n",
      "\u001b[0m\u001b[1;36m2\u001b[0m\u001b[1;33m/\u001b[0m\u001b[1;36m1\u001b[0m\u001b[1;33m/\u001b[0m\u001b[1;36m2017\u001b[0m\u001b[1;33m,\u001b[0m\u001b[1;36m799.679993\u001b[0m\u001b[1;33m,\u001b[0m\u001b[1;36m801.190002\u001b[0m\u001b[1;33m,\u001b[0m\u001b[1;36m791.190002\u001b[0m\u001b[1;33m,\u001b[0m\u001b[1;36m795.695007\u001b[0m\u001b[1;33m,\u001b[0m\u001b[1;36m2023300\u001b[0m\u001b[1;33m\n",
      "\u001b[0m\u001b[1;36m2\u001b[0m\u001b[1;33m/\u001b[0m\u001b[1;36m2\u001b[0m\u001b[1;33m/\u001b[0m\u001b[1;36m2017\u001b[0m\u001b[1;33m,\u001b[0m\u001b[1;36m793.799988\u001b[0m\u001b[1;33m,\u001b[0m\u001b[1;36m802.700012\u001b[0m\u001b[1;33m,\u001b[0m\u001b[1;36m792\u001b[0m\u001b[1;33m,\u001b[0m\u001b[1;36m798.530029\u001b[0m\u001b[1;33m,\u001b[0m\u001b[1;36m1525800\u001b[0m\u001b[1;33m\n",
      "\u001b[0m\u001b[1;36m2\u001b[0m\u001b[1;33m/\u001b[0m\u001b[1;36m3\u001b[0m\u001b[1;33m/\u001b[0m\u001b[1;36m2017\u001b[0m\u001b[1;33m,\u001b[0m\u001b[1;36m802.98999\u001b[0m\u001b[1;33m,\u001b[0m\u001b[1;36m806\u001b[0m\u001b[1;33m,\u001b[0m\u001b[1;36m800.369995\u001b[0m\u001b[1;33m,\u001b[0m\u001b[1;36m801.48999\u001b[0m\u001b[1;33m,\u001b[0m\u001b[1;36m1460400\u001b[0m\u001b[1;33m\n",
      "\u001b[0m\u001b[1;36m2\u001b[0m\u001b[1;33m/\u001b[0m\u001b[1;36m6\u001b[0m\u001b[1;33m/\u001b[0m\u001b[1;36m2017\u001b[0m\u001b[1;33m,\u001b[0m\u001b[1;36m799.700012\u001b[0m\u001b[1;33m,\u001b[0m\u001b[1;36m801.669983\u001b[0m\u001b[1;33m,\u001b[0m\u001b[1;36m795.25\u001b[0m\u001b[1;33m,\u001b[0m\u001b[1;36m801.340027\u001b[0m\u001b[1;33m,\u001b[0m\u001b[1;36m1174200\u001b[0m\u001b[1;33m\n",
      "\u001b[0m\u001b[1;36m2\u001b[0m\u001b[1;33m/\u001b[0m\u001b[1;36m7\u001b[0m\u001b[1;33m/\u001b[0m\u001b[1;36m2017\u001b[0m\u001b[1;33m,\u001b[0m\u001b[1;36m803.98999\u001b[0m\u001b[1;33m,\u001b[0m\u001b[1;36m810.5\u001b[0m\u001b[1;33m,\u001b[0m\u001b[1;36m801.780029\u001b[0m\u001b[1;33m,\u001b[0m\u001b[1;36m806.969971\u001b[0m\u001b[1;33m,\u001b[0m\u001b[1;36m1235200\u001b[0m\u001b[1;33m\n",
      "\u001b[0m\u001b[1;36m2\u001b[0m\u001b[1;33m/\u001b[0m\u001b[1;36m8\u001b[0m\u001b[1;33m/\u001b[0m\u001b[1;36m2017\u001b[0m\u001b[1;33m,\u001b[0m\u001b[1;36m807\u001b[0m\u001b[1;33m,\u001b[0m\u001b[1;36m811.840027\u001b[0m\u001b[1;33m,\u001b[0m\u001b[1;36m803.190002\u001b[0m\u001b[1;33m,\u001b[0m\u001b[1;36m808.380005\u001b[0m\u001b[1;33m,\u001b[0m\u001b[1;36m1155300\u001b[0m\u001b[1;33m\n",
      "\u001b[0m\u001b[1;36m2\u001b[0m\u001b[1;33m/\u001b[0m\u001b[1;36m9\u001b[0m\u001b[1;33m/\u001b[0m\u001b[1;36m2017\u001b[0m\u001b[1;33m,\u001b[0m\u001b[1;36m809.51001\u001b[0m\u001b[1;33m,\u001b[0m\u001b[1;36m810.659973\u001b[0m\u001b[1;33m,\u001b[0m\u001b[1;36m804.539978\u001b[0m\u001b[1;33m,\u001b[0m\u001b[1;36m809.559998\u001b[0m\u001b[1;33m,\u001b[0m\u001b[1;36m989700\u001b[0m\u001b[1;33m\n",
      "\u001b[0m\u001b[1;36m2\u001b[0m\u001b[1;33m/\u001b[0m\u001b[1;36m10\u001b[0m\u001b[1;33m/\u001b[0m\u001b[1;36m2017\u001b[0m\u001b[1;33m,\u001b[0m\u001b[1;36m811.700012\u001b[0m\u001b[1;33m,\u001b[0m\u001b[1;36m815.25\u001b[0m\u001b[1;33m,\u001b[0m\u001b[1;36m809.780029\u001b[0m\u001b[1;33m,\u001b[0m\u001b[1;36m813.669983\u001b[0m\u001b[1;33m,\u001b[0m\u001b[1;36m1129100\u001b[0m\u001b[1;33m\n",
      "\u001b[0m\u001b[1;36m2\u001b[0m\u001b[1;33m/\u001b[0m\u001b[1;36m13\u001b[0m\u001b[1;33m/\u001b[0m\u001b[1;36m2017\u001b[0m\u001b[1;33m,\u001b[0m\u001b[1;36m816\u001b[0m\u001b[1;33m,\u001b[0m\u001b[1;36m820.958984\u001b[0m\u001b[1;33m,\u001b[0m\u001b[1;36m815.48999\u001b[0m\u001b[1;33m,\u001b[0m\u001b[1;36m819.23999\u001b[0m\u001b[1;33m,\u001b[0m\u001b[1;36m1198100\u001b[0m\u001b[1;33m\n",
      "\u001b[0m\u001b[1;36m2\u001b[0m\u001b[1;33m/\u001b[0m\u001b[1;36m14\u001b[0m\u001b[1;33m/\u001b[0m\u001b[1;36m2017\u001b[0m\u001b[1;33m,\u001b[0m\u001b[1;36m819\u001b[0m\u001b[1;33m,\u001b[0m\u001b[1;36m823\u001b[0m\u001b[1;33m,\u001b[0m\u001b[1;36m816\u001b[0m\u001b[1;33m,\u001b[0m\u001b[1;36m820.450012\u001b[0m\u001b[1;33m,\u001b[0m\u001b[1;36m1053600\u001b[0m\u001b[1;33m\n",
      "\u001b[0m\u001b[1;36m2\u001b[0m\u001b[1;33m/\u001b[0m\u001b[1;36m15\u001b[0m\u001b[1;33m/\u001b[0m\u001b[1;36m2017\u001b[0m\u001b[1;33m,\u001b[0m\u001b[1;36m819.359985\u001b[0m\u001b[1;33m,\u001b[0m\u001b[1;36m823\u001b[0m\u001b[1;33m,\u001b[0m\u001b[1;36m818.469971\u001b[0m\u001b[1;33m,\u001b[0m\u001b[1;36m818.97998\u001b[0m\u001b[1;33m,\u001b[0m\u001b[1;36m1304000\u001b[0m\u001b[1;33m\n",
      "\u001b[0m\u001b[1;36m2\u001b[0m\u001b[1;33m/\u001b[0m\u001b[1;36m16\u001b[0m\u001b[1;33m/\u001b[0m\u001b[1;36m2017\u001b[0m\u001b[1;33m,\u001b[0m\u001b[1;36m819.929993\u001b[0m\u001b[1;33m,\u001b[0m\u001b[1;36m824.400024\u001b[0m\u001b[1;33m,\u001b[0m\u001b[1;36m818.97998\u001b[0m\u001b[1;33m,\u001b[0m\u001b[1;36m824.159973\u001b[0m\u001b[1;33m,\u001b[0m\u001b[1;36m1281700\u001b[0m\u001b[1;33m\n",
      "\u001b[0m\u001b[1;36m2\u001b[0m\u001b[1;33m/\u001b[0m\u001b[1;36m17\u001b[0m\u001b[1;33m/\u001b[0m\u001b[1;36m2017\u001b[0m\u001b[1;33m,\u001b[0m\u001b[1;36m823.02002\u001b[0m\u001b[1;33m,\u001b[0m\u001b[1;36m828.070007\u001b[0m\u001b[1;33m,\u001b[0m\u001b[1;36m821.655029\u001b[0m\u001b[1;33m,\u001b[0m\u001b[1;36m828.070007\u001b[0m\u001b[1;33m,\u001b[0m\u001b[1;36m1597800\u001b[0m\u001b[1;33m\n",
      "\u001b[0m\u001b[1;36m2\u001b[0m\u001b[1;33m/\u001b[0m\u001b[1;36m21\u001b[0m\u001b[1;33m/\u001b[0m\u001b[1;36m2017\u001b[0m\u001b[1;33m,\u001b[0m\u001b[1;36m828.659973\u001b[0m\u001b[1;33m,\u001b[0m\u001b[1;36m833.450012\u001b[0m\u001b[1;33m,\u001b[0m\u001b[1;36m828.349976\u001b[0m\u001b[1;33m,\u001b[0m\u001b[1;36m831.659973\u001b[0m\u001b[1;33m,\u001b[0m\u001b[1;36m1247700\u001b[0m\u001b[1;33m\n",
      "\u001b[0m\u001b[1;36m2\u001b[0m\u001b[1;33m/\u001b[0m\u001b[1;36m22\u001b[0m\u001b[1;33m/\u001b[0m\u001b[1;36m2017\u001b[0m\u001b[1;33m,\u001b[0m\u001b[1;36m828.659973\u001b[0m\u001b[1;33m,\u001b[0m\u001b[1;36m833.25\u001b[0m\u001b[1;33m,\u001b[0m\u001b[1;36m828.640015\u001b[0m\u001b[1;33m,\u001b[0m\u001b[1;36m830.76001\u001b[0m\u001b[1;33m,\u001b[0m\u001b[1;36m982900\u001b[0m\u001b[1;33m\n",
      "\u001b[0m\u001b[1;36m2\u001b[0m\u001b[1;33m/\u001b[0m\u001b[1;36m23\u001b[0m\u001b[1;33m/\u001b[0m\u001b[1;36m2017\u001b[0m\u001b[1;33m,\u001b[0m\u001b[1;36m830.119995\u001b[0m\u001b[1;33m,\u001b[0m\u001b[1;36m832.460022\u001b[0m\u001b[1;33m,\u001b[0m\u001b[1;36m822.880005\u001b[0m\u001b[1;33m,\u001b[0m\u001b[1;36m831.330017\u001b[0m\u001b[1;33m,\u001b[0m\u001b[1;36m1470100\u001b[0m\u001b[1;33m\n",
      "\u001b[0m\u001b[1;36m2\u001b[0m\u001b[1;33m/\u001b[0m\u001b[1;36m24\u001b[0m\u001b[1;33m/\u001b[0m\u001b[1;36m2017\u001b[0m\u001b[1;33m,\u001b[0m\u001b[1;36m827.72998\u001b[0m\u001b[1;33m,\u001b[0m\u001b[1;36m829\u001b[0m\u001b[1;33m,\u001b[0m\u001b[1;36m824.200012\u001b[0m\u001b[1;33m,\u001b[0m\u001b[1;36m828.640015\u001b[0m\u001b[1;33m,\u001b[0m\u001b[1;36m1386600\u001b[0m\u001b[1;33m\n",
      "\u001b[0m\u001b[1;36m2\u001b[0m\u001b[1;33m/\u001b[0m\u001b[1;36m27\u001b[0m\u001b[1;33m/\u001b[0m\u001b[1;36m2017\u001b[0m\u001b[1;33m,\u001b[0m\u001b[1;36m824.549988\u001b[0m\u001b[1;33m,\u001b[0m\u001b[1;36m830.5\u001b[0m\u001b[1;33m,\u001b[0m\u001b[1;36m824\u001b[0m\u001b[1;33m,\u001b[0m\u001b[1;36m829.280029\u001b[0m\u001b[1;33m,\u001b[0m\u001b[1;36m1099500\u001b[0m\u001b[1;33m\n",
      "\u001b[0m\u001b[1;36m2\u001b[0m\u001b[1;33m/\u001b[0m\u001b[1;36m28\u001b[0m\u001b[1;33m/\u001b[0m\u001b[1;36m2017\u001b[0m\u001b[1;33m,\u001b[0m\u001b[1;36m825.609985\u001b[0m\u001b[1;33m,\u001b[0m\u001b[1;36m828.539978\u001b[0m\u001b[1;33m,\u001b[0m\u001b[1;36m820.200012\u001b[0m\u001b[1;33m,\u001b[0m\u001b[1;36m823.210022\u001b[0m\u001b[1;33m,\u001b[0m\u001b[1;36m2252300\u001b[0m\u001b[1;33m\n",
      "\u001b[0m\u001b[1;36m3\u001b[0m\u001b[1;33m/\u001b[0m\u001b[1;36m1\u001b[0m\u001b[1;33m/\u001b[0m\u001b[1;36m2017\u001b[0m\u001b[1;33m,\u001b[0m\u001b[1;36m828.849976\u001b[0m\u001b[1;33m,\u001b[0m\u001b[1;36m836.255005\u001b[0m\u001b[1;33m,\u001b[0m\u001b[1;36m827.26001\u001b[0m\u001b[1;33m,\u001b[0m\u001b[1;36m835.23999\u001b[0m\u001b[1;33m,\u001b[0m\u001b[1;36m1491400\u001b[0m\u001b[1;33m\n",
      "\u001b[0m\u001b[1;36m3\u001b[0m\u001b[1;33m/\u001b[0m\u001b[1;36m2\u001b[0m\u001b[1;33m/\u001b[0m\u001b[1;36m2017\u001b[0m\u001b[1;33m,\u001b[0m\u001b[1;36m833.849976\u001b[0m\u001b[1;33m,\u001b[0m\u001b[1;36m834.51001\u001b[0m\u001b[1;33m,\u001b[0m\u001b[1;36m829.640015\u001b[0m\u001b[1;33m,\u001b[0m\u001b[1;36m830.630005\u001b[0m\u001b[1;33m,\u001b[0m\u001b[1;36m937700\u001b[0m\u001b[1;33m\n",
      "\u001b[0m\u001b[1;36m3\u001b[0m\u001b[1;33m/\u001b[0m\u001b[1;36m3\u001b[0m\u001b[1;33m/\u001b[0m\u001b[1;36m2017\u001b[0m\u001b[1;33m,\u001b[0m\u001b[1;36m830.559998\u001b[0m\u001b[1;33m,\u001b[0m\u001b[1;36m831.359985\u001b[0m\u001b[1;33m,\u001b[0m\u001b[1;36m825.750977\u001b[0m\u001b[1;33m,\u001b[0m\u001b[1;36m829.080017\u001b[0m\u001b[1;33m,\u001b[0m\u001b[1;36m888900\u001b[0m\u001b[1;33m\n",
      "\u001b[0m\u001b[1;36m3\u001b[0m\u001b[1;33m/\u001b[0m\u001b[1;36m6\u001b[0m\u001b[1;33m/\u001b[0m\u001b[1;36m2017\u001b[0m\u001b[1;33m,\u001b[0m\u001b[1;36m826.950012\u001b[0m\u001b[1;33m,\u001b[0m\u001b[1;36m828.880005\u001b[0m\u001b[1;33m,\u001b[0m\u001b[1;36m822.400024\u001b[0m\u001b[1;33m,\u001b[0m\u001b[1;36m827.780029\u001b[0m\u001b[1;33m,\u001b[0m\u001b[1;36m1105800\u001b[0m\u001b[1;33m\n",
      "\u001b[0m\u001b[1;36m3\u001b[0m\u001b[1;33m/\u001b[0m\u001b[1;36m7\u001b[0m\u001b[1;33m/\u001b[0m\u001b[1;36m2017\u001b[0m\u001b[1;33m,\u001b[0m\u001b[1;36m827.400024\u001b[0m\u001b[1;33m,\u001b[0m\u001b[1;36m833.409973\u001b[0m\u001b[1;33m,\u001b[0m\u001b[1;36m826.52002\u001b[0m\u001b[1;33m,\u001b[0m\u001b[1;36m831.909973\u001b[0m\u001b[1;33m,\u001b[0m\u001b[1;36m1016600\u001b[0m\u001b[1;33m\n",
      "\u001b[0m\u001b[1;36m3\u001b[0m\u001b[1;33m/\u001b[0m\u001b[1;36m8\u001b[0m\u001b[1;33m/\u001b[0m\u001b[1;36m2017\u001b[0m\u001b[1;33m,\u001b[0m\u001b[1;36m833.51001\u001b[0m\u001b[1;33m,\u001b[0m\u001b[1;36m838.150024\u001b[0m\u001b[1;33m,\u001b[0m\u001b[1;36m831.789978\u001b[0m\u001b[1;33m,\u001b[0m\u001b[1;36m835.369995\u001b[0m\u001b[1;33m,\u001b[0m\u001b[1;36m988700\u001b[0m\u001b[1;33m\n",
      "\u001b[0m\u001b[1;36m3\u001b[0m\u001b[1;33m/\u001b[0m\u001b[1;36m9\u001b[0m\u001b[1;33m/\u001b[0m\u001b[1;36m2017\u001b[0m\u001b[1;33m,\u001b[0m\u001b[1;36m836\u001b[0m\u001b[1;33m,\u001b[0m\u001b[1;36m842\u001b[0m\u001b[1;33m,\u001b[0m\u001b[1;36m834.210022\u001b[0m\u001b[1;33m,\u001b[0m\u001b[1;36m838.679993\u001b[0m\u001b[1;33m,\u001b[0m\u001b[1;36m1259900\u001b[0m\u001b[1;33m\n",
      "\u001b[0m\u001b[1;36m3\u001b[0m\u001b[1;33m/\u001b[0m\u001b[1;36m10\u001b[0m\u001b[1;33m/\u001b[0m\u001b[1;36m2017\u001b[0m\u001b[1;33m,\u001b[0m\u001b[1;36m843.280029\u001b[0m\u001b[1;33m,\u001b[0m\u001b[1;36m844.909973\u001b[0m\u001b[1;33m,\u001b[0m\u001b[1;36m839.5\u001b[0m\u001b[1;33m,\u001b[0m\u001b[1;36m843.25\u001b[0m\u001b[1;33m,\u001b[0m\u001b[1;36m1701100\u001b[0m\u001b[1;33m\n",
      "\u001b[0m\u001b[1;36m3\u001b[0m\u001b[1;33m/\u001b[0m\u001b[1;36m13\u001b[0m\u001b[1;33m/\u001b[0m\u001b[1;36m2017\u001b[0m\u001b[1;33m,\u001b[0m\u001b[1;36m844\u001b[0m\u001b[1;33m,\u001b[0m\u001b[1;36m848.684998\u001b[0m\u001b[1;33m,\u001b[0m\u001b[1;36m843.25\u001b[0m\u001b[1;33m,\u001b[0m\u001b[1;36m845.539978\u001b[0m\u001b[1;33m,\u001b[0m\u001b[1;36m1149500\u001b[0m\u001b[1;33m\n",
      "\u001b[0m\u001b[1;36m3\u001b[0m\u001b[1;33m/\u001b[0m\u001b[1;36m14\u001b[0m\u001b[1;33m/\u001b[0m\u001b[1;36m2017\u001b[0m\u001b[1;33m,\u001b[0m\u001b[1;36m843.640015\u001b[0m\u001b[1;33m,\u001b[0m\u001b[1;36m847.23999\u001b[0m\u001b[1;33m,\u001b[0m\u001b[1;36m840.799988\u001b[0m\u001b[1;33m,\u001b[0m\u001b[1;36m845.619995\u001b[0m\u001b[1;33m,\u001b[0m\u001b[1;36m779900\u001b[0m\u001b[1;33m\n",
      "\u001b[0m\u001b[1;36m3\u001b[0m\u001b[1;33m/\u001b[0m\u001b[1;36m15\u001b[0m\u001b[1;33m/\u001b[0m\u001b[1;36m2017\u001b[0m\u001b[1;33m,\u001b[0m\u001b[1;36m847.590027\u001b[0m\u001b[1;33m,\u001b[0m\u001b[1;36m848.630005\u001b[0m\u001b[1;33m,\u001b[0m\u001b[1;36m840.77002\u001b[0m\u001b[1;33m,\u001b[0m\u001b[1;36m847.200012\u001b[0m\u001b[1;33m,\u001b[0m\u001b[1;36m1379600\u001b[0m\u001b[1;33m\n",
      "\u001b[0m\u001b[1;36m3\u001b[0m\u001b[1;33m/\u001b[0m\u001b[1;36m16\u001b[0m\u001b[1;33m/\u001b[0m\u001b[1;36m2017\u001b[0m\u001b[1;33m,\u001b[0m\u001b[1;36m849.030029\u001b[0m\u001b[1;33m,\u001b[0m\u001b[1;36m850.849976\u001b[0m\u001b[1;33m,\u001b[0m\u001b[1;36m846.130005\u001b[0m\u001b[1;33m,\u001b[0m\u001b[1;36m848.780029\u001b[0m\u001b[1;33m,\u001b[0m\u001b[1;36m970400\u001b[0m\u001b[1;33m\n",
      "\u001b[0m\u001b[1;36m3\u001b[0m\u001b[1;33m/\u001b[0m\u001b[1;36m17\u001b[0m\u001b[1;33m/\u001b[0m\u001b[1;36m2017\u001b[0m\u001b[1;33m,\u001b[0m\u001b[1;36m851.609985\u001b[0m\u001b[1;33m,\u001b[0m\u001b[1;36m853.400024\u001b[0m\u001b[1;33m,\u001b[0m\u001b[1;36m847.109985\u001b[0m\u001b[1;33m,\u001b[0m\u001b[1;36m852.119995\u001b[0m\u001b[1;33m,\u001b[0m\u001b[1;36m1712300\u001b[0m\u001b[1;33m\u001b[0m\u001b[1;33m\u001b[0m\u001b[0m\n"
     ]
    }
   ],
   "source": [
    "%pfile data/goog.csv"
   ]
  },
  {
   "cell_type": "code",
   "execution_count": 25,
   "metadata": {},
   "outputs": [
    {
     "data": {
      "text/html": [
       "<div>\n",
       "<style scoped>\n",
       "    .dataframe tbody tr th:only-of-type {\n",
       "        vertical-align: middle;\n",
       "    }\n",
       "\n",
       "    .dataframe tbody tr th {\n",
       "        vertical-align: top;\n",
       "    }\n",
       "\n",
       "    .dataframe thead th {\n",
       "        text-align: right;\n",
       "    }\n",
       "</style>\n",
       "<table border=\"1\" class=\"dataframe\">\n",
       "  <thead>\n",
       "    <tr style=\"text-align: right;\">\n",
       "      <th></th>\n",
       "      <th>Date</th>\n",
       "      <th>Open</th>\n",
       "      <th>High</th>\n",
       "      <th>Low</th>\n",
       "      <th>Close</th>\n",
       "      <th>Volume</th>\n",
       "    </tr>\n",
       "  </thead>\n",
       "  <tbody>\n",
       "    <tr>\n",
       "      <th>0</th>\n",
       "      <td>12/19/2016</td>\n",
       "      <td>790.219971</td>\n",
       "      <td>797.659973</td>\n",
       "      <td>786.270020</td>\n",
       "      <td>794.200012</td>\n",
       "      <td>1225900</td>\n",
       "    </tr>\n",
       "    <tr>\n",
       "      <th>1</th>\n",
       "      <td>12/20/2016</td>\n",
       "      <td>796.760010</td>\n",
       "      <td>798.650024</td>\n",
       "      <td>793.270020</td>\n",
       "      <td>796.419983</td>\n",
       "      <td>925100</td>\n",
       "    </tr>\n",
       "    <tr>\n",
       "      <th>2</th>\n",
       "      <td>12/21/2016</td>\n",
       "      <td>795.840027</td>\n",
       "      <td>796.676025</td>\n",
       "      <td>787.099976</td>\n",
       "      <td>794.559998</td>\n",
       "      <td>1208700</td>\n",
       "    </tr>\n",
       "    <tr>\n",
       "      <th>3</th>\n",
       "      <td>12/22/2016</td>\n",
       "      <td>792.359985</td>\n",
       "      <td>793.320007</td>\n",
       "      <td>788.580017</td>\n",
       "      <td>791.260010</td>\n",
       "      <td>969100</td>\n",
       "    </tr>\n",
       "    <tr>\n",
       "      <th>4</th>\n",
       "      <td>12/23/2016</td>\n",
       "      <td>790.900024</td>\n",
       "      <td>792.739990</td>\n",
       "      <td>787.280029</td>\n",
       "      <td>789.909973</td>\n",
       "      <td>623400</td>\n",
       "    </tr>\n",
       "    <tr>\n",
       "      <th>...</th>\n",
       "      <td>...</td>\n",
       "      <td>...</td>\n",
       "      <td>...</td>\n",
       "      <td>...</td>\n",
       "      <td>...</td>\n",
       "      <td>...</td>\n",
       "    </tr>\n",
       "    <tr>\n",
       "      <th>56</th>\n",
       "      <td>3/13/2017</td>\n",
       "      <td>844.000000</td>\n",
       "      <td>848.684998</td>\n",
       "      <td>843.250000</td>\n",
       "      <td>845.539978</td>\n",
       "      <td>1149500</td>\n",
       "    </tr>\n",
       "    <tr>\n",
       "      <th>57</th>\n",
       "      <td>3/14/2017</td>\n",
       "      <td>843.640015</td>\n",
       "      <td>847.239990</td>\n",
       "      <td>840.799988</td>\n",
       "      <td>845.619995</td>\n",
       "      <td>779900</td>\n",
       "    </tr>\n",
       "    <tr>\n",
       "      <th>58</th>\n",
       "      <td>3/15/2017</td>\n",
       "      <td>847.590027</td>\n",
       "      <td>848.630005</td>\n",
       "      <td>840.770020</td>\n",
       "      <td>847.200012</td>\n",
       "      <td>1379600</td>\n",
       "    </tr>\n",
       "    <tr>\n",
       "      <th>59</th>\n",
       "      <td>3/16/2017</td>\n",
       "      <td>849.030029</td>\n",
       "      <td>850.849976</td>\n",
       "      <td>846.130005</td>\n",
       "      <td>848.780029</td>\n",
       "      <td>970400</td>\n",
       "    </tr>\n",
       "    <tr>\n",
       "      <th>60</th>\n",
       "      <td>3/17/2017</td>\n",
       "      <td>851.609985</td>\n",
       "      <td>853.400024</td>\n",
       "      <td>847.109985</td>\n",
       "      <td>852.119995</td>\n",
       "      <td>1712300</td>\n",
       "    </tr>\n",
       "  </tbody>\n",
       "</table>\n",
       "<p>61 rows × 6 columns</p>\n",
       "</div>"
      ],
      "text/plain": [
       "          Date        Open        High         Low       Close   Volume\n",
       "0   12/19/2016  790.219971  797.659973  786.270020  794.200012  1225900\n",
       "1   12/20/2016  796.760010  798.650024  793.270020  796.419983   925100\n",
       "2   12/21/2016  795.840027  796.676025  787.099976  794.559998  1208700\n",
       "3   12/22/2016  792.359985  793.320007  788.580017  791.260010   969100\n",
       "4   12/23/2016  790.900024  792.739990  787.280029  789.909973   623400\n",
       "..         ...         ...         ...         ...         ...      ...\n",
       "56   3/13/2017  844.000000  848.684998  843.250000  845.539978  1149500\n",
       "57   3/14/2017  843.640015  847.239990  840.799988  845.619995   779900\n",
       "58   3/15/2017  847.590027  848.630005  840.770020  847.200012  1379600\n",
       "59   3/16/2017  849.030029  850.849976  846.130005  848.780029   970400\n",
       "60   3/17/2017  851.609985  853.400024  847.109985  852.119995  1712300\n",
       "\n",
       "[61 rows x 6 columns]"
      ]
     },
     "execution_count": 25,
     "metadata": {},
     "output_type": "execute_result"
    }
   ],
   "source": [
    "df = pd.read_csv('data/goog.csv') # ipynb 파일이 존재하는 디렉터리의 하위디렉터리인\n",
    "   # data 디렉터리에 존재하는 goog.csv파일을 오픈하겠다는 의미입니다 \n",
    "df"
   ]
  },
  {
   "cell_type": "code",
   "execution_count": 26,
   "metadata": {},
   "outputs": [
    {
     "data": {
      "text/plain": [
       "0     12/19/2016\n",
       "1     12/20/2016\n",
       "2     12/21/2016\n",
       "3     12/22/2016\n",
       "4     12/23/2016\n",
       "         ...    \n",
       "56     3/13/2017\n",
       "57     3/14/2017\n",
       "58     3/15/2017\n",
       "59     3/16/2017\n",
       "60     3/17/2017\n",
       "Name: Date, Length: 61, dtype: object"
      ]
     },
     "execution_count": 26,
     "metadata": {},
     "output_type": "execute_result"
    }
   ],
   "source": [
    "df.Date"
   ]
  },
  {
   "cell_type": "code",
   "execution_count": 27,
   "metadata": {},
   "outputs": [
    {
     "data": {
      "text/plain": [
       "0     790.219971\n",
       "1     796.760010\n",
       "2     795.840027\n",
       "3     792.359985\n",
       "4     790.900024\n",
       "         ...    \n",
       "56    844.000000\n",
       "57    843.640015\n",
       "58    847.590027\n",
       "59    849.030029\n",
       "60    851.609985\n",
       "Name: Open, Length: 61, dtype: float64"
      ]
     },
     "execution_count": 27,
     "metadata": {},
     "output_type": "execute_result"
    }
   ],
   "source": [
    "df.Open"
   ]
  },
  {
   "cell_type": "code",
   "execution_count": 28,
   "metadata": {},
   "outputs": [
    {
     "data": {
      "text/html": [
       "<div>\n",
       "<style scoped>\n",
       "    .dataframe tbody tr th:only-of-type {\n",
       "        vertical-align: middle;\n",
       "    }\n",
       "\n",
       "    .dataframe tbody tr th {\n",
       "        vertical-align: top;\n",
       "    }\n",
       "\n",
       "    .dataframe thead th {\n",
       "        text-align: right;\n",
       "    }\n",
       "</style>\n",
       "<table border=\"1\" class=\"dataframe\">\n",
       "  <thead>\n",
       "    <tr style=\"text-align: right;\">\n",
       "      <th></th>\n",
       "      <th>Date</th>\n",
       "      <th>Open</th>\n",
       "      <th>High</th>\n",
       "      <th>Low</th>\n",
       "      <th>Close</th>\n",
       "      <th>Volume</th>\n",
       "    </tr>\n",
       "  </thead>\n",
       "  <tbody>\n",
       "    <tr>\n",
       "      <th>0</th>\n",
       "      <td>12/19/2016</td>\n",
       "      <td>790.219971</td>\n",
       "      <td>797.659973</td>\n",
       "      <td>786.270020</td>\n",
       "      <td>794.200012</td>\n",
       "      <td>1225900</td>\n",
       "    </tr>\n",
       "    <tr>\n",
       "      <th>1</th>\n",
       "      <td>12/20/2016</td>\n",
       "      <td>796.760010</td>\n",
       "      <td>798.650024</td>\n",
       "      <td>793.270020</td>\n",
       "      <td>796.419983</td>\n",
       "      <td>925100</td>\n",
       "    </tr>\n",
       "    <tr>\n",
       "      <th>2</th>\n",
       "      <td>12/21/2016</td>\n",
       "      <td>795.840027</td>\n",
       "      <td>796.676025</td>\n",
       "      <td>787.099976</td>\n",
       "      <td>794.559998</td>\n",
       "      <td>1208700</td>\n",
       "    </tr>\n",
       "  </tbody>\n",
       "</table>\n",
       "</div>"
      ],
      "text/plain": [
       "         Date        Open        High         Low       Close   Volume\n",
       "0  12/19/2016  790.219971  797.659973  786.270020  794.200012  1225900\n",
       "1  12/20/2016  796.760010  798.650024  793.270020  796.419983   925100\n",
       "2  12/21/2016  795.840027  796.676025  787.099976  794.559998  1208700"
      ]
     },
     "execution_count": 28,
     "metadata": {},
     "output_type": "execute_result"
    }
   ],
   "source": [
    "df3 = df.iloc[0:3]\n",
    "df3"
   ]
  },
  {
   "cell_type": "code",
   "execution_count": 29,
   "metadata": {},
   "outputs": [
    {
     "data": {
      "text/html": [
       "<div>\n",
       "<style scoped>\n",
       "    .dataframe tbody tr th:only-of-type {\n",
       "        vertical-align: middle;\n",
       "    }\n",
       "\n",
       "    .dataframe tbody tr th {\n",
       "        vertical-align: top;\n",
       "    }\n",
       "\n",
       "    .dataframe thead th {\n",
       "        text-align: right;\n",
       "    }\n",
       "</style>\n",
       "<table border=\"1\" class=\"dataframe\">\n",
       "  <thead>\n",
       "    <tr style=\"text-align: right;\">\n",
       "      <th></th>\n",
       "      <th>Close</th>\n",
       "      <th>Volume</th>\n",
       "    </tr>\n",
       "  </thead>\n",
       "  <tbody>\n",
       "    <tr>\n",
       "      <th>0</th>\n",
       "      <td>794.200012</td>\n",
       "      <td>1225900</td>\n",
       "    </tr>\n",
       "    <tr>\n",
       "      <th>1</th>\n",
       "      <td>796.419983</td>\n",
       "      <td>925100</td>\n",
       "    </tr>\n",
       "    <tr>\n",
       "      <th>2</th>\n",
       "      <td>794.559998</td>\n",
       "      <td>1208700</td>\n",
       "    </tr>\n",
       "  </tbody>\n",
       "</table>\n",
       "</div>"
      ],
      "text/plain": [
       "        Close   Volume\n",
       "0  794.200012  1225900\n",
       "1  796.419983   925100\n",
       "2  794.559998  1208700"
      ]
     },
     "execution_count": 29,
     "metadata": {},
     "output_type": "execute_result"
    }
   ],
   "source": [
    "df3 = df.iloc[0:3,4:]\n",
    "df3"
   ]
  },
  {
   "cell_type": "code",
   "execution_count": 30,
   "metadata": {},
   "outputs": [
    {
     "data": {
      "text/html": [
       "<div>\n",
       "<style scoped>\n",
       "    .dataframe tbody tr th:only-of-type {\n",
       "        vertical-align: middle;\n",
       "    }\n",
       "\n",
       "    .dataframe tbody tr th {\n",
       "        vertical-align: top;\n",
       "    }\n",
       "\n",
       "    .dataframe thead th {\n",
       "        text-align: right;\n",
       "    }\n",
       "</style>\n",
       "<table border=\"1\" class=\"dataframe\">\n",
       "  <thead>\n",
       "    <tr style=\"text-align: right;\">\n",
       "      <th></th>\n",
       "      <th>Low</th>\n",
       "      <th>Close</th>\n",
       "    </tr>\n",
       "  </thead>\n",
       "  <tbody>\n",
       "    <tr>\n",
       "      <th>0</th>\n",
       "      <td>786.270020</td>\n",
       "      <td>794.200012</td>\n",
       "    </tr>\n",
       "    <tr>\n",
       "      <th>1</th>\n",
       "      <td>793.270020</td>\n",
       "      <td>796.419983</td>\n",
       "    </tr>\n",
       "    <tr>\n",
       "      <th>2</th>\n",
       "      <td>787.099976</td>\n",
       "      <td>794.559998</td>\n",
       "    </tr>\n",
       "  </tbody>\n",
       "</table>\n",
       "</div>"
      ],
      "text/plain": [
       "          Low       Close\n",
       "0  786.270020  794.200012\n",
       "1  793.270020  796.419983\n",
       "2  787.099976  794.559998"
      ]
     },
     "execution_count": 30,
     "metadata": {},
     "output_type": "execute_result"
    }
   ],
   "source": [
    "df4 = df.iloc[0:3,3:5]\n",
    "df4"
   ]
  },
  {
   "cell_type": "code",
   "execution_count": 31,
   "metadata": {},
   "outputs": [
    {
     "data": {
      "text/html": [
       "<div>\n",
       "<style scoped>\n",
       "    .dataframe tbody tr th:only-of-type {\n",
       "        vertical-align: middle;\n",
       "    }\n",
       "\n",
       "    .dataframe tbody tr th {\n",
       "        vertical-align: top;\n",
       "    }\n",
       "\n",
       "    .dataframe thead th {\n",
       "        text-align: right;\n",
       "    }\n",
       "</style>\n",
       "<table border=\"1\" class=\"dataframe\">\n",
       "  <thead>\n",
       "    <tr style=\"text-align: right;\">\n",
       "      <th></th>\n",
       "      <th>Date</th>\n",
       "      <th>Open</th>\n",
       "      <th>High</th>\n",
       "      <th>Low</th>\n",
       "      <th>Close</th>\n",
       "      <th>Volume</th>\n",
       "    </tr>\n",
       "  </thead>\n",
       "  <tbody>\n",
       "    <tr>\n",
       "      <th>1</th>\n",
       "      <td>12/20/2016</td>\n",
       "      <td>796.760010</td>\n",
       "      <td>798.650024</td>\n",
       "      <td>793.270020</td>\n",
       "      <td>796.419983</td>\n",
       "      <td>925100</td>\n",
       "    </tr>\n",
       "    <tr>\n",
       "      <th>3</th>\n",
       "      <td>12/22/2016</td>\n",
       "      <td>792.359985</td>\n",
       "      <td>793.320007</td>\n",
       "      <td>788.580017</td>\n",
       "      <td>791.260010</td>\n",
       "      <td>969100</td>\n",
       "    </tr>\n",
       "    <tr>\n",
       "      <th>5</th>\n",
       "      <td>12/27/2016</td>\n",
       "      <td>790.679993</td>\n",
       "      <td>797.859985</td>\n",
       "      <td>787.656982</td>\n",
       "      <td>791.549988</td>\n",
       "      <td>789100</td>\n",
       "    </tr>\n",
       "    <tr>\n",
       "      <th>7</th>\n",
       "      <td>12/29/2016</td>\n",
       "      <td>783.330017</td>\n",
       "      <td>785.929993</td>\n",
       "      <td>778.919983</td>\n",
       "      <td>782.789978</td>\n",
       "      <td>742200</td>\n",
       "    </tr>\n",
       "    <tr>\n",
       "      <th>9</th>\n",
       "      <td>1/3/2017</td>\n",
       "      <td>778.809998</td>\n",
       "      <td>789.630005</td>\n",
       "      <td>775.799988</td>\n",
       "      <td>786.140015</td>\n",
       "      <td>1643100</td>\n",
       "    </tr>\n",
       "    <tr>\n",
       "      <th>...</th>\n",
       "      <td>...</td>\n",
       "      <td>...</td>\n",
       "      <td>...</td>\n",
       "      <td>...</td>\n",
       "      <td>...</td>\n",
       "      <td>...</td>\n",
       "    </tr>\n",
       "    <tr>\n",
       "      <th>51</th>\n",
       "      <td>3/6/2017</td>\n",
       "      <td>826.950012</td>\n",
       "      <td>828.880005</td>\n",
       "      <td>822.400024</td>\n",
       "      <td>827.780029</td>\n",
       "      <td>1105800</td>\n",
       "    </tr>\n",
       "    <tr>\n",
       "      <th>53</th>\n",
       "      <td>3/8/2017</td>\n",
       "      <td>833.510010</td>\n",
       "      <td>838.150024</td>\n",
       "      <td>831.789978</td>\n",
       "      <td>835.369995</td>\n",
       "      <td>988700</td>\n",
       "    </tr>\n",
       "    <tr>\n",
       "      <th>55</th>\n",
       "      <td>3/10/2017</td>\n",
       "      <td>843.280029</td>\n",
       "      <td>844.909973</td>\n",
       "      <td>839.500000</td>\n",
       "      <td>843.250000</td>\n",
       "      <td>1701100</td>\n",
       "    </tr>\n",
       "    <tr>\n",
       "      <th>57</th>\n",
       "      <td>3/14/2017</td>\n",
       "      <td>843.640015</td>\n",
       "      <td>847.239990</td>\n",
       "      <td>840.799988</td>\n",
       "      <td>845.619995</td>\n",
       "      <td>779900</td>\n",
       "    </tr>\n",
       "    <tr>\n",
       "      <th>59</th>\n",
       "      <td>3/16/2017</td>\n",
       "      <td>849.030029</td>\n",
       "      <td>850.849976</td>\n",
       "      <td>846.130005</td>\n",
       "      <td>848.780029</td>\n",
       "      <td>970400</td>\n",
       "    </tr>\n",
       "  </tbody>\n",
       "</table>\n",
       "<p>30 rows × 6 columns</p>\n",
       "</div>"
      ],
      "text/plain": [
       "          Date        Open        High         Low       Close   Volume\n",
       "1   12/20/2016  796.760010  798.650024  793.270020  796.419983   925100\n",
       "3   12/22/2016  792.359985  793.320007  788.580017  791.260010   969100\n",
       "5   12/27/2016  790.679993  797.859985  787.656982  791.549988   789100\n",
       "7   12/29/2016  783.330017  785.929993  778.919983  782.789978   742200\n",
       "9     1/3/2017  778.809998  789.630005  775.799988  786.140015  1643100\n",
       "..         ...         ...         ...         ...         ...      ...\n",
       "51    3/6/2017  826.950012  828.880005  822.400024  827.780029  1105800\n",
       "53    3/8/2017  833.510010  838.150024  831.789978  835.369995   988700\n",
       "55   3/10/2017  843.280029  844.909973  839.500000  843.250000  1701100\n",
       "57   3/14/2017  843.640015  847.239990  840.799988  845.619995   779900\n",
       "59   3/16/2017  849.030029  850.849976  846.130005  848.780029   970400\n",
       "\n",
       "[30 rows x 6 columns]"
      ]
     },
     "execution_count": 31,
     "metadata": {},
     "output_type": "execute_result"
    }
   ],
   "source": [
    "df5 = df.iloc[1:61:2]\n",
    "df5\n",
    " "
   ]
  },
  {
   "attachments": {},
   "cell_type": "markdown",
   "metadata": {},
   "source": [
    "### 실습-1.  \n",
    "df에 있는 자료 중에서 홀수의 행만을 출력하는 코드를 작성하세요.  \n",
    "df.iloc[1,3,5,7,9,11,13,15,17, ... ,:] 과 같은 코드는 안됩니다.  "
   ]
  },
  {
   "cell_type": "code",
   "execution_count": 32,
   "metadata": {},
   "outputs": [
    {
     "data": {
      "text/html": [
       "<div>\n",
       "<style scoped>\n",
       "    .dataframe tbody tr th:only-of-type {\n",
       "        vertical-align: middle;\n",
       "    }\n",
       "\n",
       "    .dataframe tbody tr th {\n",
       "        vertical-align: top;\n",
       "    }\n",
       "\n",
       "    .dataframe thead th {\n",
       "        text-align: right;\n",
       "    }\n",
       "</style>\n",
       "<table border=\"1\" class=\"dataframe\">\n",
       "  <thead>\n",
       "    <tr style=\"text-align: right;\">\n",
       "      <th></th>\n",
       "      <th>Date</th>\n",
       "      <th>Open</th>\n",
       "      <th>High</th>\n",
       "      <th>Low</th>\n",
       "      <th>Close</th>\n",
       "      <th>Volume</th>\n",
       "    </tr>\n",
       "  </thead>\n",
       "  <tbody>\n",
       "    <tr>\n",
       "      <th>1</th>\n",
       "      <td>12/20/2016</td>\n",
       "      <td>796.760010</td>\n",
       "      <td>798.650024</td>\n",
       "      <td>793.270020</td>\n",
       "      <td>796.419983</td>\n",
       "      <td>925100</td>\n",
       "    </tr>\n",
       "    <tr>\n",
       "      <th>3</th>\n",
       "      <td>12/22/2016</td>\n",
       "      <td>792.359985</td>\n",
       "      <td>793.320007</td>\n",
       "      <td>788.580017</td>\n",
       "      <td>791.260010</td>\n",
       "      <td>969100</td>\n",
       "    </tr>\n",
       "    <tr>\n",
       "      <th>5</th>\n",
       "      <td>12/27/2016</td>\n",
       "      <td>790.679993</td>\n",
       "      <td>797.859985</td>\n",
       "      <td>787.656982</td>\n",
       "      <td>791.549988</td>\n",
       "      <td>789100</td>\n",
       "    </tr>\n",
       "    <tr>\n",
       "      <th>7</th>\n",
       "      <td>12/29/2016</td>\n",
       "      <td>783.330017</td>\n",
       "      <td>785.929993</td>\n",
       "      <td>778.919983</td>\n",
       "      <td>782.789978</td>\n",
       "      <td>742200</td>\n",
       "    </tr>\n",
       "    <tr>\n",
       "      <th>9</th>\n",
       "      <td>1/3/2017</td>\n",
       "      <td>778.809998</td>\n",
       "      <td>789.630005</td>\n",
       "      <td>775.799988</td>\n",
       "      <td>786.140015</td>\n",
       "      <td>1643100</td>\n",
       "    </tr>\n",
       "    <tr>\n",
       "      <th>...</th>\n",
       "      <td>...</td>\n",
       "      <td>...</td>\n",
       "      <td>...</td>\n",
       "      <td>...</td>\n",
       "      <td>...</td>\n",
       "      <td>...</td>\n",
       "    </tr>\n",
       "    <tr>\n",
       "      <th>51</th>\n",
       "      <td>3/6/2017</td>\n",
       "      <td>826.950012</td>\n",
       "      <td>828.880005</td>\n",
       "      <td>822.400024</td>\n",
       "      <td>827.780029</td>\n",
       "      <td>1105800</td>\n",
       "    </tr>\n",
       "    <tr>\n",
       "      <th>53</th>\n",
       "      <td>3/8/2017</td>\n",
       "      <td>833.510010</td>\n",
       "      <td>838.150024</td>\n",
       "      <td>831.789978</td>\n",
       "      <td>835.369995</td>\n",
       "      <td>988700</td>\n",
       "    </tr>\n",
       "    <tr>\n",
       "      <th>55</th>\n",
       "      <td>3/10/2017</td>\n",
       "      <td>843.280029</td>\n",
       "      <td>844.909973</td>\n",
       "      <td>839.500000</td>\n",
       "      <td>843.250000</td>\n",
       "      <td>1701100</td>\n",
       "    </tr>\n",
       "    <tr>\n",
       "      <th>57</th>\n",
       "      <td>3/14/2017</td>\n",
       "      <td>843.640015</td>\n",
       "      <td>847.239990</td>\n",
       "      <td>840.799988</td>\n",
       "      <td>845.619995</td>\n",
       "      <td>779900</td>\n",
       "    </tr>\n",
       "    <tr>\n",
       "      <th>59</th>\n",
       "      <td>3/16/2017</td>\n",
       "      <td>849.030029</td>\n",
       "      <td>850.849976</td>\n",
       "      <td>846.130005</td>\n",
       "      <td>848.780029</td>\n",
       "      <td>970400</td>\n",
       "    </tr>\n",
       "  </tbody>\n",
       "</table>\n",
       "<p>30 rows × 6 columns</p>\n",
       "</div>"
      ],
      "text/plain": [
       "          Date        Open        High         Low       Close   Volume\n",
       "1   12/20/2016  796.760010  798.650024  793.270020  796.419983   925100\n",
       "3   12/22/2016  792.359985  793.320007  788.580017  791.260010   969100\n",
       "5   12/27/2016  790.679993  797.859985  787.656982  791.549988   789100\n",
       "7   12/29/2016  783.330017  785.929993  778.919983  782.789978   742200\n",
       "9     1/3/2017  778.809998  789.630005  775.799988  786.140015  1643100\n",
       "..         ...         ...         ...         ...         ...      ...\n",
       "51    3/6/2017  826.950012  828.880005  822.400024  827.780029  1105800\n",
       "53    3/8/2017  833.510010  838.150024  831.789978  835.369995   988700\n",
       "55   3/10/2017  843.280029  844.909973  839.500000  843.250000  1701100\n",
       "57   3/14/2017  843.640015  847.239990  840.799988  845.619995   779900\n",
       "59   3/16/2017  849.030029  850.849976  846.130005  848.780029   970400\n",
       "\n",
       "[30 rows x 6 columns]"
      ]
     },
     "execution_count": 32,
     "metadata": {},
     "output_type": "execute_result"
    }
   ],
   "source": [
    "# 28일차-실습-1-해답\n",
    "df6 = df.iloc[1: :2] # 슬라이싱 문법입니다.\n",
    "df6"
   ]
  },
  {
   "cell_type": "code",
   "execution_count": 33,
   "metadata": {},
   "outputs": [
    {
     "data": {
      "text/html": [
       "<div>\n",
       "<style scoped>\n",
       "    .dataframe tbody tr th:only-of-type {\n",
       "        vertical-align: middle;\n",
       "    }\n",
       "\n",
       "    .dataframe tbody tr th {\n",
       "        vertical-align: top;\n",
       "    }\n",
       "\n",
       "    .dataframe thead th {\n",
       "        text-align: right;\n",
       "    }\n",
       "</style>\n",
       "<table border=\"1\" class=\"dataframe\">\n",
       "  <thead>\n",
       "    <tr style=\"text-align: right;\">\n",
       "      <th></th>\n",
       "      <th>High</th>\n",
       "      <th>Low</th>\n",
       "    </tr>\n",
       "  </thead>\n",
       "  <tbody>\n",
       "    <tr>\n",
       "      <th>0</th>\n",
       "      <td>797.659973</td>\n",
       "      <td>786.270020</td>\n",
       "    </tr>\n",
       "    <tr>\n",
       "      <th>2</th>\n",
       "      <td>796.676025</td>\n",
       "      <td>787.099976</td>\n",
       "    </tr>\n",
       "    <tr>\n",
       "      <th>4</th>\n",
       "      <td>792.739990</td>\n",
       "      <td>787.280029</td>\n",
       "    </tr>\n",
       "    <tr>\n",
       "      <th>6</th>\n",
       "      <td>794.229980</td>\n",
       "      <td>783.200012</td>\n",
       "    </tr>\n",
       "    <tr>\n",
       "      <th>8</th>\n",
       "      <td>782.780029</td>\n",
       "      <td>770.409973</td>\n",
       "    </tr>\n",
       "    <tr>\n",
       "      <th>...</th>\n",
       "      <td>...</td>\n",
       "      <td>...</td>\n",
       "    </tr>\n",
       "    <tr>\n",
       "      <th>52</th>\n",
       "      <td>833.409973</td>\n",
       "      <td>826.520020</td>\n",
       "    </tr>\n",
       "    <tr>\n",
       "      <th>54</th>\n",
       "      <td>842.000000</td>\n",
       "      <td>834.210022</td>\n",
       "    </tr>\n",
       "    <tr>\n",
       "      <th>56</th>\n",
       "      <td>848.684998</td>\n",
       "      <td>843.250000</td>\n",
       "    </tr>\n",
       "    <tr>\n",
       "      <th>58</th>\n",
       "      <td>848.630005</td>\n",
       "      <td>840.770020</td>\n",
       "    </tr>\n",
       "    <tr>\n",
       "      <th>60</th>\n",
       "      <td>853.400024</td>\n",
       "      <td>847.109985</td>\n",
       "    </tr>\n",
       "  </tbody>\n",
       "</table>\n",
       "<p>31 rows × 2 columns</p>\n",
       "</div>"
      ],
      "text/plain": [
       "          High         Low\n",
       "0   797.659973  786.270020\n",
       "2   796.676025  787.099976\n",
       "4   792.739990  787.280029\n",
       "6   794.229980  783.200012\n",
       "8   782.780029  770.409973\n",
       "..         ...         ...\n",
       "52  833.409973  826.520020\n",
       "54  842.000000  834.210022\n",
       "56  848.684998  843.250000\n",
       "58  848.630005  840.770020\n",
       "60  853.400024  847.109985\n",
       "\n",
       "[31 rows x 2 columns]"
      ]
     },
     "execution_count": 33,
     "metadata": {},
     "output_type": "execute_result"
    }
   ],
   "source": [
    "#실습-2-해답-ver1\n",
    "df21 = df.iloc[list(range(0,61,2)) ,2:4]\n",
    "df21"
   ]
  },
  {
   "cell_type": "code",
   "execution_count": 34,
   "metadata": {},
   "outputs": [
    {
     "data": {
      "text/html": [
       "<div>\n",
       "<style scoped>\n",
       "    .dataframe tbody tr th:only-of-type {\n",
       "        vertical-align: middle;\n",
       "    }\n",
       "\n",
       "    .dataframe tbody tr th {\n",
       "        vertical-align: top;\n",
       "    }\n",
       "\n",
       "    .dataframe thead th {\n",
       "        text-align: right;\n",
       "    }\n",
       "</style>\n",
       "<table border=\"1\" class=\"dataframe\">\n",
       "  <thead>\n",
       "    <tr style=\"text-align: right;\">\n",
       "      <th></th>\n",
       "      <th>High</th>\n",
       "      <th>Low</th>\n",
       "    </tr>\n",
       "  </thead>\n",
       "  <tbody>\n",
       "    <tr>\n",
       "      <th>0</th>\n",
       "      <td>797.659973</td>\n",
       "      <td>786.270020</td>\n",
       "    </tr>\n",
       "    <tr>\n",
       "      <th>2</th>\n",
       "      <td>796.676025</td>\n",
       "      <td>787.099976</td>\n",
       "    </tr>\n",
       "    <tr>\n",
       "      <th>4</th>\n",
       "      <td>792.739990</td>\n",
       "      <td>787.280029</td>\n",
       "    </tr>\n",
       "    <tr>\n",
       "      <th>6</th>\n",
       "      <td>794.229980</td>\n",
       "      <td>783.200012</td>\n",
       "    </tr>\n",
       "    <tr>\n",
       "      <th>8</th>\n",
       "      <td>782.780029</td>\n",
       "      <td>770.409973</td>\n",
       "    </tr>\n",
       "    <tr>\n",
       "      <th>...</th>\n",
       "      <td>...</td>\n",
       "      <td>...</td>\n",
       "    </tr>\n",
       "    <tr>\n",
       "      <th>52</th>\n",
       "      <td>833.409973</td>\n",
       "      <td>826.520020</td>\n",
       "    </tr>\n",
       "    <tr>\n",
       "      <th>54</th>\n",
       "      <td>842.000000</td>\n",
       "      <td>834.210022</td>\n",
       "    </tr>\n",
       "    <tr>\n",
       "      <th>56</th>\n",
       "      <td>848.684998</td>\n",
       "      <td>843.250000</td>\n",
       "    </tr>\n",
       "    <tr>\n",
       "      <th>58</th>\n",
       "      <td>848.630005</td>\n",
       "      <td>840.770020</td>\n",
       "    </tr>\n",
       "    <tr>\n",
       "      <th>60</th>\n",
       "      <td>853.400024</td>\n",
       "      <td>847.109985</td>\n",
       "    </tr>\n",
       "  </tbody>\n",
       "</table>\n",
       "<p>31 rows × 2 columns</p>\n",
       "</div>"
      ],
      "text/plain": [
       "          High         Low\n",
       "0   797.659973  786.270020\n",
       "2   796.676025  787.099976\n",
       "4   792.739990  787.280029\n",
       "6   794.229980  783.200012\n",
       "8   782.780029  770.409973\n",
       "..         ...         ...\n",
       "52  833.409973  826.520020\n",
       "54  842.000000  834.210022\n",
       "56  848.684998  843.250000\n",
       "58  848.630005  840.770020\n",
       "60  853.400024  847.109985\n",
       "\n",
       "[31 rows x 2 columns]"
      ]
     },
     "execution_count": 34,
     "metadata": {},
     "output_type": "execute_result"
    }
   ],
   "source": [
    "#실습-2-해답-ver2\n",
    "df22 = df.iloc[  [i for i in range (0,61,2)], 2:4]\n",
    "df22"
   ]
  },
  {
   "cell_type": "code",
   "execution_count": 35,
   "metadata": {},
   "outputs": [
    {
     "data": {
      "text/html": [
       "<div>\n",
       "<style scoped>\n",
       "    .dataframe tbody tr th:only-of-type {\n",
       "        vertical-align: middle;\n",
       "    }\n",
       "\n",
       "    .dataframe tbody tr th {\n",
       "        vertical-align: top;\n",
       "    }\n",
       "\n",
       "    .dataframe thead th {\n",
       "        text-align: right;\n",
       "    }\n",
       "</style>\n",
       "<table border=\"1\" class=\"dataframe\">\n",
       "  <thead>\n",
       "    <tr style=\"text-align: right;\">\n",
       "      <th></th>\n",
       "      <th>High</th>\n",
       "      <th>Low</th>\n",
       "    </tr>\n",
       "  </thead>\n",
       "  <tbody>\n",
       "    <tr>\n",
       "      <th>0</th>\n",
       "      <td>797.659973</td>\n",
       "      <td>786.270020</td>\n",
       "    </tr>\n",
       "    <tr>\n",
       "      <th>2</th>\n",
       "      <td>796.676025</td>\n",
       "      <td>787.099976</td>\n",
       "    </tr>\n",
       "    <tr>\n",
       "      <th>4</th>\n",
       "      <td>792.739990</td>\n",
       "      <td>787.280029</td>\n",
       "    </tr>\n",
       "    <tr>\n",
       "      <th>6</th>\n",
       "      <td>794.229980</td>\n",
       "      <td>783.200012</td>\n",
       "    </tr>\n",
       "    <tr>\n",
       "      <th>8</th>\n",
       "      <td>782.780029</td>\n",
       "      <td>770.409973</td>\n",
       "    </tr>\n",
       "    <tr>\n",
       "      <th>...</th>\n",
       "      <td>...</td>\n",
       "      <td>...</td>\n",
       "    </tr>\n",
       "    <tr>\n",
       "      <th>52</th>\n",
       "      <td>833.409973</td>\n",
       "      <td>826.520020</td>\n",
       "    </tr>\n",
       "    <tr>\n",
       "      <th>54</th>\n",
       "      <td>842.000000</td>\n",
       "      <td>834.210022</td>\n",
       "    </tr>\n",
       "    <tr>\n",
       "      <th>56</th>\n",
       "      <td>848.684998</td>\n",
       "      <td>843.250000</td>\n",
       "    </tr>\n",
       "    <tr>\n",
       "      <th>58</th>\n",
       "      <td>848.630005</td>\n",
       "      <td>840.770020</td>\n",
       "    </tr>\n",
       "    <tr>\n",
       "      <th>60</th>\n",
       "      <td>853.400024</td>\n",
       "      <td>847.109985</td>\n",
       "    </tr>\n",
       "  </tbody>\n",
       "</table>\n",
       "<p>31 rows × 2 columns</p>\n",
       "</div>"
      ],
      "text/plain": [
       "          High         Low\n",
       "0   797.659973  786.270020\n",
       "2   796.676025  787.099976\n",
       "4   792.739990  787.280029\n",
       "6   794.229980  783.200012\n",
       "8   782.780029  770.409973\n",
       "..         ...         ...\n",
       "52  833.409973  826.520020\n",
       "54  842.000000  834.210022\n",
       "56  848.684998  843.250000\n",
       "58  848.630005  840.770020\n",
       "60  853.400024  847.109985\n",
       "\n",
       "[31 rows x 2 columns]"
      ]
     },
     "execution_count": 35,
     "metadata": {},
     "output_type": "execute_result"
    }
   ],
   "source": [
    "#실습-2-해답-ver3\n",
    "ls = [x for x in df.index if x % 2 == 0]\n",
    "df.loc[df.index % 2==1]\n",
    "df23 = df.loc[ls, ['High','Low']]\n",
    "df23"
   ]
  },
  {
   "cell_type": "code",
   "execution_count": 36,
   "metadata": {},
   "outputs": [
    {
     "data": {
      "text/html": [
       "<div>\n",
       "<style scoped>\n",
       "    .dataframe tbody tr th:only-of-type {\n",
       "        vertical-align: middle;\n",
       "    }\n",
       "\n",
       "    .dataframe tbody tr th {\n",
       "        vertical-align: top;\n",
       "    }\n",
       "\n",
       "    .dataframe thead th {\n",
       "        text-align: right;\n",
       "    }\n",
       "</style>\n",
       "<table border=\"1\" class=\"dataframe\">\n",
       "  <thead>\n",
       "    <tr style=\"text-align: right;\">\n",
       "      <th></th>\n",
       "      <th>High</th>\n",
       "      <th>Low</th>\n",
       "    </tr>\n",
       "  </thead>\n",
       "  <tbody>\n",
       "    <tr>\n",
       "      <th>0</th>\n",
       "      <td>797.659973</td>\n",
       "      <td>786.270020</td>\n",
       "    </tr>\n",
       "    <tr>\n",
       "      <th>2</th>\n",
       "      <td>796.676025</td>\n",
       "      <td>787.099976</td>\n",
       "    </tr>\n",
       "    <tr>\n",
       "      <th>4</th>\n",
       "      <td>792.739990</td>\n",
       "      <td>787.280029</td>\n",
       "    </tr>\n",
       "    <tr>\n",
       "      <th>6</th>\n",
       "      <td>794.229980</td>\n",
       "      <td>783.200012</td>\n",
       "    </tr>\n",
       "    <tr>\n",
       "      <th>8</th>\n",
       "      <td>782.780029</td>\n",
       "      <td>770.409973</td>\n",
       "    </tr>\n",
       "    <tr>\n",
       "      <th>...</th>\n",
       "      <td>...</td>\n",
       "      <td>...</td>\n",
       "    </tr>\n",
       "    <tr>\n",
       "      <th>52</th>\n",
       "      <td>833.409973</td>\n",
       "      <td>826.520020</td>\n",
       "    </tr>\n",
       "    <tr>\n",
       "      <th>54</th>\n",
       "      <td>842.000000</td>\n",
       "      <td>834.210022</td>\n",
       "    </tr>\n",
       "    <tr>\n",
       "      <th>56</th>\n",
       "      <td>848.684998</td>\n",
       "      <td>843.250000</td>\n",
       "    </tr>\n",
       "    <tr>\n",
       "      <th>58</th>\n",
       "      <td>848.630005</td>\n",
       "      <td>840.770020</td>\n",
       "    </tr>\n",
       "    <tr>\n",
       "      <th>60</th>\n",
       "      <td>853.400024</td>\n",
       "      <td>847.109985</td>\n",
       "    </tr>\n",
       "  </tbody>\n",
       "</table>\n",
       "<p>31 rows × 2 columns</p>\n",
       "</div>"
      ],
      "text/plain": [
       "          High         Low\n",
       "0   797.659973  786.270020\n",
       "2   796.676025  787.099976\n",
       "4   792.739990  787.280029\n",
       "6   794.229980  783.200012\n",
       "8   782.780029  770.409973\n",
       "..         ...         ...\n",
       "52  833.409973  826.520020\n",
       "54  842.000000  834.210022\n",
       "56  848.684998  843.250000\n",
       "58  848.630005  840.770020\n",
       "60  853.400024  847.109985\n",
       "\n",
       "[31 rows x 2 columns]"
      ]
     },
     "execution_count": 36,
     "metadata": {},
     "output_type": "execute_result"
    }
   ],
   "source": [
    "#실습-2-해답-ver4\n",
    "df24 = df.loc[df.index % 2 == 0, ['High','Low']]\n",
    "df24"
   ]
  },
  {
   "attachments": {},
   "cell_type": "markdown",
   "metadata": {},
   "source": [
    "# 강의-2  시작지점\n",
    "## 인덱스를 만들거나 변경하기\n"
   ]
  },
  {
   "cell_type": "code",
   "execution_count": 37,
   "metadata": {},
   "outputs": [
    {
     "data": {
      "text/html": [
       "<div>\n",
       "<style scoped>\n",
       "    .dataframe tbody tr th:only-of-type {\n",
       "        vertical-align: middle;\n",
       "    }\n",
       "\n",
       "    .dataframe tbody tr th {\n",
       "        vertical-align: top;\n",
       "    }\n",
       "\n",
       "    .dataframe thead th {\n",
       "        text-align: right;\n",
       "    }\n",
       "</style>\n",
       "<table border=\"1\" class=\"dataframe\">\n",
       "  <thead>\n",
       "    <tr style=\"text-align: right;\">\n",
       "      <th></th>\n",
       "      <th>Date</th>\n",
       "      <th>Open</th>\n",
       "      <th>High</th>\n",
       "      <th>Low</th>\n",
       "      <th>Close</th>\n",
       "      <th>Volume</th>\n",
       "    </tr>\n",
       "  </thead>\n",
       "  <tbody>\n",
       "    <tr>\n",
       "      <th>0</th>\n",
       "      <td>12/19/2016</td>\n",
       "      <td>790.219971</td>\n",
       "      <td>797.659973</td>\n",
       "      <td>786.270020</td>\n",
       "      <td>794.200012</td>\n",
       "      <td>1225900</td>\n",
       "    </tr>\n",
       "    <tr>\n",
       "      <th>1</th>\n",
       "      <td>12/20/2016</td>\n",
       "      <td>796.760010</td>\n",
       "      <td>798.650024</td>\n",
       "      <td>793.270020</td>\n",
       "      <td>796.419983</td>\n",
       "      <td>925100</td>\n",
       "    </tr>\n",
       "    <tr>\n",
       "      <th>2</th>\n",
       "      <td>12/21/2016</td>\n",
       "      <td>795.840027</td>\n",
       "      <td>796.676025</td>\n",
       "      <td>787.099976</td>\n",
       "      <td>794.559998</td>\n",
       "      <td>1208700</td>\n",
       "    </tr>\n",
       "    <tr>\n",
       "      <th>3</th>\n",
       "      <td>12/22/2016</td>\n",
       "      <td>792.359985</td>\n",
       "      <td>793.320007</td>\n",
       "      <td>788.580017</td>\n",
       "      <td>791.260010</td>\n",
       "      <td>969100</td>\n",
       "    </tr>\n",
       "    <tr>\n",
       "      <th>4</th>\n",
       "      <td>12/23/2016</td>\n",
       "      <td>790.900024</td>\n",
       "      <td>792.739990</td>\n",
       "      <td>787.280029</td>\n",
       "      <td>789.909973</td>\n",
       "      <td>623400</td>\n",
       "    </tr>\n",
       "    <tr>\n",
       "      <th>...</th>\n",
       "      <td>...</td>\n",
       "      <td>...</td>\n",
       "      <td>...</td>\n",
       "      <td>...</td>\n",
       "      <td>...</td>\n",
       "      <td>...</td>\n",
       "    </tr>\n",
       "    <tr>\n",
       "      <th>56</th>\n",
       "      <td>3/13/2017</td>\n",
       "      <td>844.000000</td>\n",
       "      <td>848.684998</td>\n",
       "      <td>843.250000</td>\n",
       "      <td>845.539978</td>\n",
       "      <td>1149500</td>\n",
       "    </tr>\n",
       "    <tr>\n",
       "      <th>57</th>\n",
       "      <td>3/14/2017</td>\n",
       "      <td>843.640015</td>\n",
       "      <td>847.239990</td>\n",
       "      <td>840.799988</td>\n",
       "      <td>845.619995</td>\n",
       "      <td>779900</td>\n",
       "    </tr>\n",
       "    <tr>\n",
       "      <th>58</th>\n",
       "      <td>3/15/2017</td>\n",
       "      <td>847.590027</td>\n",
       "      <td>848.630005</td>\n",
       "      <td>840.770020</td>\n",
       "      <td>847.200012</td>\n",
       "      <td>1379600</td>\n",
       "    </tr>\n",
       "    <tr>\n",
       "      <th>59</th>\n",
       "      <td>3/16/2017</td>\n",
       "      <td>849.030029</td>\n",
       "      <td>850.849976</td>\n",
       "      <td>846.130005</td>\n",
       "      <td>848.780029</td>\n",
       "      <td>970400</td>\n",
       "    </tr>\n",
       "    <tr>\n",
       "      <th>60</th>\n",
       "      <td>3/17/2017</td>\n",
       "      <td>851.609985</td>\n",
       "      <td>853.400024</td>\n",
       "      <td>847.109985</td>\n",
       "      <td>852.119995</td>\n",
       "      <td>1712300</td>\n",
       "    </tr>\n",
       "  </tbody>\n",
       "</table>\n",
       "<p>61 rows × 6 columns</p>\n",
       "</div>"
      ],
      "text/plain": [
       "          Date        Open        High         Low       Close   Volume\n",
       "0   12/19/2016  790.219971  797.659973  786.270020  794.200012  1225900\n",
       "1   12/20/2016  796.760010  798.650024  793.270020  796.419983   925100\n",
       "2   12/21/2016  795.840027  796.676025  787.099976  794.559998  1208700\n",
       "3   12/22/2016  792.359985  793.320007  788.580017  791.260010   969100\n",
       "4   12/23/2016  790.900024  792.739990  787.280029  789.909973   623400\n",
       "..         ...         ...         ...         ...         ...      ...\n",
       "56   3/13/2017  844.000000  848.684998  843.250000  845.539978  1149500\n",
       "57   3/14/2017  843.640015  847.239990  840.799988  845.619995   779900\n",
       "58   3/15/2017  847.590027  848.630005  840.770020  847.200012  1379600\n",
       "59   3/16/2017  849.030029  850.849976  846.130005  848.780029   970400\n",
       "60   3/17/2017  851.609985  853.400024  847.109985  852.119995  1712300\n",
       "\n",
       "[61 rows x 6 columns]"
      ]
     },
     "execution_count": 37,
     "metadata": {},
     "output_type": "execute_result"
    }
   ],
   "source": [
    "df"
   ]
  },
  {
   "attachments": {},
   "cell_type": "markdown",
   "metadata": {},
   "source": [
    "## df 에는 모두 몇개의 셀이 있나요? ->366 \n",
    "## df 에는 인덱스가 있나요? -> 0 ~ 61 \n",
    "## 인덱스는 누가 만들었나요? -> 자동생성 \n",
    "## 인덱스가 필요한 목적은 무엇인가요? -> 요소를 제어하기 위해서입니다."
   ]
  },
  {
   "cell_type": "code",
   "execution_count": 38,
   "metadata": {},
   "outputs": [
    {
     "name": "stdout",
     "output_type": "stream",
     "text": [
      "<class 'str'>\n",
      "12/19/2016\n"
     ]
    }
   ],
   "source": [
    "# Date 열에 저장되어있는 데이터는 단지 문자열입니다\n",
    "# 지;난 학습일에 시리즈를 만들 때 요소를 만들고 인덱스를 함께 만들었던 것을 상기하세요\n",
    "# 현재 df엔 오직 문자열들로 구성된 자료만 들어가 있습니다\n",
    "# 시리즈를 만들 때, 인덱스가 DateTime타입인 경우에 특별한 이름으로 부른다고 했습니다\n",
    "# DateTime타입의 인덱스를 가지고 있는 시리즈는 무엇인가요? -> 시계열 \n",
    "print(type(df.Date[0]))\n",
    "print(df.Date[0])"
   ]
  },
  {
   "cell_type": "code",
   "execution_count": 39,
   "metadata": {},
   "outputs": [
    {
     "data": {
      "text/html": [
       "<div>\n",
       "<style scoped>\n",
       "    .dataframe tbody tr th:only-of-type {\n",
       "        vertical-align: middle;\n",
       "    }\n",
       "\n",
       "    .dataframe tbody tr th {\n",
       "        vertical-align: top;\n",
       "    }\n",
       "\n",
       "    .dataframe thead th {\n",
       "        text-align: right;\n",
       "    }\n",
       "</style>\n",
       "<table border=\"1\" class=\"dataframe\">\n",
       "  <thead>\n",
       "    <tr style=\"text-align: right;\">\n",
       "      <th></th>\n",
       "      <th>Date</th>\n",
       "      <th>Open</th>\n",
       "      <th>High</th>\n",
       "      <th>Low</th>\n",
       "      <th>Close</th>\n",
       "      <th>Volume</th>\n",
       "    </tr>\n",
       "  </thead>\n",
       "  <tbody>\n",
       "    <tr>\n",
       "      <th>0</th>\n",
       "      <td>2016-12-19</td>\n",
       "      <td>790.219971</td>\n",
       "      <td>797.659973</td>\n",
       "      <td>786.270020</td>\n",
       "      <td>794.200012</td>\n",
       "      <td>1225900</td>\n",
       "    </tr>\n",
       "    <tr>\n",
       "      <th>1</th>\n",
       "      <td>2016-12-20</td>\n",
       "      <td>796.760010</td>\n",
       "      <td>798.650024</td>\n",
       "      <td>793.270020</td>\n",
       "      <td>796.419983</td>\n",
       "      <td>925100</td>\n",
       "    </tr>\n",
       "    <tr>\n",
       "      <th>2</th>\n",
       "      <td>2016-12-21</td>\n",
       "      <td>795.840027</td>\n",
       "      <td>796.676025</td>\n",
       "      <td>787.099976</td>\n",
       "      <td>794.559998</td>\n",
       "      <td>1208700</td>\n",
       "    </tr>\n",
       "    <tr>\n",
       "      <th>3</th>\n",
       "      <td>2016-12-22</td>\n",
       "      <td>792.359985</td>\n",
       "      <td>793.320007</td>\n",
       "      <td>788.580017</td>\n",
       "      <td>791.260010</td>\n",
       "      <td>969100</td>\n",
       "    </tr>\n",
       "    <tr>\n",
       "      <th>4</th>\n",
       "      <td>2016-12-23</td>\n",
       "      <td>790.900024</td>\n",
       "      <td>792.739990</td>\n",
       "      <td>787.280029</td>\n",
       "      <td>789.909973</td>\n",
       "      <td>623400</td>\n",
       "    </tr>\n",
       "    <tr>\n",
       "      <th>...</th>\n",
       "      <td>...</td>\n",
       "      <td>...</td>\n",
       "      <td>...</td>\n",
       "      <td>...</td>\n",
       "      <td>...</td>\n",
       "      <td>...</td>\n",
       "    </tr>\n",
       "    <tr>\n",
       "      <th>56</th>\n",
       "      <td>2017-03-13</td>\n",
       "      <td>844.000000</td>\n",
       "      <td>848.684998</td>\n",
       "      <td>843.250000</td>\n",
       "      <td>845.539978</td>\n",
       "      <td>1149500</td>\n",
       "    </tr>\n",
       "    <tr>\n",
       "      <th>57</th>\n",
       "      <td>2017-03-14</td>\n",
       "      <td>843.640015</td>\n",
       "      <td>847.239990</td>\n",
       "      <td>840.799988</td>\n",
       "      <td>845.619995</td>\n",
       "      <td>779900</td>\n",
       "    </tr>\n",
       "    <tr>\n",
       "      <th>58</th>\n",
       "      <td>2017-03-15</td>\n",
       "      <td>847.590027</td>\n",
       "      <td>848.630005</td>\n",
       "      <td>840.770020</td>\n",
       "      <td>847.200012</td>\n",
       "      <td>1379600</td>\n",
       "    </tr>\n",
       "    <tr>\n",
       "      <th>59</th>\n",
       "      <td>2017-03-16</td>\n",
       "      <td>849.030029</td>\n",
       "      <td>850.849976</td>\n",
       "      <td>846.130005</td>\n",
       "      <td>848.780029</td>\n",
       "      <td>970400</td>\n",
       "    </tr>\n",
       "    <tr>\n",
       "      <th>60</th>\n",
       "      <td>2017-03-17</td>\n",
       "      <td>851.609985</td>\n",
       "      <td>853.400024</td>\n",
       "      <td>847.109985</td>\n",
       "      <td>852.119995</td>\n",
       "      <td>1712300</td>\n",
       "    </tr>\n",
       "  </tbody>\n",
       "</table>\n",
       "<p>61 rows × 6 columns</p>\n",
       "</div>"
      ],
      "text/plain": [
       "         Date        Open        High         Low       Close   Volume\n",
       "0  2016-12-19  790.219971  797.659973  786.270020  794.200012  1225900\n",
       "1  2016-12-20  796.760010  798.650024  793.270020  796.419983   925100\n",
       "2  2016-12-21  795.840027  796.676025  787.099976  794.559998  1208700\n",
       "3  2016-12-22  792.359985  793.320007  788.580017  791.260010   969100\n",
       "4  2016-12-23  790.900024  792.739990  787.280029  789.909973   623400\n",
       "..        ...         ...         ...         ...         ...      ...\n",
       "56 2017-03-13  844.000000  848.684998  843.250000  845.539978  1149500\n",
       "57 2017-03-14  843.640015  847.239990  840.799988  845.619995   779900\n",
       "58 2017-03-15  847.590027  848.630005  840.770020  847.200012  1379600\n",
       "59 2017-03-16  849.030029  850.849976  846.130005  848.780029   970400\n",
       "60 2017-03-17  851.609985  853.400024  847.109985  852.119995  1712300\n",
       "\n",
       "[61 rows x 6 columns]"
      ]
     },
     "execution_count": 39,
     "metadata": {},
     "output_type": "execute_result"
    }
   ],
   "source": [
    "# 실습-3-해답-ver1-1\n",
    "# df를 다시한 번 만든다.\n",
    "df31 = pd.read_csv('data/goog.csv', parse_dates=['Date'])\n",
    "df31"
   ]
  },
  {
   "cell_type": "code",
   "execution_count": 40,
   "metadata": {},
   "outputs": [
    {
     "data": {
      "text/plain": [
       "pandas._libs.tslibs.timestamps.Timestamp"
      ]
     },
     "execution_count": 40,
     "metadata": {},
     "output_type": "execute_result"
    }
   ],
   "source": [
    "# 실습-3-해답-ver1-2\n",
    "# df의 Date컬럼(시리즈)에서 0 번 셀의 타입을 확인함\n",
    "type(df31.Date[0])"
   ]
  },
  {
   "cell_type": "code",
   "execution_count": 41,
   "metadata": {},
   "outputs": [
    {
     "data": {
      "text/plain": [
       "RangeIndex(start=0, stop=61, step=1)"
      ]
     },
     "execution_count": 41,
     "metadata": {},
     "output_type": "execute_result"
    }
   ],
   "source": [
    "# 실습-3-해답-ver1-3\n",
    "# df의 인덱스를 확인함\n",
    "df31.index"
   ]
  },
  {
   "attachments": {},
   "cell_type": "markdown",
   "metadata": {},
   "source": [
    "Note  \n",
    "지금은 RangeIndex이지만 예전 pandas에서는 그냥 정수 인덱스였습니다.  \n",
    "이를 해결하기 위해 pd.read_csv() 함수의 index_col 파라미터를 사용해   \n",
    "인덱스로 쓸 컬럼을 지정하면 됩니다."
   ]
  },
  {
   "cell_type": "code",
   "execution_count": 42,
   "metadata": {},
   "outputs": [
    {
     "data": {
      "text/html": [
       "<div>\n",
       "<style scoped>\n",
       "    .dataframe tbody tr th:only-of-type {\n",
       "        vertical-align: middle;\n",
       "    }\n",
       "\n",
       "    .dataframe tbody tr th {\n",
       "        vertical-align: top;\n",
       "    }\n",
       "\n",
       "    .dataframe thead th {\n",
       "        text-align: right;\n",
       "    }\n",
       "</style>\n",
       "<table border=\"1\" class=\"dataframe\">\n",
       "  <thead>\n",
       "    <tr style=\"text-align: right;\">\n",
       "      <th></th>\n",
       "      <th>Open</th>\n",
       "      <th>High</th>\n",
       "      <th>Low</th>\n",
       "      <th>Close</th>\n",
       "      <th>Volume</th>\n",
       "    </tr>\n",
       "    <tr>\n",
       "      <th>Date</th>\n",
       "      <th></th>\n",
       "      <th></th>\n",
       "      <th></th>\n",
       "      <th></th>\n",
       "      <th></th>\n",
       "    </tr>\n",
       "  </thead>\n",
       "  <tbody>\n",
       "    <tr>\n",
       "      <th>2016-12-19</th>\n",
       "      <td>790.219971</td>\n",
       "      <td>797.659973</td>\n",
       "      <td>786.270020</td>\n",
       "      <td>794.200012</td>\n",
       "      <td>1225900</td>\n",
       "    </tr>\n",
       "    <tr>\n",
       "      <th>2016-12-20</th>\n",
       "      <td>796.760010</td>\n",
       "      <td>798.650024</td>\n",
       "      <td>793.270020</td>\n",
       "      <td>796.419983</td>\n",
       "      <td>925100</td>\n",
       "    </tr>\n",
       "    <tr>\n",
       "      <th>2016-12-21</th>\n",
       "      <td>795.840027</td>\n",
       "      <td>796.676025</td>\n",
       "      <td>787.099976</td>\n",
       "      <td>794.559998</td>\n",
       "      <td>1208700</td>\n",
       "    </tr>\n",
       "    <tr>\n",
       "      <th>2016-12-22</th>\n",
       "      <td>792.359985</td>\n",
       "      <td>793.320007</td>\n",
       "      <td>788.580017</td>\n",
       "      <td>791.260010</td>\n",
       "      <td>969100</td>\n",
       "    </tr>\n",
       "    <tr>\n",
       "      <th>2016-12-23</th>\n",
       "      <td>790.900024</td>\n",
       "      <td>792.739990</td>\n",
       "      <td>787.280029</td>\n",
       "      <td>789.909973</td>\n",
       "      <td>623400</td>\n",
       "    </tr>\n",
       "    <tr>\n",
       "      <th>...</th>\n",
       "      <td>...</td>\n",
       "      <td>...</td>\n",
       "      <td>...</td>\n",
       "      <td>...</td>\n",
       "      <td>...</td>\n",
       "    </tr>\n",
       "    <tr>\n",
       "      <th>2017-03-13</th>\n",
       "      <td>844.000000</td>\n",
       "      <td>848.684998</td>\n",
       "      <td>843.250000</td>\n",
       "      <td>845.539978</td>\n",
       "      <td>1149500</td>\n",
       "    </tr>\n",
       "    <tr>\n",
       "      <th>2017-03-14</th>\n",
       "      <td>843.640015</td>\n",
       "      <td>847.239990</td>\n",
       "      <td>840.799988</td>\n",
       "      <td>845.619995</td>\n",
       "      <td>779900</td>\n",
       "    </tr>\n",
       "    <tr>\n",
       "      <th>2017-03-15</th>\n",
       "      <td>847.590027</td>\n",
       "      <td>848.630005</td>\n",
       "      <td>840.770020</td>\n",
       "      <td>847.200012</td>\n",
       "      <td>1379600</td>\n",
       "    </tr>\n",
       "    <tr>\n",
       "      <th>2017-03-16</th>\n",
       "      <td>849.030029</td>\n",
       "      <td>850.849976</td>\n",
       "      <td>846.130005</td>\n",
       "      <td>848.780029</td>\n",
       "      <td>970400</td>\n",
       "    </tr>\n",
       "    <tr>\n",
       "      <th>2017-03-17</th>\n",
       "      <td>851.609985</td>\n",
       "      <td>853.400024</td>\n",
       "      <td>847.109985</td>\n",
       "      <td>852.119995</td>\n",
       "      <td>1712300</td>\n",
       "    </tr>\n",
       "  </tbody>\n",
       "</table>\n",
       "<p>61 rows × 5 columns</p>\n",
       "</div>"
      ],
      "text/plain": [
       "                  Open        High         Low       Close   Volume\n",
       "Date                                                               \n",
       "2016-12-19  790.219971  797.659973  786.270020  794.200012  1225900\n",
       "2016-12-20  796.760010  798.650024  793.270020  796.419983   925100\n",
       "2016-12-21  795.840027  796.676025  787.099976  794.559998  1208700\n",
       "2016-12-22  792.359985  793.320007  788.580017  791.260010   969100\n",
       "2016-12-23  790.900024  792.739990  787.280029  789.909973   623400\n",
       "...                ...         ...         ...         ...      ...\n",
       "2017-03-13  844.000000  848.684998  843.250000  845.539978  1149500\n",
       "2017-03-14  843.640015  847.239990  840.799988  845.619995   779900\n",
       "2017-03-15  847.590027  848.630005  840.770020  847.200012  1379600\n",
       "2017-03-16  849.030029  850.849976  846.130005  848.780029   970400\n",
       "2017-03-17  851.609985  853.400024  847.109985  852.119995  1712300\n",
       "\n",
       "[61 rows x 5 columns]"
      ]
     },
     "execution_count": 42,
     "metadata": {},
     "output_type": "execute_result"
    }
   ],
   "source": [
    "# 실습-3-해답-ver1-4\n",
    "df314 = pd.read_csv('data/goog.csv', parse_dates=['Date'], index_col='Date')\n",
    "df314  # 출력된 Data 열의 모양이 달라진 것을 확인 할 수 있습니다."
   ]
  },
  {
   "attachments": {},
   "cell_type": "markdown",
   "metadata": {},
   "source": [
    "# 아래는 # 실습-3-해답-ver2 입니다. # 실습-3-해답-ver1과 차이점을 비교하세요"
   ]
  },
  {
   "cell_type": "code",
   "execution_count": 43,
   "metadata": {},
   "outputs": [
    {
     "name": "stdout",
     "output_type": "stream",
     "text": [
      "<class 'pandas._libs.tslibs.timestamps.Timestamp'>\n",
      "         Date        Open        High         Low       Close   Volume\n",
      "0  2016-12-19  790.219971  797.659973  786.270020  794.200012  1225900\n",
      "1  2016-12-20  796.760010  798.650024  793.270020  796.419983   925100\n",
      "2  2016-12-21  795.840027  796.676025  787.099976  794.559998  1208700\n",
      "3  2016-12-22  792.359985  793.320007  788.580017  791.260010   969100\n",
      "4  2016-12-23  790.900024  792.739990  787.280029  789.909973   623400\n",
      "..        ...         ...         ...         ...         ...      ...\n",
      "56 2017-03-13  844.000000  848.684998  843.250000  845.539978  1149500\n",
      "57 2017-03-14  843.640015  847.239990  840.799988  845.619995   779900\n",
      "58 2017-03-15  847.590027  848.630005  840.770020  847.200012  1379600\n",
      "59 2017-03-16  849.030029  850.849976  846.130005  848.780029   970400\n",
      "60 2017-03-17  851.609985  853.400024  847.109985  852.119995  1712300\n",
      "\n",
      "[61 rows x 6 columns]\n",
      "                  Open        High         Low       Close   Volume\n",
      "Date                                                               \n",
      "2016-12-19  790.219971  797.659973  786.270020  794.200012  1225900\n",
      "2016-12-20  796.760010  798.650024  793.270020  796.419983   925100\n",
      "2016-12-21  795.840027  796.676025  787.099976  794.559998  1208700\n",
      "2016-12-22  792.359985  793.320007  788.580017  791.260010   969100\n",
      "2016-12-23  790.900024  792.739990  787.280029  789.909973   623400\n",
      "...                ...         ...         ...         ...      ...\n",
      "2017-03-13  844.000000  848.684998  843.250000  845.539978  1149500\n",
      "2017-03-14  843.640015  847.239990  840.799988  845.619995   779900\n",
      "2017-03-15  847.590027  848.630005  840.770020  847.200012  1379600\n",
      "2017-03-16  849.030029  850.849976  846.130005  848.780029   970400\n",
      "2017-03-17  851.609985  853.400024  847.109985  852.119995  1712300\n",
      "\n",
      "[61 rows x 5 columns]\n"
     ]
    }
   ],
   "source": [
    "# 실습-3-해답-ver2-1\n",
    "# df를 재활용한다.\n",
    "df32 = df # df데이터 프레임을 df32로 할당한다\n",
    "df32['Date'] = pd.to_datetime(df['Date'] ) # to_datetime() 함수는 데이터프레임의 특정 컬럼의 타입(형식)을 \n",
    "                                            # detetime 형식으로 변환한다 \n",
    "print(type(df32.Date[0]))\n",
    "print(df32)\n",
    "df32 = df32.set_index(['Date'])\n",
    "print(df32)"
   ]
  },
  {
   "attachments": {},
   "cell_type": "markdown",
   "metadata": {},
   "source": [
    "# 다음에 수행할 명령은 맛보기 입니다.\n",
    "# 판다스를 이용하여 만들어진 데이터프레임이 모든 필터링이 끝난 완벽한 결과물이라는\n",
    "# 전제 하에 만들어내는 시각화 결과입니다.\n",
    "# 지금부터 만들어지는 시각화 결과는 이런것도 가능하구나! 정도로만 간단히 테스트 합니다.\n",
    "# 지금까지 사용한 df를 만들기위하여 goog.csv 파일을 사용했습니다 이 csv파일은 미국의 특정 주식종목에 대한\n",
    "# 시작가, 최고가, 최저가, 종가, 거래량 을 일자별로 정리한 것입니다.\n",
    "# 이와 같이 정형화된 자료(정형화 : 공백이 없고 각 셀 안의 수치정보가 튀는 것이 없는 상황의 품질좋은상태의 데이터)\n",
    "# 는 쉽게 만들어지지 않습니다. 앞으로 우리가 데이터 분석 수업에서 최종 목적에 해당하는 것이 시각화 결과물\n",
    "# 이라면 정형화된 자료는 최종목적의 한 발자구 이전 상태라고 생각하면 됩니다"
   ]
  },
  {
   "cell_type": "code",
   "execution_count": 44,
   "metadata": {},
   "outputs": [
    {
     "data": {
      "text/html": [
       "<div>\n",
       "<style scoped>\n",
       "    .dataframe tbody tr th:only-of-type {\n",
       "        vertical-align: middle;\n",
       "    }\n",
       "\n",
       "    .dataframe tbody tr th {\n",
       "        vertical-align: top;\n",
       "    }\n",
       "\n",
       "    .dataframe thead th {\n",
       "        text-align: right;\n",
       "    }\n",
       "</style>\n",
       "<table border=\"1\" class=\"dataframe\">\n",
       "  <thead>\n",
       "    <tr style=\"text-align: right;\">\n",
       "      <th></th>\n",
       "      <th>Date</th>\n",
       "      <th>Open</th>\n",
       "      <th>High</th>\n",
       "      <th>Low</th>\n",
       "      <th>Close</th>\n",
       "      <th>Volume</th>\n",
       "    </tr>\n",
       "  </thead>\n",
       "  <tbody>\n",
       "    <tr>\n",
       "      <th>0</th>\n",
       "      <td>2016-12-19</td>\n",
       "      <td>790.219971</td>\n",
       "      <td>797.659973</td>\n",
       "      <td>786.270020</td>\n",
       "      <td>794.200012</td>\n",
       "      <td>1225900</td>\n",
       "    </tr>\n",
       "    <tr>\n",
       "      <th>1</th>\n",
       "      <td>2016-12-20</td>\n",
       "      <td>796.760010</td>\n",
       "      <td>798.650024</td>\n",
       "      <td>793.270020</td>\n",
       "      <td>796.419983</td>\n",
       "      <td>925100</td>\n",
       "    </tr>\n",
       "    <tr>\n",
       "      <th>2</th>\n",
       "      <td>2016-12-21</td>\n",
       "      <td>795.840027</td>\n",
       "      <td>796.676025</td>\n",
       "      <td>787.099976</td>\n",
       "      <td>794.559998</td>\n",
       "      <td>1208700</td>\n",
       "    </tr>\n",
       "    <tr>\n",
       "      <th>3</th>\n",
       "      <td>2016-12-22</td>\n",
       "      <td>792.359985</td>\n",
       "      <td>793.320007</td>\n",
       "      <td>788.580017</td>\n",
       "      <td>791.260010</td>\n",
       "      <td>969100</td>\n",
       "    </tr>\n",
       "    <tr>\n",
       "      <th>4</th>\n",
       "      <td>2016-12-23</td>\n",
       "      <td>790.900024</td>\n",
       "      <td>792.739990</td>\n",
       "      <td>787.280029</td>\n",
       "      <td>789.909973</td>\n",
       "      <td>623400</td>\n",
       "    </tr>\n",
       "    <tr>\n",
       "      <th>...</th>\n",
       "      <td>...</td>\n",
       "      <td>...</td>\n",
       "      <td>...</td>\n",
       "      <td>...</td>\n",
       "      <td>...</td>\n",
       "      <td>...</td>\n",
       "    </tr>\n",
       "    <tr>\n",
       "      <th>56</th>\n",
       "      <td>2017-03-13</td>\n",
       "      <td>844.000000</td>\n",
       "      <td>848.684998</td>\n",
       "      <td>843.250000</td>\n",
       "      <td>845.539978</td>\n",
       "      <td>1149500</td>\n",
       "    </tr>\n",
       "    <tr>\n",
       "      <th>57</th>\n",
       "      <td>2017-03-14</td>\n",
       "      <td>843.640015</td>\n",
       "      <td>847.239990</td>\n",
       "      <td>840.799988</td>\n",
       "      <td>845.619995</td>\n",
       "      <td>779900</td>\n",
       "    </tr>\n",
       "    <tr>\n",
       "      <th>58</th>\n",
       "      <td>2017-03-15</td>\n",
       "      <td>847.590027</td>\n",
       "      <td>848.630005</td>\n",
       "      <td>840.770020</td>\n",
       "      <td>847.200012</td>\n",
       "      <td>1379600</td>\n",
       "    </tr>\n",
       "    <tr>\n",
       "      <th>59</th>\n",
       "      <td>2017-03-16</td>\n",
       "      <td>849.030029</td>\n",
       "      <td>850.849976</td>\n",
       "      <td>846.130005</td>\n",
       "      <td>848.780029</td>\n",
       "      <td>970400</td>\n",
       "    </tr>\n",
       "    <tr>\n",
       "      <th>60</th>\n",
       "      <td>2017-03-17</td>\n",
       "      <td>851.609985</td>\n",
       "      <td>853.400024</td>\n",
       "      <td>847.109985</td>\n",
       "      <td>852.119995</td>\n",
       "      <td>1712300</td>\n",
       "    </tr>\n",
       "  </tbody>\n",
       "</table>\n",
       "<p>61 rows × 6 columns</p>\n",
       "</div>"
      ],
      "text/plain": [
       "         Date        Open        High         Low       Close   Volume\n",
       "0  2016-12-19  790.219971  797.659973  786.270020  794.200012  1225900\n",
       "1  2016-12-20  796.760010  798.650024  793.270020  796.419983   925100\n",
       "2  2016-12-21  795.840027  796.676025  787.099976  794.559998  1208700\n",
       "3  2016-12-22  792.359985  793.320007  788.580017  791.260010   969100\n",
       "4  2016-12-23  790.900024  792.739990  787.280029  789.909973   623400\n",
       "..        ...         ...         ...         ...         ...      ...\n",
       "56 2017-03-13  844.000000  848.684998  843.250000  845.539978  1149500\n",
       "57 2017-03-14  843.640015  847.239990  840.799988  845.619995   779900\n",
       "58 2017-03-15  847.590027  848.630005  840.770020  847.200012  1379600\n",
       "59 2017-03-16  849.030029  850.849976  846.130005  848.780029   970400\n",
       "60 2017-03-17  851.609985  853.400024  847.109985  852.119995  1712300\n",
       "\n",
       "[61 rows x 6 columns]"
      ]
     },
     "execution_count": 44,
     "metadata": {},
     "output_type": "execute_result"
    }
   ],
   "source": [
    "df"
   ]
  },
  {
   "cell_type": "code",
   "execution_count": 45,
   "metadata": {},
   "outputs": [
    {
     "data": {
      "text/plain": [
       "<AxesSubplot: >"
      ]
     },
     "execution_count": 45,
     "metadata": {},
     "output_type": "execute_result"
    },
    {
     "data": {
      "image/png": "[encoded data removed]",
      "text/plain": [
       "<Figure size 640x480 with 1 Axes>"
      ]
     },
     "metadata": {},
     "output_type": "display_data"
    }
   ],
   "source": [
    "df.Close.plot()"
   ]
  },
  {
   "cell_type": "code",
   "execution_count": 46,
   "metadata": {},
   "outputs": [
    {
     "data": {
      "text/plain": [
       "<AxesSubplot: >"
      ]
     },
     "execution_count": 46,
     "metadata": {},
     "output_type": "execute_result"
    },
    {
     "data": {
      "image/png": "[encoded data removed]",
      "text/plain": [
       "<Figure size 640x480 with 1 Axes>"
      ]
     },
     "metadata": {},
     "output_type": "display_data"
    }
   ],
   "source": [
    "df.Volume.plot()"
   ]
  },
  {
   "cell_type": "code",
   "execution_count": 47,
   "metadata": {},
   "outputs": [
    {
     "data": {
      "text/plain": [
       "<AxesSubplot: >"
      ]
     },
     "execution_count": 47,
     "metadata": {},
     "output_type": "execute_result"
    },
    {
     "data": {
      "image/png": "[encoded data removed]",
      "text/plain": [
       "<Figure size 640x480 with 1 Axes>"
      ]
     },
     "metadata": {},
     "output_type": "display_data"
    }
   ],
   "source": [
    "df.Close.plot.bar()"
   ]
  },
  {
   "cell_type": "code",
   "execution_count": 48,
   "metadata": {},
   "outputs": [
    {
     "data": {
      "text/plain": [
       "<AxesSubplot: >"
      ]
     },
     "execution_count": 48,
     "metadata": {},
     "output_type": "execute_result"
    },
    {
     "data": {
      "image/png": "[encoded data removed]",
      "text/plain": [
       "<Figure size 640x480 with 1 Axes>"
      ]
     },
     "metadata": {},
     "output_type": "display_data"
    }
   ],
   "source": [
    "df.Volume.plot.bar()"
   ]
  },
  {
   "cell_type": "code",
   "execution_count": 21,
   "metadata": {},
   "outputs": [
    {
     "data": {
      "text/html": [
       "<div>\n",
       "<style scoped>\n",
       "    .dataframe tbody tr th:only-of-type {\n",
       "        vertical-align: middle;\n",
       "    }\n",
       "\n",
       "    .dataframe tbody tr th {\n",
       "        vertical-align: top;\n",
       "    }\n",
       "\n",
       "    .dataframe thead th {\n",
       "        text-align: right;\n",
       "    }\n",
       "</style>\n",
       "<table border=\"1\" class=\"dataframe\">\n",
       "  <thead>\n",
       "    <tr style=\"text-align: right;\">\n",
       "      <th></th>\n",
       "      <th>seoul</th>\n",
       "      <th>busan</th>\n",
       "      <th>daegu</th>\n",
       "      <th>kwangju</th>\n",
       "      <th>total_city</th>\n",
       "      <th>diff(s-b)</th>\n",
       "    </tr>\n",
       "  </thead>\n",
       "  <tbody>\n",
       "    <tr>\n",
       "      <th>2020-01-01</th>\n",
       "      <td>3400</td>\n",
       "      <td>2100</td>\n",
       "      <td>3300</td>\n",
       "      <td>3300</td>\n",
       "      <td>12100</td>\n",
       "      <td>1300</td>\n",
       "    </tr>\n",
       "    <tr>\n",
       "      <th>2020-01-02</th>\n",
       "      <td>2300</td>\n",
       "      <td>2200</td>\n",
       "      <td>3000</td>\n",
       "      <td>2700</td>\n",
       "      <td>10200</td>\n",
       "      <td>100</td>\n",
       "    </tr>\n",
       "    <tr>\n",
       "      <th>2020-01-03</th>\n",
       "      <td>1200</td>\n",
       "      <td>1800</td>\n",
       "      <td>2100</td>\n",
       "      <td>900</td>\n",
       "      <td>6000</td>\n",
       "      <td>-600</td>\n",
       "    </tr>\n",
       "    <tr>\n",
       "      <th>2020-01-04</th>\n",
       "      <td>2110</td>\n",
       "      <td>2220</td>\n",
       "      <td>2240</td>\n",
       "      <td>2140</td>\n",
       "      <td>8710</td>\n",
       "      <td>-110</td>\n",
       "    </tr>\n",
       "    <tr>\n",
       "      <th>2020-01-05</th>\n",
       "      <td>3320</td>\n",
       "      <td>3110</td>\n",
       "      <td>3530</td>\n",
       "      <td>3200</td>\n",
       "      <td>13160</td>\n",
       "      <td>210</td>\n",
       "    </tr>\n",
       "    <tr>\n",
       "      <th>2020-01-06</th>\n",
       "      <td>1220</td>\n",
       "      <td>1420</td>\n",
       "      <td>1620</td>\n",
       "      <td>2020</td>\n",
       "      <td>6280</td>\n",
       "      <td>-200</td>\n",
       "    </tr>\n",
       "    <tr>\n",
       "      <th>2020-01-07</th>\n",
       "      <td>2000</td>\n",
       "      <td>2100</td>\n",
       "      <td>2200</td>\n",
       "      <td>2800</td>\n",
       "      <td>9100</td>\n",
       "      <td>-100</td>\n",
       "    </tr>\n",
       "    <tr>\n",
       "      <th>2020-01-08</th>\n",
       "      <td>4600</td>\n",
       "      <td>4530</td>\n",
       "      <td>4200</td>\n",
       "      <td>4000</td>\n",
       "      <td>17330</td>\n",
       "      <td>70</td>\n",
       "    </tr>\n",
       "    <tr>\n",
       "      <th>2020-01-09</th>\n",
       "      <td>2300</td>\n",
       "      <td>2200</td>\n",
       "      <td>1300</td>\n",
       "      <td>4300</td>\n",
       "      <td>10100</td>\n",
       "      <td>100</td>\n",
       "    </tr>\n",
       "    <tr>\n",
       "      <th>2020-01-10</th>\n",
       "      <td>3400</td>\n",
       "      <td>3100</td>\n",
       "      <td>4200</td>\n",
       "      <td>4000</td>\n",
       "      <td>14700</td>\n",
       "      <td>300</td>\n",
       "    </tr>\n",
       "  </tbody>\n",
       "</table>\n",
       "</div>"
      ],
      "text/plain": [
       "            seoul  busan  daegu  kwangju  total_city  diff(s-b)\n",
       "2020-01-01   3400   2100   3300     3300       12100       1300\n",
       "2020-01-02   2300   2200   3000     2700       10200        100\n",
       "2020-01-03   1200   1800   2100      900        6000       -600\n",
       "2020-01-04   2110   2220   2240     2140        8710       -110\n",
       "2020-01-05   3320   3110   3530     3200       13160        210\n",
       "2020-01-06   1220   1420   1620     2020        6280       -200\n",
       "2020-01-07   2000   2100   2200     2800        9100       -100\n",
       "2020-01-08   4600   4530   4200     4000       17330         70\n",
       "2020-01-09   2300   2200   1300     4300       10100        100\n",
       "2020-01-10   3400   3100   4200     4000       14700        300"
      ]
     },
     "execution_count": 21,
     "metadata": {},
     "output_type": "execute_result"
    }
   ],
   "source": [
    "import pandas as pd\n",
    "\n",
    "ls1 = [3400, 2300, 1200, 2110, 3320, 1220, 2000, 4600, 2300, 3400]\n",
    "\n",
    "ls2 = [2100, 2200, 1800, 2220, 3110, 1420, 2100, 4530, 2200, 3100]\n",
    "\n",
    "ls3 = [3300, 3000, 2100, 2240, 3530, 1620, 2200, 4200, 1300, 4200]\n",
    "\n",
    "ls4 = [3300, 2700, 900, 2140, 3200, 2020, 2800, 4000, 4300, 4000]\n",
    "\n",
    "dates = pd.date_range('2020-01-01', '2020-01-10')\n",
    "\n",
    "#seoul, busan, daegu, kwangju\n",
    "\n",
    "pd_ls1 = pd.Series(ls1, index=dates)\n",
    "pd_ls2 = pd.Series(ls2, index=dates)\n",
    "pd_ls3 = pd.Series(ls3, index=dates)\n",
    "pd_ls4 = pd.Series(ls4, index=dates)\n",
    "\n",
    "pd_ls_df = pd.DataFrame({'seoul':ls1, 'busan':ls2, 'daegu':ls3, 'kwangju':ls4}, index=dates)\n",
    "\n",
    "#print(pd_ls_df)\n",
    "\n",
    "pd_ls_df['total_city'] = pd_ls_df.sum(axis=1)\n",
    "\n",
    "#print(pd_ls_df)\n",
    "\n",
    "pd_ls_df['diff(s-b)'] = pd_ls_df['seoul'] - pd_ls_df['busan']\n",
    "\n",
    "pd_ls_df"
   ]
  },
  {
   "cell_type": "code",
   "execution_count": 20,
   "metadata": {},
   "outputs": [
    {
     "data": {
      "text/plain": [
       "<Axes: >"
      ]
     },
     "execution_count": 20,
     "metadata": {},
     "output_type": "execute_result"
    },
    {
     "data": {
      "image/png": "[encoded data removed]",
      "text/plain": [
       "<Figure size 640x480 with 1 Axes>"
      ]
     },
     "metadata": {},
     "output_type": "display_data"
    }
   ],
   "source": [
    "pd_ls_df['total_city'].plot(x)"
   ]
  }
 ],
 "metadata": {
  "kernelspec": {
   "display_name": "Python 3",
   "language": "python",
   "name": "python3"
  },
  "language_info": {
   "codemirror_mode": {
    "name": "ipython",
    "version": 3
   },
   "file_extension": ".py",
   "mimetype": "text/x-python",
   "name": "python",
   "nbconvert_exporter": "python",
   "pygments_lexer": "ipython3",
   "version": "3.8.7"
  }
 },
 "nbformat": 4,
 "nbformat_minor": 4
}
