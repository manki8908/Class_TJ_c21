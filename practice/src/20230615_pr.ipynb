{
 "cells": [
  {
   "cell_type": "code",
   "execution_count": 29,
   "metadata": {},
   "outputs": [],
   "source": [
    "import numpy as np\n",
    "import pandas as pd"
   ]
  },
  {
   "cell_type": "code",
   "execution_count": 5,
   "metadata": {},
   "outputs": [
    {
     "name": "stdout",
     "output_type": "stream",
     "text": [
      "<_io.TextIOWrapper name='../DATA//labels.json' mode='r' encoding='utf-8'>\n",
      "[{'id': 76811, 'url': 'https://api.github.com/repos/pandas-dev/pandas/labels/Bug', 'name': 'Bug', 'color': 'e10c02', 'default': False}, {'id': 76812, 'url': 'https://api.github.com/repos/pandas-dev/pandas/labels/Enhancement', 'name': 'Enhancement', 'color': '4E9A06', 'default': False}, {'id': 127681, 'url': 'https://api.github.com/repos/pandas-dev/pandas/labels/Refactor', 'name': 'Refactor', 'color': 'FCE94F', 'default': False}, {'id': 129350, 'url': 'https://api.github.com/repos/pandas-dev/pandas/labels/Build', 'name': 'Build', 'color': '75507B', 'default': False}, {'id': 134699, 'url': 'https://api.github.com/repos/pandas-dev/pandas/labels/Docs', 'name': 'Docs', 'color': '3465A4', 'default': False}, {'id': 233160, 'url': 'https://api.github.com/repos/pandas-dev/pandas/labels/Groupby', 'name': 'Groupby', 'color': '729FCF', 'default': False}, {'id': 2301354, 'url': 'https://api.github.com/repos/pandas-dev/pandas/labels/Data%20IO', 'name': 'Data IO', 'color': '06909A', 'default': False}, {'id': 2413328, 'url': 'https://api.github.com/repos/pandas-dev/pandas/labels/Visualization', 'name': 'Visualization', 'color': '8AE234', 'default': False}, {'id': 2822098, 'url': 'https://api.github.com/repos/pandas-dev/pandas/labels/Indexing', 'name': 'Indexing', 'color': '0b02e1', 'default': False}, {'id': 2822342, 'url': 'https://api.github.com/repos/pandas-dev/pandas/labels/Missing-data', 'name': 'Missing-data', 'color': 'd7e102', 'default': False}, {'id': 8935311, 'url': 'https://api.github.com/repos/pandas-dev/pandas/labels/Performance', 'name': 'Performance', 'color': 'a10c02', 'default': False}, {'id': 13098779, 'url': 'https://api.github.com/repos/pandas-dev/pandas/labels/Reshaping', 'name': 'Reshaping', 'color': '02d7e1', 'default': False}, {'id': 29648920, 'url': 'https://api.github.com/repos/pandas-dev/pandas/labels/Difficulty%20Novice', 'name': 'Difficulty Novice', 'color': 'fbca04', 'default': False}, {'id': 31404521, 'url': 'https://api.github.com/repos/pandas-dev/pandas/labels/Dtypes', 'name': 'Dtypes', 'color': 'e102d8', 'default': False}, {'id': 32933285, 'url': 'https://api.github.com/repos/pandas-dev/pandas/labels/Admin', 'name': 'Admin', 'color': 'DDDDDD', 'default': False}, {'id': 35818298, 'url': 'https://api.github.com/repos/pandas-dev/pandas/labels/API%20Design', 'name': 'API Design', 'color': 'AD7FA8', 'default': False}, {'id': 42670965, 'url': 'https://api.github.com/repos/pandas-dev/pandas/labels/Error%20Reporting', 'name': 'Error Reporting', 'color': 'ffa0ff', 'default': False}, {'id': 47223669, 'url': 'https://api.github.com/repos/pandas-dev/pandas/labels/Numeric', 'name': 'Numeric', 'color': '006b75', 'default': False}, {'id': 47229171, 'url': 'https://api.github.com/repos/pandas-dev/pandas/labels/IO%20CSV', 'name': 'IO CSV', 'color': '5319e7', 'default': False}, {'id': 47232590, 'url': 'https://api.github.com/repos/pandas-dev/pandas/labels/IO%20SQL', 'name': 'IO SQL', 'color': '5319e7', 'default': False}, {'id': 48070600, 'url': 'https://api.github.com/repos/pandas-dev/pandas/labels/CI', 'name': 'CI', 'color': 'a2bca7', 'default': False}, {'id': 49094459, 'url': 'https://api.github.com/repos/pandas-dev/pandas/labels/Internals', 'name': 'Internals', 'color': 'fbca04', 'default': False}, {'id': 49597148, 'url': 'https://api.github.com/repos/pandas-dev/pandas/labels/Timedelta', 'name': 'Timedelta', 'color': '5319e7', 'default': False}, {'id': 53181044, 'url': 'https://api.github.com/repos/pandas-dev/pandas/labels/Frequency', 'name': 'Frequency', 'color': '0052cc', 'default': False}, {'id': 57186974, 'url': 'https://api.github.com/repos/pandas-dev/pandas/labels/Windows', 'name': 'Windows', 'color': 'fbca04', 'default': False}, {'id': 57296398, 'url': 'https://api.github.com/repos/pandas-dev/pandas/labels/Algos', 'name': 'Algos', 'color': 'eb6420', 'default': False}, {'id': 60458168, 'url': 'https://api.github.com/repos/pandas-dev/pandas/labels/Timezones', 'name': 'Timezones', 'color': '5319e7', 'default': False}, {'id': 60635328, 'url': 'https://api.github.com/repos/pandas-dev/pandas/labels/Period', 'name': 'Period', 'color': 'eb6420', 'default': False}, {'id': 71268330, 'url': 'https://api.github.com/repos/pandas-dev/pandas/labels/MultiIndex', 'name': 'MultiIndex', 'color': '207de5', 'default': False}, {'id': 78527356, 'url': 'https://api.github.com/repos/pandas-dev/pandas/labels/Categorical', 'name': 'Categorical', 'color': 'e11d21', 'default': False}]\n",
      "76811\n"
     ]
    }
   ],
   "source": [
    "import json\n",
    "\n",
    "file = open(\"../DATA//labels.json\", mode='r', encoding=\"utf-8\")\n",
    "print(file)\n",
    "lines = json.load(file)\n",
    "print(lines)\n",
    "print(lines[0]['id'])"
   ]
  },
  {
   "cell_type": "code",
   "execution_count": 6,
   "metadata": {},
   "outputs": [
    {
     "name": "stdout",
     "output_type": "stream",
     "text": [
      "<class 'list'>\n",
      "30\n",
      "<class 'dict'>\n",
      "1 -> {'id': 76811, 'url': 'https://api.github.com/repos/pandas-dev/pandas/labels/Bug', 'name': 'Bug', 'color': 'e10c02', 'default': False}\n",
      "2 -> {'id': 76812, 'url': 'https://api.github.com/repos/pandas-dev/pandas/labels/Enhancement', 'name': 'Enhancement', 'color': '4E9A06', 'default': False}\n",
      "3 -> {'id': 127681, 'url': 'https://api.github.com/repos/pandas-dev/pandas/labels/Refactor', 'name': 'Refactor', 'color': 'FCE94F', 'default': False}\n",
      "4 -> {'id': 129350, 'url': 'https://api.github.com/repos/pandas-dev/pandas/labels/Build', 'name': 'Build', 'color': '75507B', 'default': False}\n",
      "5 -> {'id': 134699, 'url': 'https://api.github.com/repos/pandas-dev/pandas/labels/Docs', 'name': 'Docs', 'color': '3465A4', 'default': False}\n",
      "6 -> {'id': 233160, 'url': 'https://api.github.com/repos/pandas-dev/pandas/labels/Groupby', 'name': 'Groupby', 'color': '729FCF', 'default': False}\n",
      "7 -> {'id': 2301354, 'url': 'https://api.github.com/repos/pandas-dev/pandas/labels/Data%20IO', 'name': 'Data IO', 'color': '06909A', 'default': False}\n",
      "8 -> {'id': 2413328, 'url': 'https://api.github.com/repos/pandas-dev/pandas/labels/Visualization', 'name': 'Visualization', 'color': '8AE234', 'default': False}\n",
      "9 -> {'id': 2822098, 'url': 'https://api.github.com/repos/pandas-dev/pandas/labels/Indexing', 'name': 'Indexing', 'color': '0b02e1', 'default': False}\n",
      "10 -> {'id': 2822342, 'url': 'https://api.github.com/repos/pandas-dev/pandas/labels/Missing-data', 'name': 'Missing-data', 'color': 'd7e102', 'default': False}\n",
      "11 -> {'id': 8935311, 'url': 'https://api.github.com/repos/pandas-dev/pandas/labels/Performance', 'name': 'Performance', 'color': 'a10c02', 'default': False}\n",
      "12 -> {'id': 13098779, 'url': 'https://api.github.com/repos/pandas-dev/pandas/labels/Reshaping', 'name': 'Reshaping', 'color': '02d7e1', 'default': False}\n",
      "13 -> {'id': 29648920, 'url': 'https://api.github.com/repos/pandas-dev/pandas/labels/Difficulty%20Novice', 'name': 'Difficulty Novice', 'color': 'fbca04', 'default': False}\n",
      "14 -> {'id': 31404521, 'url': 'https://api.github.com/repos/pandas-dev/pandas/labels/Dtypes', 'name': 'Dtypes', 'color': 'e102d8', 'default': False}\n",
      "15 -> {'id': 32933285, 'url': 'https://api.github.com/repos/pandas-dev/pandas/labels/Admin', 'name': 'Admin', 'color': 'DDDDDD', 'default': False}\n",
      "16 -> {'id': 35818298, 'url': 'https://api.github.com/repos/pandas-dev/pandas/labels/API%20Design', 'name': 'API Design', 'color': 'AD7FA8', 'default': False}\n",
      "17 -> {'id': 42670965, 'url': 'https://api.github.com/repos/pandas-dev/pandas/labels/Error%20Reporting', 'name': 'Error Reporting', 'color': 'ffa0ff', 'default': False}\n",
      "18 -> {'id': 47223669, 'url': 'https://api.github.com/repos/pandas-dev/pandas/labels/Numeric', 'name': 'Numeric', 'color': '006b75', 'default': False}\n",
      "19 -> {'id': 47229171, 'url': 'https://api.github.com/repos/pandas-dev/pandas/labels/IO%20CSV', 'name': 'IO CSV', 'color': '5319e7', 'default': False}\n",
      "20 -> {'id': 47232590, 'url': 'https://api.github.com/repos/pandas-dev/pandas/labels/IO%20SQL', 'name': 'IO SQL', 'color': '5319e7', 'default': False}\n",
      "21 -> {'id': 48070600, 'url': 'https://api.github.com/repos/pandas-dev/pandas/labels/CI', 'name': 'CI', 'color': 'a2bca7', 'default': False}\n",
      "22 -> {'id': 49094459, 'url': 'https://api.github.com/repos/pandas-dev/pandas/labels/Internals', 'name': 'Internals', 'color': 'fbca04', 'default': False}\n",
      "23 -> {'id': 49597148, 'url': 'https://api.github.com/repos/pandas-dev/pandas/labels/Timedelta', 'name': 'Timedelta', 'color': '5319e7', 'default': False}\n",
      "24 -> {'id': 53181044, 'url': 'https://api.github.com/repos/pandas-dev/pandas/labels/Frequency', 'name': 'Frequency', 'color': '0052cc', 'default': False}\n",
      "25 -> {'id': 57186974, 'url': 'https://api.github.com/repos/pandas-dev/pandas/labels/Windows', 'name': 'Windows', 'color': 'fbca04', 'default': False}\n",
      "26 -> {'id': 57296398, 'url': 'https://api.github.com/repos/pandas-dev/pandas/labels/Algos', 'name': 'Algos', 'color': 'eb6420', 'default': False}\n",
      "27 -> {'id': 60458168, 'url': 'https://api.github.com/repos/pandas-dev/pandas/labels/Timezones', 'name': 'Timezones', 'color': '5319e7', 'default': False}\n",
      "28 -> {'id': 60635328, 'url': 'https://api.github.com/repos/pandas-dev/pandas/labels/Period', 'name': 'Period', 'color': 'eb6420', 'default': False}\n",
      "29 -> {'id': 71268330, 'url': 'https://api.github.com/repos/pandas-dev/pandas/labels/MultiIndex', 'name': 'MultiIndex', 'color': '207de5', 'default': False}\n",
      "30 -> {'id': 78527356, 'url': 'https://api.github.com/repos/pandas-dev/pandas/labels/Categorical', 'name': 'Categorical', 'color': 'e11d21', 'default': False}\n",
      "<class 'pandas.core.frame.DataFrame'>\n",
      "RangeIndex: 30 entries, 0 to 29\n",
      "Data columns (total 5 columns):\n",
      " #   Column   Non-Null Count  Dtype \n",
      "---  ------   --------------  ----- \n",
      " 0   id       30 non-null     int64 \n",
      " 1   url      30 non-null     object\n",
      " 2   name     30 non-null     object\n",
      " 3   color    30 non-null     object\n",
      " 4   default  30 non-null     bool  \n",
      "dtypes: bool(1), int64(1), object(3)\n",
      "memory usage: 1.1+ KB\n",
      "None\n",
      "       id                                                url         name  \\\n",
      "0   76811  https://api.github.com/repos/pandas-dev/pandas...          Bug   \n",
      "1   76812  https://api.github.com/repos/pandas-dev/pandas...  Enhancement   \n",
      "2  127681  https://api.github.com/repos/pandas-dev/pandas...     Refactor   \n",
      "3  129350  https://api.github.com/repos/pandas-dev/pandas...        Build   \n",
      "4  134699  https://api.github.com/repos/pandas-dev/pandas...         Docs   \n",
      "\n",
      "    color  default  \n",
      "0  e10c02    False  \n",
      "1  4E9A06    False  \n",
      "2  FCE94F    False  \n",
      "3  75507B    False  \n",
      "4  3465A4    False  \n",
      "labels 레코드 삽입\n"
     ]
    }
   ],
   "source": [
    "'''\n",
    "json -> db table\n",
    "  1. json file read\n",
    "  2. DataFrame 생성\n",
    "  3. table 생성/레코드 추가(json data)\n",
    "  4. table에 레코드 조회\n",
    "\n",
    "json file decoding\n",
    "  - json file(json 문자열) -> python dict\n",
    "  1. {key:value, key:value} -> row : usagov_bitly.txt\n",
    "      json.loads()\n",
    "  2. [{row1}, {row2}, {rown}] -> list[{}] : labels.json\n",
    "      json.load()\n",
    "'''\n",
    "import json\n",
    "\n",
    "# 1. json file decoding\n",
    "file = open(\"../DATA/labels.json\", mode='r', encoding=\"utf-8\")\n",
    "#lines = file.read()\n",
    "#print(lines)\n",
    "# decoding : json 문자열 -> dict\n",
    "lines = json.load(file)\n",
    "print(type(lines)) # <class 'list'>\n",
    "print(len(lines)) # 30\n",
    "print(type(lines[0])) # <class 'dict'>\n",
    "\n",
    "# row 단위 출력\n",
    "cnt = 0\n",
    "for line in lines :\n",
    "    cnt += 1\n",
    "    print(cnt, '->', line)\n",
    "\n",
    "# 2. DataFrame 생성\n",
    "import pandas as pd\n",
    "df = pd.DataFrame(lines)\n",
    "print(df.info())\n",
    "'''\n",
    "<class 'pandas.core.frame.DataFrame'>\n",
    "RangeIndex: 30 entries, 0 to 29\n",
    "Data columns (total 5 columns):\n",
    "id         30 non-null int64 -> int\n",
    "url        30 non-null object -> varchar()\n",
    "name       30 non-null object -> varchar()\n",
    "color      30 non-null object -> varchar()\n",
    "default    30 non-null bool -> str -> varchar()\n",
    "'''\n",
    "print(df.head())\n",
    "\n",
    "# 3. db table 생성 -> 레코드 추가\n",
    "import pymysql\n",
    "config = {\n",
    "    'host' : '127.0.0.1',\n",
    "    'user' : 'root',\n",
    "    'password' : '0000',\n",
    "    'database' : 'work',\n",
    "    'port' : 3306,\n",
    "    'charset':'utf8',\n",
    "    'use_unicode' : True}\n",
    "\n",
    "try :\n",
    "    conn = pymysql.connect(**config)\n",
    "    cursor = conn.cursor()\n",
    "\n",
    "    # table 생성\n",
    "    sql = \"\"\"create table if not exists labels(\n",
    "    id int not null, \n",
    "    url varchar(150) not null,\n",
    "    name varchar(50) not null,\n",
    "    color varchar(50) not null,\n",
    "    de char(5) \n",
    "    )\"\"\"\n",
    "    cursor.execute(sql) # table 생성\n",
    "\n",
    "    # 레코드 조회\n",
    "    cursor.execute(\"select * from labels\")\n",
    "    rows = cursor.fetchall()\n",
    "    if rows :\n",
    "        print(\"labels 레코드 조회\")\n",
    "        for row in rows :\n",
    "            print(row)\n",
    "\n",
    "        print(\"전체 레코드 수 :\", len(rows))\n",
    "    else :\n",
    "        print(\"labels 레코드 삽입\")\n",
    "        for i in range(30) :\n",
    "            uid = df.id[i] # df['column'] or df.column\n",
    "            url = df.url[i]\n",
    "            name = df.name[i]\n",
    "            color = df.color[i]\n",
    "            de = str(df.default[i]) # bool -> str\n",
    "            sql = f\"insert into labels values({uid},'{url}','{name}','{color}','{de}')\"\n",
    "            cursor.execute(sql)\n",
    "            conn.commit() # db 반영\n",
    "except Exception as e:\n",
    "    print(\"db error : \", e)\n",
    "finally:\n",
    "    cursor.close()\n",
    "    conn.close()"
   ]
  },
  {
   "cell_type": "code",
   "execution_count": 9,
   "metadata": {},
   "outputs": [
    {
     "name": "stdout",
     "output_type": "stream",
     "text": [
      "1         5\n",
      "2        11\n",
      "3        14\n",
      "4        30\n",
      "5        33\n",
      "6        38\n",
      "bonus    24\n",
      "dtype: int64\n"
     ]
    }
   ],
   "source": [
    "#d = {'a': 1, 'b': 2, 'c': 3}\n",
    "d = [5,11,14,30,33,38,24]\n",
    "ser = pd.Series(data=d, index=['1', '2', '3', '4', '5', '6', 'bonus'])\n",
    "\n",
    "print(ser)"
   ]
  },
  {
   "cell_type": "code",
   "execution_count": 11,
   "metadata": {},
   "outputs": [
    {
     "name": "stdout",
     "output_type": "stream",
     "text": [
      "a    5\n",
      "b    2\n",
      "c    3\n",
      "dtype: int64\n"
     ]
    }
   ],
   "source": [
    "data = pd.Series(dict(a=5, b=2, c=3))\n",
    "print(data)"
   ]
  },
  {
   "cell_type": "code",
   "execution_count": 39,
   "metadata": {},
   "outputs": [
    {
     "name": "stdout",
     "output_type": "stream",
     "text": [
      "-홍길동---이순신---강감찬---유관순---강환석--\n",
      "\n",
      "-53.33점--60.00점--93.33점--83.33점--95.00점-"
     ]
    }
   ],
   "source": [
    "jumsu = {\n",
    "\n",
    "'홍길동' : [50,60,50],\n",
    "\n",
    "'이순신' : [60,60,60],\n",
    "\n",
    "'강감찬' : [100,90,90],\n",
    "\n",
    "'유관순' : [80,80,90],\n",
    "\n",
    "'강환석' : [95,95,95],\n",
    "\n",
    "}\n",
    "\n",
    "out = pd.DataFrame(jumsu)\n",
    "\n",
    "for a, _ in out.items():\n",
    "    print(f\"-{a}--\", end=\"\")\n",
    "print(\"\\n\")\n",
    "for _, b in out.items():\n",
    "    print(f\"-{np.mean(b):3.2f}점-\", end=\"\")\n"
   ]
  }
 ],
 "metadata": {
  "kernelspec": {
   "display_name": "Python 3",
   "language": "python",
   "name": "python3"
  },
  "language_info": {
   "codemirror_mode": {
    "name": "ipython",
    "version": 3
   },
   "file_extension": ".py",
   "mimetype": "text/x-python",
   "name": "python",
   "nbconvert_exporter": "python",
   "pygments_lexer": "ipython3",
   "version": "3.8.7"
  },
  "orig_nbformat": 4
 },
 "nbformat": 4,
 "nbformat_minor": 2
}
