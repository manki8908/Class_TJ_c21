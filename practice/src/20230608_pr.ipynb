{
 "cells": [
  {
   "cell_type": "code",
   "execution_count": 3,
   "metadata": {},
   "outputs": [
    {
     "name": "stdout",
     "output_type": "stream",
     "text": [
      "~~객체 생성~~\n",
      "div =  2.0\n",
      "squ =  16\n"
     ]
    }
   ],
   "source": [
    "# 클래스 정의\n",
    "class calc_class :\n",
    "    # 클래스 변수: 자료저장\n",
    "    num1 : int # 피연산자1\n",
    "    num2 : int # 피연산자2\n",
    "\n",
    "\n",
    "    # 생성자 : 객체 생성 + [멤버변수 초기화]\n",
    "    def __init__(self, a, b):\n",
    "        print('~~객체 생성~~')\n",
    "        self.num1 = a # 10\n",
    "        self.num2 = b # 20\n",
    "\n",
    "\n",
    "    # 클래스 함수 / 멤버 함수(기능)\n",
    "    def plus(self): # self : 멤버(변수+함수) 참조 객체\n",
    "        p = self.x + self.y\n",
    "        # p : 지역변수\n",
    "        # self.x, self.y : 전역변수  \n",
    "        return p\n",
    "    \n",
    "\n",
    "    # 클래스 함수 / 멤버 함수(기능)\n",
    "    def minus(self):\n",
    "        m = self.x - self.y\n",
    "        return m\n",
    "    \n",
    "\n",
    "    def div(self):\n",
    "        d = self.num1 / self.num2\n",
    "        return d\n",
    "    \n",
    "    def squ(self):\n",
    "        squr = self.num1 ** self.num2\n",
    "        return squr\n",
    "\n",
    "\n",
    "a = int(input(\"정수를 입력하세요: \"))\n",
    "b = int(input(\"정수를 입력하세요: \"))\n",
    "\n",
    "# class(1) -> object(n) 생성\n",
    "obj1 = calc_class(a, b) # 생성자 -> 객체1  \n",
    "\n",
    "# object.member()  \n",
    "\n",
    "print('div = ', obj1.div()) # plus =  30\n",
    "print('squ = ', obj1.squ()) # minus = -10"
   ]
  },
  {
   "cell_type": "code",
   "execution_count": 8,
   "metadata": {},
   "outputs": [
    {
     "name": "stdout",
     "output_type": "stream",
     "text": [
      "div =  2.0\n",
      "squ =  16\n"
     ]
    }
   ],
   "source": [
    "# 클래스 정의\n",
    "class calc_class12 :\n",
    "    # 클래스 변수: 자료저장\n",
    "    num1 : int # 피연산자1\n",
    "    num2 : int # 피연산자2\n",
    "\n",
    "    def member_clear(self, a, b):\n",
    "        self.num1 = a\n",
    "        self.num2 = b\n",
    "\n",
    "    # 클래스 함수 / 멤버 함수(기능)\n",
    "    def plus(self): # self : 멤버(변수+함수) 참조 객체\n",
    "        p = self.num1 + self.num2\n",
    "        # p : 지역변수\n",
    "        # self.x, self.y : 전역변수  \n",
    "        return p\n",
    "    \n",
    "    # 클래스 함수 / 멤버 함수(기능)\n",
    "    def minus(self):\n",
    "        m = self.num1 - self.num2\n",
    "        return m\n",
    "    \n",
    "    def div(self):\n",
    "        d = self.num1 / self.num2\n",
    "        return d\n",
    "    \n",
    "    def squ(self):\n",
    "        squr = self.num1 ** self.num2\n",
    "        return squr\n",
    "\n",
    "\n",
    "# class(1) -> object(n) 생성\n",
    "obj1 = calc_class12() # 생성자 -> 객체1  \n",
    "\n",
    "a = int(input(\"정수를 입력하세요: \"))\n",
    "b = int(input(\"정수를 입력하세요: \"))\n",
    "obj1.member_clear(a,b)\n",
    "# object.member()  \n",
    "\n",
    "print('div = ', obj1.div()) # plus =  30\n",
    "print('squ = ', obj1.squ()) # minus = -10"
   ]
  },
  {
   "cell_type": "code",
   "execution_count": 15,
   "metadata": {},
   "outputs": [
    {
     "name": "stdout",
     "output_type": "stream",
     "text": [
      "나눗셈연산은 0으로 나누기가 불가능합니다. 다시 입력하세요\n",
      "나눗셈은:  None\n",
      "div =  None\n",
      "squ =  1\n"
     ]
    }
   ],
   "source": [
    "# 클래스 정의\n",
    "class calc_class13 :\n",
    "    # 클래스 변수: 자료저장\n",
    "    num1 : int # 피연산자1\n",
    "    num2 : int # 피연산자2\n",
    "\n",
    "    def member_clear(self, a, b):\n",
    "        self.num1 = a\n",
    "        self.num2 = b\n",
    "\n",
    "    # 클래스 함수 / 멤버 함수(기능)\n",
    "    def plus(self): # self : 멤버(변수+함수) 참조 객체\n",
    "        p = self.num1 + self.num2\n",
    "        # p : 지역변수\n",
    "        # self.x, self.y : 전역변수  \n",
    "        return p\n",
    "    \n",
    "    # 클래스 함수 / 멤버 함수(기능)\n",
    "    def minus(self):\n",
    "        m = self.num1 - self.num2\n",
    "        return m\n",
    "    \n",
    "    def div(self):\n",
    "        try:\n",
    "            d = self.num1 / self.num2\n",
    "        except:\n",
    "            print(\"나눗셈연산은 0으로 나누기가 불가능합니다. 다시 입력하세요\")\n",
    "            d = None\n",
    "            print(\"나눗셈은: \", d)\n",
    "        return d\n",
    "    \n",
    "    def squ(self):\n",
    "        squr = self.num1 ** self.num2\n",
    "        return squr\n",
    "\n",
    "\n",
    "# class(1) -> object(n) 생성\n",
    "obj1 = calc_class13() # 생성자 -> 객체1  \n",
    "\n",
    "a = int(input(\"정수를 입력하세요: \"))\n",
    "b = int(input(\"정수를 입력하세요: \"))\n",
    "obj1.member_clear(a,b)\n",
    "# object.member()  \n",
    "\n",
    "print('div = ', obj1.div()) # plus =  30\n",
    "print('squ = ', obj1.squ()) # minus = -10"
   ]
  }
 ],
 "metadata": {
  "kernelspec": {
   "display_name": "Python 3",
   "language": "python",
   "name": "python3"
  },
  "language_info": {
   "codemirror_mode": {
    "name": "ipython",
    "version": 3
   },
   "file_extension": ".py",
   "mimetype": "text/x-python",
   "name": "python",
   "nbconvert_exporter": "python",
   "pygments_lexer": "ipython3",
   "version": "3.8.7"
  },
  "orig_nbformat": 4
 },
 "nbformat": 4,
 "nbformat_minor": 2
}
