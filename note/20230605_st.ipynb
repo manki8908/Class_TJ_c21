{
 "cells": [
  {
   "attachments": {},
   "cell_type": "markdown",
   "metadata": {},
   "source": [
    "### 20230605 st\n",
    "\n",
    "* 질문\n",
    "  * mariaDB가 MYSQL하고 거의 똑같은건데 다른건 무엇인지\n",
    "\n",
    "* 매개변수\n",
    "  * 함수의 정의 부분\n",
    "* 인수\n",
    "  * 함수의 호출 부분\n",
    "\n",
    "* if __name__ == \"__main__\"\n",
    "  * 시작점\n",
    "  * import 시 출력 안됨\n",
    "\n",
    "* 프로그램 종료방법\n",
    "  * exit(0): 정상적으로 종료\n",
    "  * exit(1): 강제 종료\n",
    "\n",
    "* 메소드\n",
    "  * "
   ]
  },
  {
   "cell_type": "code",
   "execution_count": null,
   "metadata": {},
   "outputs": [],
   "source": []
  }
 ],
 "metadata": {
  "language_info": {
   "name": "python"
  },
  "orig_nbformat": 4
 },
 "nbformat": 4,
 "nbformat_minor": 2
}
