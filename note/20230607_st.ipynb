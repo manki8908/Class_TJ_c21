{
 "cells": [
  {
   "attachments": {},
   "cell_type": "markdown",
   "metadata": {},
   "source": [
    "### 객체지향(C의 포인터가 )\n",
    "* 참조형 변수: 변수를 할당하면\n",
    "  * 변수의 값을 먼저 객체로 저장된후\n",
    "  * 객체의 주소가 변수에 저장됨\n",
    "### CLASS\n",
    "* class: 객체를 만들기 위한 프레임(틀)\n",
    "* 객체: class로 만들어지는 대상의 개념\n",
    "* instance: class로 만들어진 현 결과물\n",
    "    * public, private 특성을 가짐\n",
    "    * header(멤버/class 변수), body(생성자메소드, 멤버메소드, 소멸자메소드) 부분으로 나뉨\n",
    "      * class 변수: 클래스의 변수 초기화, self.변수로 동적할당 가능\n",
    "        * class 변수, self.변수 모두 전역변수\n",
    "### 함수\n",
    "* class 밖에 있는 함수들"
   ]
  },
  {
   "cell_type": "code",
   "execution_count": null,
   "metadata": {},
   "outputs": [],
   "source": []
  }
 ],
 "metadata": {
  "language_info": {
   "name": "python"
  },
  "orig_nbformat": 4
 },
 "nbformat": 4,
 "nbformat_minor": 2
}
