{
 "cells": [
  {
   "attachments": {},
   "cell_type": "markdown",
   "metadata": {},
   "source": [
    "### 객체지향(C의 포인터가 )\n",
    "* 참조형 변수: 변수를 할당하면\n",
    "  * 변수의 값을 먼저 객체로 저장된후\n",
    "  * 객체의 주소가 변수에 저장됨\n",
    "### CLASS\n",
    "* class: 객체를 만들기 위한 프레임(틀)\n",
    "* 객체: class로 만들어지는 대상의 개념\n",
    "* instance: class로 만들어진 현 결과물\n",
    "* 클래스 자체를 호출할 수 있음\n",
    "* 클래스로 객체를 생성한 인스턴스를 호출 할 수 있음\n",
    "* cls: 클래스의 변수, 메서드 호출\n",
    "* self: 인스턴스의 변수, 메서드를 호출\n",
    "* public(전역변수)\n",
    "  * cls, self 변수들\n",
    "* private 특성을 가짐\n",
    "  * 그외 클래스 내부에서만 쓰이는 변수들\n",
    "* 클래스 구성\n",
    "  * header(멤버/class 변수)\n",
    "  * body(생성자메소드, 멤버메소드, 소멸자메소드)\n",
    "  * class 변수: 클래스의 변수 초기화, self.변수로 동적할당 가능\n",
    "\n",
    "* __init__: 생성자\n",
    "  * 클래스의 멤버 변수 동적할당(객체 변수 초기화)\n",
    "* __del__: 소멸자\n",
    "\n",
    "### 함수\n",
    "* class 밖에 있는 함수들"
   ]
  },
  {
   "cell_type": "code",
   "execution_count": null,
   "metadata": {},
   "outputs": [],
   "source": []
  }
 ],
 "metadata": {
  "language_info": {
   "name": "python"
  },
  "orig_nbformat": 4
 },
 "nbformat": 4,
 "nbformat_minor": 2
}
