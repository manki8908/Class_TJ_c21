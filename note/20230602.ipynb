{
 "cells": [
  {
   "attachments": {},
   "cell_type": "markdown",
   "metadata": {},
   "source": [
    "* 네트워크  기초, TCP/IP, port, 등등\n",
    "* port\n",
    "  * 전송 전용차로 개념\n",
    "  * ftp, mysql, 등등 서비스 별로 포트 번호를 가지고 있음"
   ]
  }
 ],
 "metadata": {
  "kernelspec": {
   "display_name": "Python 3",
   "language": "python",
   "name": "python3"
  },
  "language_info": {
   "name": "python",
   "version": "3.8.7"
  },
  "orig_nbformat": 4
 },
 "nbformat": 4,
 "nbformat_minor": 2
}
