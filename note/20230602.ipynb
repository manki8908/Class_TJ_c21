{
 "cells": [
  {
   "attachments": {},
   "cell_type": "markdown",
   "metadata": {},
   "source": [
    "* 네트워크  기초, TCP/IP, port, 등등\n",
    "* port\n",
    "  * 전송 전용차로 개념\n",
    "  * ftp, mysql, 등등 서비스 별로 포트 번호를 가지고 있음\n",
    "* os.system(\"pause\")\n",
    "  * 계속하려면 아무 키나 누르십시오. 혹은 계속하려면 <Enter> 키를 누르십시오.:와 같은 문구가 자동으로 출력된다. 프로그램이 종료된 후 터미널이 자동으로 닫히지 않게 하기 위해 쓰는 경우가 많다."
   ]
  }
 ],
 "metadata": {
  "kernelspec": {
   "display_name": "Python 3",
   "language": "python",
   "name": "python3"
  },
  "language_info": {
   "name": "python",
   "version": "3.8.7"
  },
  "orig_nbformat": 4
 },
 "nbformat": 4,
 "nbformat_minor": 2
}
