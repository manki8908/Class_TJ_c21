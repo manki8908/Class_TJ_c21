{
 "cells": [
  {
   "attachments": {},
   "cell_type": "markdown",
   "metadata": {},
   "source": [
    "### 20230614\n",
    "* 챗봇 시스템\n",
    "  * 화장품쇼핑몰 사용자를 위한 챗봇시스템\n",
    "  * 연구실 구성원을 위한 챗봇시스템\n",
    "  * 컴퓨터용품 AS센터 챗봇시스템\n",
    "  * 사람이 타이핑한 글자를 인식\n",
    "\n",
    "* 프로그램: abc.exe\n",
    "* 프로세스: 프로그램이 동적인 메모리로 실행되어 있는 상태\n",
    "* 소멸자: 특정 인스턴스를 강제로 내릴때"
   ]
  },
  {
   "attachments": {},
   "cell_type": "markdown",
   "metadata": {},
   "source": [
    "### 20230615\n",
    "* 데이터랭글링(필터링): 데이터 전처리\n",
    "* ```__dict__```: self, 인스턴스 변수에 접근"
   ]
  },
  {
   "attachments": {},
   "cell_type": "markdown",
   "metadata": {},
   "source": [
    "### 20230619\n",
    "* 토크나이징\n",
    "  * 토큰: 문장에서 의미가 있는 가장작은 단위\n",
    "  * 문장을 토큰 단위로 나눔\n",
    "* 형태소 분석기\n",
    "  * 형태소: 언어의 가장작은 단위\n",
    "  * 형태소 분석기: 언어를 각종 품사 단위로 쪼개고, 단어와 품사를 태깅\n",
    "  * 단어를 어떻게 쪼개는냐에 따라 모델의 성능이 달라짐\n",
    "* 한국어 자연어 처리\n",
    "  * KoNLPy\n",
    "    * 오픈소스 라이브러리(konlpy.org/ko/latest)\n",
    "    * \n",
    "    * 설치방법: https://konlpy.org/ko/latest/install/#id2"
   ]
  }
 ],
 "metadata": {
  "language_info": {
   "name": "python"
  },
  "orig_nbformat": 4
 },
 "nbformat": 4,
 "nbformat_minor": 2
}
